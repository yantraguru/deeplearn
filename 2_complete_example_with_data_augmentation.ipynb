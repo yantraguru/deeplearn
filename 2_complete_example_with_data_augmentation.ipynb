{
 "cells": [
  {
   "cell_type": "code",
   "execution_count": 1,
   "metadata": {},
   "outputs": [
    {
     "data": {
      "text/html": [
       "<style>.container { width:85% !important; }</style>"
      ],
      "text/plain": [
       "<IPython.core.display.HTML object>"
      ]
     },
     "metadata": {},
     "output_type": "display_data"
    }
   ],
   "source": [
    "from IPython.core.display import display, HTML\n",
    "display(HTML(\"<style>.container { width:85% !important; }</style>\"))"
   ]
  },
  {
   "cell_type": "code",
   "execution_count": 2,
   "metadata": {},
   "outputs": [],
   "source": [
    "import os\n",
    "import time\n",
    "import numpy as np\n",
    "import pandas as pd\n",
    "\n",
    "from os import listdir\n",
    "from io import BytesIO\n",
    "import requests\n",
    "\n",
    "import tensorflow as tf\n",
    "from tensorflow import keras\n",
    "from tensorflow.keras import layers,models,utils\n",
    "from tensorflow.keras.layers import Dense,Flatten\n",
    "from tensorflow.keras.preprocessing.image import ImageDataGenerator\n",
    "from tensorflow.keras.callbacks import EarlyStopping\n",
    "\n",
    "from scipy import stats\n",
    "from sklearn import preprocessing\n",
    "\n",
    "from sklearn.metrics import confusion_matrix\n",
    "from sklearn.metrics import roc_curve, auc\n",
    "\n",
    "import PIL\n",
    "from PIL import Image\n",
    "\n",
    "import seaborn as sns\n",
    "from matplotlib.pyplot import imshow\n",
    "import matplotlib.pyplot as plt"
   ]
  },
  {
   "cell_type": "code",
   "execution_count": 3,
   "metadata": {},
   "outputs": [
    {
     "name": "stdout",
     "output_type": "stream",
     "text": [
      "Default GPU Device: /device:GPU:0\n"
     ]
    }
   ],
   "source": [
    "if tf.test.gpu_device_name():\n",
    "    print('Default GPU Device: {}'.format(tf.test.gpu_device_name()))\n",
    "else:\n",
    "    print(\"Please install GPU version of TF\")"
   ]
  },
  {
   "cell_type": "code",
   "execution_count": 4,
   "metadata": {},
   "outputs": [],
   "source": [
    "DATA_DIR = 'data/caps_and_shoes_squared/'\n",
    "IMAGE_SIZE = (28,28)\n",
    "CLASS_LIST = ['cap','shoes']\n",
    "BATCH_SIZE = 32\n",
    "\n",
    "train_path = DATA_DIR + 'train'\n",
    "validation_path = DATA_DIR + 'val'\n",
    "test_path = DATA_DIR + 'test'"
   ]
  },
  {
   "cell_type": "code",
   "execution_count": 18,
   "metadata": {},
   "outputs": [],
   "source": [
    "def plot_images(ims, figsize=(24,12), rows=1, interp=False, titles=None):\n",
    "    f = plt.figure(figsize=figsize)\n",
    "    cols = len(ims)//rows if len(ims) % 2 == 0 else len(ims)//rows + 1\n",
    "    for i in range(len(ims)):\n",
    "        sp = f.add_subplot(rows, cols, i+1)\n",
    "        sp.axis('Off')\n",
    "        if titles is not None:\n",
    "            sp.set_title(titles[i], fontsize=18)\n",
    "        \n",
    "        plt.imshow(ims[i].reshape(28,28), cmap=\"gray\")"
   ]
  },
  {
   "cell_type": "code",
   "execution_count": 44,
   "metadata": {},
   "outputs": [
    {
     "name": "stdout",
     "output_type": "stream",
     "text": [
      "Found 1832 images belonging to 2 classes.\n",
      "Found 457 images belonging to 2 classes.\n",
      "Found 2289 images belonging to 2 classes.\n",
      "Found 670 images belonging to 2 classes.\n",
      "Found 326 images belonging to 2 classes.\n"
     ]
    }
   ],
   "source": [
    "test_img_generator = ImageDataGenerator( rescale = 1./255)\n",
    "img_generator = ImageDataGenerator(rescale = 1./255, rotation_range = 10, width_shift_range = 0.1, height_shift_range=0.1, zoom_range = 0.1, \n",
    "                                   horizontal_flip=True, fill_mode='nearest')\n",
    "train_validation_img_generator = ImageDataGenerator(validation_split=0.2, rescale = 1./255, rotation_range = 10, width_shift_range = 0.1, height_shift_range=0.1, zoom_range = 0.1, \n",
    "                                   horizontal_flip=True, fill_mode='nearest')\n",
    "\n",
    "train_partial_batches = train_validation_img_generator.flow_from_directory(train_path, target_size=IMAGE_SIZE, classes=CLASS_LIST, color_mode = 'grayscale', \n",
    "                                                  class_mode = 'categorical', batch_size=BATCH_SIZE, subset='training')\n",
    "\n",
    "train_validation_batches = train_validation_img_generator.flow_from_directory(train_path, target_size=IMAGE_SIZE, classes=CLASS_LIST, color_mode = 'grayscale', \n",
    "                                                  class_mode = 'categorical', batch_size=BATCH_SIZE, subset='validation')\n",
    "\n",
    "train_full_batches = img_generator.flow_from_directory(train_path, target_size=IMAGE_SIZE, classes=CLASS_LIST, color_mode = 'grayscale', \n",
    "                                                  class_mode = 'categorical', batch_size=BATCH_SIZE)\n",
    "\n",
    "validation_batches = img_generator.flow_from_directory(validation_path, target_size=IMAGE_SIZE, classes=CLASS_LIST, color_mode = 'grayscale', \n",
    "                                                  class_mode = 'categorical', batch_size=BATCH_SIZE)\n",
    "test_batches = test_img_generator.flow_from_directory(test_path, target_size=IMAGE_SIZE, classes=CLASS_LIST, color_mode = 'grayscale', \n",
    "                                                  class_mode = 'categorical',batch_size=1, shuffle=False)"
   ]
  },
  {
   "cell_type": "code",
   "execution_count": 45,
   "metadata": {},
   "outputs": [],
   "source": [
    "es_callback = EarlyStopping(monitor='val_accuracy', mode='max', verbose=1, patience=36, min_delta=0.001, restore_best_weights = True)"
   ]
  },
  {
   "cell_type": "code",
   "execution_count": 46,
   "metadata": {},
   "outputs": [],
   "source": [
    "def define_model_architecture_64_32_16():\n",
    "    model = models.Sequential()\n",
    "    model.add(Flatten(input_shape = (28,28,1)))\n",
    "    model.add(Dense(64, activation='relu'))\n",
    "    model.add(Dense(32, activation='relu'))\n",
    "    model.add(Dense(16, activation='relu'))\n",
    "    model.add(Dense(2, activation='softmax'))\n",
    "    \n",
    "    model.compile(optimizer='sgd', loss='binary_crossentropy', metrics=['accuracy'])\n",
    "    return model"
   ]
  },
  {
   "cell_type": "code",
   "execution_count": 47,
   "metadata": {
    "scrolled": true
   },
   "outputs": [
    {
     "name": "stdout",
     "output_type": "stream",
     "text": [
      "Epoch 1/200\n",
      "58/57 - 6s - loss: 0.6917 - accuracy: 0.5671 - val_loss: 0.7065 - val_accuracy: 0.5864\n",
      "Epoch 2/200\n",
      "58/57 - 6s - loss: 0.6506 - accuracy: 0.6255 - val_loss: 0.6997 - val_accuracy: 0.6018\n",
      "Epoch 3/200\n",
      "58/57 - 6s - loss: 0.6418 - accuracy: 0.6376 - val_loss: 0.6795 - val_accuracy: 0.6324\n",
      "Epoch 4/200\n",
      "58/57 - 6s - loss: 0.6185 - accuracy: 0.6681 - val_loss: 0.6493 - val_accuracy: 0.6499\n",
      "Epoch 5/200\n",
      "58/57 - 6s - loss: 0.6156 - accuracy: 0.6621 - val_loss: 0.6441 - val_accuracy: 0.6499\n",
      "Epoch 6/200\n",
      "58/57 - 6s - loss: 0.6153 - accuracy: 0.6627 - val_loss: 0.6636 - val_accuracy: 0.6543\n",
      "Epoch 7/200\n",
      "58/57 - 6s - loss: 0.6023 - accuracy: 0.6725 - val_loss: 0.6415 - val_accuracy: 0.6543\n",
      "Epoch 8/200\n",
      "58/57 - 6s - loss: 0.6118 - accuracy: 0.6588 - val_loss: 0.6140 - val_accuracy: 0.6783\n",
      "Epoch 9/200\n",
      "58/57 - 6s - loss: 0.5917 - accuracy: 0.6878 - val_loss: 0.6247 - val_accuracy: 0.6849\n",
      "Epoch 10/200\n",
      "58/57 - 6s - loss: 0.5905 - accuracy: 0.6850 - val_loss: 0.6336 - val_accuracy: 0.6718\n",
      "Epoch 11/200\n",
      "58/57 - 6s - loss: 0.5912 - accuracy: 0.6829 - val_loss: 0.6078 - val_accuracy: 0.6937\n",
      "Epoch 12/200\n",
      "58/57 - 6s - loss: 0.5919 - accuracy: 0.6834 - val_loss: 0.6205 - val_accuracy: 0.6871\n",
      "Epoch 13/200\n",
      "58/57 - 6s - loss: 0.5814 - accuracy: 0.6867 - val_loss: 0.6063 - val_accuracy: 0.6915\n",
      "Epoch 14/200\n",
      "58/57 - 6s - loss: 0.5830 - accuracy: 0.6801 - val_loss: 0.6412 - val_accuracy: 0.6608\n",
      "Epoch 15/200\n",
      "58/57 - 6s - loss: 0.5761 - accuracy: 0.7009 - val_loss: 0.5924 - val_accuracy: 0.6871\n",
      "Epoch 16/200\n",
      "58/57 - 6s - loss: 0.5682 - accuracy: 0.7091 - val_loss: 0.6105 - val_accuracy: 0.6805\n",
      "Epoch 17/200\n",
      "58/57 - 6s - loss: 0.5882 - accuracy: 0.6960 - val_loss: 0.5952 - val_accuracy: 0.6958\n",
      "Epoch 18/200\n",
      "58/57 - 6s - loss: 0.5677 - accuracy: 0.7014 - val_loss: 0.6042 - val_accuracy: 0.7090\n",
      "Epoch 19/200\n",
      "58/57 - 6s - loss: 0.5685 - accuracy: 0.7036 - val_loss: 0.5988 - val_accuracy: 0.7155\n",
      "Epoch 20/200\n",
      "58/57 - 6s - loss: 0.5755 - accuracy: 0.6976 - val_loss: 0.5772 - val_accuracy: 0.7068\n",
      "Epoch 21/200\n",
      "58/57 - 6s - loss: 0.5722 - accuracy: 0.6943 - val_loss: 0.5911 - val_accuracy: 0.6980\n",
      "Epoch 22/200\n",
      "58/57 - 6s - loss: 0.5644 - accuracy: 0.7014 - val_loss: 0.5931 - val_accuracy: 0.6871\n",
      "Epoch 23/200\n",
      "58/57 - 6s - loss: 0.5582 - accuracy: 0.7183 - val_loss: 0.5939 - val_accuracy: 0.7024\n",
      "Epoch 24/200\n",
      "58/57 - 6s - loss: 0.5725 - accuracy: 0.7031 - val_loss: 0.5736 - val_accuracy: 0.7090\n",
      "Epoch 25/200\n",
      "58/57 - 6s - loss: 0.5634 - accuracy: 0.7074 - val_loss: 0.5805 - val_accuracy: 0.7068\n",
      "Epoch 26/200\n",
      "58/57 - 6s - loss: 0.5641 - accuracy: 0.7009 - val_loss: 0.5743 - val_accuracy: 0.6980\n",
      "Epoch 27/200\n",
      "58/57 - 6s - loss: 0.5454 - accuracy: 0.7151 - val_loss: 0.5839 - val_accuracy: 0.7002\n",
      "Epoch 28/200\n",
      "58/57 - 6s - loss: 0.5515 - accuracy: 0.7211 - val_loss: 0.6971 - val_accuracy: 0.6652\n",
      "Epoch 29/200\n",
      "58/57 - 6s - loss: 0.5460 - accuracy: 0.7249 - val_loss: 0.5660 - val_accuracy: 0.7177\n",
      "Epoch 30/200\n",
      "58/57 - 6s - loss: 0.5566 - accuracy: 0.7189 - val_loss: 0.5568 - val_accuracy: 0.7199\n",
      "Epoch 31/200\n",
      "58/57 - 6s - loss: 0.5374 - accuracy: 0.7293 - val_loss: 0.5742 - val_accuracy: 0.7199\n",
      "Epoch 32/200\n",
      "58/57 - 6s - loss: 0.5477 - accuracy: 0.7216 - val_loss: 0.5671 - val_accuracy: 0.7177\n",
      "Epoch 33/200\n",
      "58/57 - 6s - loss: 0.5436 - accuracy: 0.7211 - val_loss: 0.5822 - val_accuracy: 0.7396\n",
      "Epoch 34/200\n",
      "58/57 - 6s - loss: 0.5392 - accuracy: 0.7293 - val_loss: 0.5856 - val_accuracy: 0.7133\n",
      "Epoch 35/200\n",
      "58/57 - 6s - loss: 0.5289 - accuracy: 0.7391 - val_loss: 0.5881 - val_accuracy: 0.7177\n",
      "Epoch 36/200\n",
      "58/57 - 6s - loss: 0.5375 - accuracy: 0.7303 - val_loss: 0.5786 - val_accuracy: 0.7221\n",
      "Epoch 37/200\n",
      "58/57 - 6s - loss: 0.5354 - accuracy: 0.7320 - val_loss: 0.5223 - val_accuracy: 0.7637\n",
      "Epoch 38/200\n",
      "58/57 - 6s - loss: 0.5308 - accuracy: 0.7451 - val_loss: 0.5186 - val_accuracy: 0.7593\n",
      "Epoch 39/200\n",
      "58/57 - 6s - loss: 0.5300 - accuracy: 0.7413 - val_loss: 0.5169 - val_accuracy: 0.7549\n",
      "Epoch 40/200\n",
      "58/57 - 6s - loss: 0.5262 - accuracy: 0.7407 - val_loss: 0.5747 - val_accuracy: 0.7155\n",
      "Epoch 41/200\n",
      "58/57 - 6s - loss: 0.5310 - accuracy: 0.7369 - val_loss: 0.5606 - val_accuracy: 0.7396\n",
      "Epoch 42/200\n",
      "58/57 - 9s - loss: 0.5227 - accuracy: 0.7429 - val_loss: 0.5362 - val_accuracy: 0.7593\n",
      "Epoch 43/200\n",
      "58/57 - 7s - loss: 0.5339 - accuracy: 0.7336 - val_loss: 0.5354 - val_accuracy: 0.7659\n",
      "Epoch 44/200\n",
      "58/57 - 6s - loss: 0.5056 - accuracy: 0.7533 - val_loss: 0.5789 - val_accuracy: 0.7112\n",
      "Epoch 45/200\n",
      "58/57 - 9s - loss: 0.5108 - accuracy: 0.7429 - val_loss: 0.5873 - val_accuracy: 0.7221\n",
      "Epoch 46/200\n",
      "58/57 - 6s - loss: 0.5115 - accuracy: 0.7424 - val_loss: 0.5548 - val_accuracy: 0.7593\n",
      "Epoch 47/200\n",
      "58/57 - 6s - loss: 0.5055 - accuracy: 0.7598 - val_loss: 0.5245 - val_accuracy: 0.7593\n",
      "Epoch 48/200\n",
      "58/57 - 6s - loss: 0.5159 - accuracy: 0.7555 - val_loss: 0.5207 - val_accuracy: 0.7659\n",
      "Epoch 49/200\n",
      "58/57 - 8s - loss: 0.5089 - accuracy: 0.7582 - val_loss: 0.5214 - val_accuracy: 0.7921\n",
      "Epoch 50/200\n",
      "58/57 - 6s - loss: 0.5106 - accuracy: 0.7669 - val_loss: 0.4943 - val_accuracy: 0.8118\n",
      "Epoch 51/200\n",
      "58/57 - 8s - loss: 0.5077 - accuracy: 0.7533 - val_loss: 0.5051 - val_accuracy: 0.7943\n",
      "Epoch 52/200\n",
      "58/57 - 7s - loss: 0.5062 - accuracy: 0.7473 - val_loss: 0.5239 - val_accuracy: 0.7418\n",
      "Epoch 53/200\n",
      "58/57 - 10s - loss: 0.5101 - accuracy: 0.7396 - val_loss: 0.5181 - val_accuracy: 0.7484\n",
      "Epoch 54/200\n",
      "58/57 - 6s - loss: 0.5138 - accuracy: 0.7522 - val_loss: 0.5203 - val_accuracy: 0.7571\n",
      "Epoch 55/200\n",
      "58/57 - 10s - loss: 0.5023 - accuracy: 0.7462 - val_loss: 0.5108 - val_accuracy: 0.7681\n",
      "Epoch 56/200\n",
      "58/57 - 6s - loss: 0.4966 - accuracy: 0.7658 - val_loss: 0.5352 - val_accuracy: 0.7352\n",
      "Epoch 57/200\n",
      "58/57 - 6s - loss: 0.4977 - accuracy: 0.7686 - val_loss: 0.5999 - val_accuracy: 0.7265\n",
      "Epoch 58/200\n",
      "58/57 - 6s - loss: 0.4970 - accuracy: 0.7669 - val_loss: 0.5044 - val_accuracy: 0.7505\n",
      "Epoch 59/200\n",
      "58/57 - 5s - loss: 0.4918 - accuracy: 0.7653 - val_loss: 0.5397 - val_accuracy: 0.7681\n",
      "Epoch 60/200\n",
      "58/57 - 5s - loss: 0.4949 - accuracy: 0.7680 - val_loss: 0.5226 - val_accuracy: 0.7549\n",
      "Epoch 61/200\n",
      "58/57 - 6s - loss: 0.4952 - accuracy: 0.7647 - val_loss: 0.5097 - val_accuracy: 0.7987\n",
      "Epoch 62/200\n",
      "58/57 - 6s - loss: 0.4836 - accuracy: 0.7697 - val_loss: 0.4730 - val_accuracy: 0.8293\n",
      "Epoch 63/200\n",
      "58/57 - 6s - loss: 0.4773 - accuracy: 0.7882 - val_loss: 0.5333 - val_accuracy: 0.7812\n",
      "Epoch 64/200\n",
      "58/57 - 6s - loss: 0.5091 - accuracy: 0.7533 - val_loss: 0.4914 - val_accuracy: 0.7921\n",
      "Epoch 65/200\n",
      "58/57 - 6s - loss: 0.4823 - accuracy: 0.7817 - val_loss: 0.5623 - val_accuracy: 0.7155\n",
      "Epoch 66/200\n",
      "58/57 - 6s - loss: 0.4781 - accuracy: 0.7789 - val_loss: 0.5280 - val_accuracy: 0.7309\n",
      "Epoch 67/200\n",
      "58/57 - 6s - loss: 0.4754 - accuracy: 0.7757 - val_loss: 0.4822 - val_accuracy: 0.7987\n",
      "Epoch 68/200\n",
      "58/57 - 6s - loss: 0.4852 - accuracy: 0.7653 - val_loss: 0.5092 - val_accuracy: 0.7746\n",
      "Epoch 69/200\n",
      "58/57 - 6s - loss: 0.4682 - accuracy: 0.7871 - val_loss: 0.4715 - val_accuracy: 0.8031\n",
      "Epoch 70/200\n",
      "58/57 - 6s - loss: 0.4773 - accuracy: 0.7697 - val_loss: 0.5438 - val_accuracy: 0.7287\n",
      "Epoch 71/200\n",
      "58/57 - 6s - loss: 0.4804 - accuracy: 0.7740 - val_loss: 0.4931 - val_accuracy: 0.7702\n",
      "Epoch 72/200\n",
      "58/57 - 6s - loss: 0.4709 - accuracy: 0.7833 - val_loss: 0.5322 - val_accuracy: 0.7462\n",
      "Epoch 73/200\n",
      "58/57 - 6s - loss: 0.4822 - accuracy: 0.7778 - val_loss: 0.4930 - val_accuracy: 0.7877\n",
      "Epoch 74/200\n",
      "58/57 - 6s - loss: 0.4751 - accuracy: 0.7811 - val_loss: 0.5069 - val_accuracy: 0.7746\n",
      "Epoch 75/200\n",
      "58/57 - 6s - loss: 0.4533 - accuracy: 0.7860 - val_loss: 0.4854 - val_accuracy: 0.7790\n",
      "Epoch 76/200\n",
      "58/57 - 6s - loss: 0.4807 - accuracy: 0.7718 - val_loss: 0.5028 - val_accuracy: 0.7637\n",
      "Epoch 77/200\n",
      "58/57 - 6s - loss: 0.4622 - accuracy: 0.7860 - val_loss: 0.5043 - val_accuracy: 0.7637\n",
      "Epoch 78/200\n",
      "58/57 - 6s - loss: 0.4738 - accuracy: 0.7898 - val_loss: 0.5018 - val_accuracy: 0.7746\n",
      "Epoch 79/200\n",
      "58/57 - 6s - loss: 0.4763 - accuracy: 0.7795 - val_loss: 0.4903 - val_accuracy: 0.7834\n",
      "Epoch 80/200\n",
      "58/57 - 6s - loss: 0.4659 - accuracy: 0.7757 - val_loss: 0.5151 - val_accuracy: 0.7702\n",
      "Epoch 81/200\n",
      "58/57 - 6s - loss: 0.4623 - accuracy: 0.7838 - val_loss: 0.5004 - val_accuracy: 0.7724\n",
      "Epoch 82/200\n",
      "58/57 - 6s - loss: 0.4816 - accuracy: 0.7647 - val_loss: 0.5017 - val_accuracy: 0.7724\n"
     ]
    },
    {
     "name": "stdout",
     "output_type": "stream",
     "text": [
      "Epoch 83/200\n",
      "58/57 - 6s - loss: 0.4497 - accuracy: 0.7877 - val_loss: 0.4844 - val_accuracy: 0.7768\n",
      "Epoch 84/200\n",
      "58/57 - 6s - loss: 0.4721 - accuracy: 0.7691 - val_loss: 0.5183 - val_accuracy: 0.7659\n",
      "Epoch 85/200\n",
      "58/57 - 6s - loss: 0.4702 - accuracy: 0.7789 - val_loss: 0.4765 - val_accuracy: 0.7943\n",
      "Epoch 86/200\n",
      "58/57 - 6s - loss: 0.4687 - accuracy: 0.7871 - val_loss: 0.4903 - val_accuracy: 0.7768\n",
      "Epoch 87/200\n",
      "58/57 - 6s - loss: 0.4511 - accuracy: 0.7855 - val_loss: 0.5569 - val_accuracy: 0.7374\n",
      "Epoch 88/200\n",
      "58/57 - 6s - loss: 0.4587 - accuracy: 0.7926 - val_loss: 0.4881 - val_accuracy: 0.8009\n",
      "Epoch 89/200\n",
      "58/57 - 6s - loss: 0.4622 - accuracy: 0.7871 - val_loss: 0.4810 - val_accuracy: 0.7812\n",
      "Epoch 90/200\n",
      "58/57 - 6s - loss: 0.4459 - accuracy: 0.8019 - val_loss: 0.4862 - val_accuracy: 0.7834\n",
      "Epoch 91/200\n",
      "58/57 - 6s - loss: 0.4417 - accuracy: 0.7997 - val_loss: 0.4819 - val_accuracy: 0.8074\n",
      "Epoch 92/200\n",
      "58/57 - 6s - loss: 0.4489 - accuracy: 0.8019 - val_loss: 0.4506 - val_accuracy: 0.7812\n",
      "Epoch 93/200\n",
      "58/57 - 6s - loss: 0.4583 - accuracy: 0.7888 - val_loss: 0.4790 - val_accuracy: 0.7899\n",
      "Epoch 94/200\n",
      "58/57 - 6s - loss: 0.4457 - accuracy: 0.8090 - val_loss: 0.4834 - val_accuracy: 0.7702\n",
      "Epoch 95/200\n",
      "58/57 - 6s - loss: 0.4456 - accuracy: 0.7964 - val_loss: 0.4763 - val_accuracy: 0.7724\n",
      "Epoch 96/200\n",
      "58/57 - 6s - loss: 0.4422 - accuracy: 0.8046 - val_loss: 0.4160 - val_accuracy: 0.8271\n",
      "Epoch 97/200\n",
      "58/57 - 6s - loss: 0.4450 - accuracy: 0.7969 - val_loss: 0.5227 - val_accuracy: 0.7637\n",
      "Epoch 98/200\n",
      "Restoring model weights from the end of the best epoch.\n",
      "58/57 - 6s - loss: 0.4451 - accuracy: 0.7937 - val_loss: 0.4953 - val_accuracy: 0.7309\n",
      "Epoch 00098: early stopping\n"
     ]
    }
   ],
   "source": [
    "model = define_model_architecture_64_32_16()\n",
    "history = model.fit_generator(generator = train_partial_batches, steps_per_epoch=train_partial_batches.samples/BATCH_SIZE, \n",
    "                              validation_data = train_validation_batches, validation_steps = train_validation_batches.samples/BATCH_SIZE, \n",
    "                              epochs=200, verbose=2, workers=4, callbacks = [es_callback])"
   ]
  },
  {
   "cell_type": "code",
   "execution_count": 49,
   "metadata": {},
   "outputs": [
    {
     "name": "stdout",
     "output_type": "stream",
     "text": [
      "Test loss: 0.4435 accuracy: 0.8282\n"
     ]
    }
   ],
   "source": [
    "test_loss, test_accuracy = model.evaluate_generator(test_batches, workers=4, verbose=0) \n",
    "print('Test loss: %.4f accuracy: %.4f' % (test_loss, test_accuracy))"
   ]
  },
  {
   "cell_type": "code",
   "execution_count": 50,
   "metadata": {},
   "outputs": [],
   "source": [
    "es_callback = EarlyStopping(monitor='val_accuracy', mode='max', verbose=1, patience=10, min_delta=0.005, \n",
    "                            baseline=test_accuracy, restore_best_weights = True)"
   ]
  },
  {
   "cell_type": "code",
   "execution_count": 54,
   "metadata": {
    "scrolled": true
   },
   "outputs": [
    {
     "name": "stdout",
     "output_type": "stream",
     "text": [
      "Epoch 1/100\n",
      "72/71 - 8s - loss: 0.4001 - accuracy: 0.8213 - val_loss: 0.3985 - val_accuracy: 0.8134\n",
      "Epoch 2/100\n",
      "72/71 - 7s - loss: 0.4044 - accuracy: 0.8187 - val_loss: 0.3801 - val_accuracy: 0.8343\n",
      "Epoch 3/100\n"
     ]
    },
    {
     "ename": "KeyboardInterrupt",
     "evalue": "",
     "output_type": "error",
     "traceback": [
      "\u001b[0;31m---------------------------------------------------------------------------\u001b[0m",
      "\u001b[0;31mKeyboardInterrupt\u001b[0m                         Traceback (most recent call last)",
      "\u001b[0;32m<ipython-input-54-eeb0394047c4>\u001b[0m in \u001b[0;36m<module>\u001b[0;34m\u001b[0m\n\u001b[1;32m      1\u001b[0m model.fit_generator(generator = train_full_batches, steps_per_epoch=train_full_batches.samples/BATCH_SIZE, \n\u001b[1;32m      2\u001b[0m                               \u001b[0mvalidation_data\u001b[0m \u001b[0;34m=\u001b[0m \u001b[0mvalidation_batches\u001b[0m\u001b[0;34m,\u001b[0m \u001b[0mvalidation_steps\u001b[0m \u001b[0;34m=\u001b[0m \u001b[0mvalidation_batches\u001b[0m\u001b[0;34m.\u001b[0m\u001b[0msamples\u001b[0m\u001b[0;34m/\u001b[0m\u001b[0mBATCH_SIZE\u001b[0m\u001b[0;34m,\u001b[0m\u001b[0;34m\u001b[0m\u001b[0;34m\u001b[0m\u001b[0m\n\u001b[0;32m----> 3\u001b[0;31m                               epochs=100, verbose=2, workers=4)\n\u001b[0m",
      "\u001b[0;32m~/anaconda3/envs/tf2-env/lib/python3.7/site-packages/tensorflow/python/keras/engine/training.py\u001b[0m in \u001b[0;36mfit_generator\u001b[0;34m(self, generator, steps_per_epoch, epochs, verbose, callbacks, validation_data, validation_steps, validation_freq, class_weight, max_queue_size, workers, use_multiprocessing, shuffle, initial_epoch)\u001b[0m\n\u001b[1;32m   1174\u001b[0m         \u001b[0mshuffle\u001b[0m\u001b[0;34m=\u001b[0m\u001b[0mshuffle\u001b[0m\u001b[0;34m,\u001b[0m\u001b[0;34m\u001b[0m\u001b[0;34m\u001b[0m\u001b[0m\n\u001b[1;32m   1175\u001b[0m         \u001b[0minitial_epoch\u001b[0m\u001b[0;34m=\u001b[0m\u001b[0minitial_epoch\u001b[0m\u001b[0;34m,\u001b[0m\u001b[0;34m\u001b[0m\u001b[0;34m\u001b[0m\u001b[0m\n\u001b[0;32m-> 1176\u001b[0;31m         steps_name='steps_per_epoch')\n\u001b[0m\u001b[1;32m   1177\u001b[0m \u001b[0;34m\u001b[0m\u001b[0m\n\u001b[1;32m   1178\u001b[0m   def evaluate_generator(self,\n",
      "\u001b[0;32m~/anaconda3/envs/tf2-env/lib/python3.7/site-packages/tensorflow/python/keras/engine/training_generator.py\u001b[0m in \u001b[0;36mmodel_iteration\u001b[0;34m(model, data, steps_per_epoch, epochs, verbose, callbacks, validation_data, validation_steps, validation_freq, class_weight, max_queue_size, workers, use_multiprocessing, shuffle, initial_epoch, mode, batch_size, steps_name, **kwargs)\u001b[0m\n\u001b[1;32m    320\u001b[0m           \u001b[0mverbose\u001b[0m\u001b[0;34m=\u001b[0m\u001b[0;36m0\u001b[0m\u001b[0;34m,\u001b[0m\u001b[0;34m\u001b[0m\u001b[0;34m\u001b[0m\u001b[0m\n\u001b[1;32m    321\u001b[0m           \u001b[0mmode\u001b[0m\u001b[0;34m=\u001b[0m\u001b[0mModeKeys\u001b[0m\u001b[0;34m.\u001b[0m\u001b[0mTEST\u001b[0m\u001b[0;34m,\u001b[0m\u001b[0;34m\u001b[0m\u001b[0;34m\u001b[0m\u001b[0m\n\u001b[0;32m--> 322\u001b[0;31m           steps_name='validation_steps')\n\u001b[0m\u001b[1;32m    323\u001b[0m \u001b[0;34m\u001b[0m\u001b[0m\n\u001b[1;32m    324\u001b[0m       \u001b[0;32mif\u001b[0m \u001b[0;32mnot\u001b[0m \u001b[0misinstance\u001b[0m\u001b[0;34m(\u001b[0m\u001b[0mval_results\u001b[0m\u001b[0;34m,\u001b[0m \u001b[0mlist\u001b[0m\u001b[0;34m)\u001b[0m\u001b[0;34m:\u001b[0m\u001b[0;34m\u001b[0m\u001b[0;34m\u001b[0m\u001b[0m\n",
      "\u001b[0;32m~/anaconda3/envs/tf2-env/lib/python3.7/site-packages/tensorflow/python/keras/engine/training_generator.py\u001b[0m in \u001b[0;36mmodel_iteration\u001b[0;34m(model, data, steps_per_epoch, epochs, verbose, callbacks, validation_data, validation_steps, validation_freq, class_weight, max_queue_size, workers, use_multiprocessing, shuffle, initial_epoch, mode, batch_size, steps_name, **kwargs)\u001b[0m\n\u001b[1;32m    218\u001b[0m     \u001b[0mstep\u001b[0m \u001b[0;34m=\u001b[0m \u001b[0;36m0\u001b[0m\u001b[0;34m\u001b[0m\u001b[0;34m\u001b[0m\u001b[0m\n\u001b[1;32m    219\u001b[0m     \u001b[0;32mwhile\u001b[0m \u001b[0mstep\u001b[0m \u001b[0;34m<\u001b[0m \u001b[0mtarget_steps\u001b[0m\u001b[0;34m:\u001b[0m\u001b[0;34m\u001b[0m\u001b[0;34m\u001b[0m\u001b[0m\n\u001b[0;32m--> 220\u001b[0;31m       \u001b[0mbatch_data\u001b[0m \u001b[0;34m=\u001b[0m \u001b[0m_get_next_batch\u001b[0m\u001b[0;34m(\u001b[0m\u001b[0mgenerator\u001b[0m\u001b[0;34m,\u001b[0m \u001b[0mmode\u001b[0m\u001b[0;34m)\u001b[0m\u001b[0;34m\u001b[0m\u001b[0;34m\u001b[0m\u001b[0m\n\u001b[0m\u001b[1;32m    221\u001b[0m       \u001b[0;32mif\u001b[0m \u001b[0mbatch_data\u001b[0m \u001b[0;32mis\u001b[0m \u001b[0;32mNone\u001b[0m\u001b[0;34m:\u001b[0m\u001b[0;34m\u001b[0m\u001b[0;34m\u001b[0m\u001b[0m\n\u001b[1;32m    222\u001b[0m         \u001b[0;32mif\u001b[0m \u001b[0mis_dataset\u001b[0m\u001b[0;34m:\u001b[0m\u001b[0;34m\u001b[0m\u001b[0;34m\u001b[0m\u001b[0m\n",
      "\u001b[0;32m~/anaconda3/envs/tf2-env/lib/python3.7/site-packages/tensorflow/python/keras/engine/training_generator.py\u001b[0m in \u001b[0;36m_get_next_batch\u001b[0;34m(generator, mode)\u001b[0m\n\u001b[1;32m    360\u001b[0m   \u001b[0;34m\"\"\"Retrieves the next batch of input data.\"\"\"\u001b[0m\u001b[0;34m\u001b[0m\u001b[0;34m\u001b[0m\u001b[0m\n\u001b[1;32m    361\u001b[0m   \u001b[0;32mtry\u001b[0m\u001b[0;34m:\u001b[0m\u001b[0;34m\u001b[0m\u001b[0;34m\u001b[0m\u001b[0m\n\u001b[0;32m--> 362\u001b[0;31m     \u001b[0mgenerator_output\u001b[0m \u001b[0;34m=\u001b[0m \u001b[0mnext\u001b[0m\u001b[0;34m(\u001b[0m\u001b[0mgenerator\u001b[0m\u001b[0;34m)\u001b[0m\u001b[0;34m\u001b[0m\u001b[0;34m\u001b[0m\u001b[0m\n\u001b[0m\u001b[1;32m    363\u001b[0m   \u001b[0;32mexcept\u001b[0m \u001b[0;34m(\u001b[0m\u001b[0mStopIteration\u001b[0m\u001b[0;34m,\u001b[0m \u001b[0merrors\u001b[0m\u001b[0;34m.\u001b[0m\u001b[0mOutOfRangeError\u001b[0m\u001b[0;34m)\u001b[0m\u001b[0;34m:\u001b[0m\u001b[0;34m\u001b[0m\u001b[0;34m\u001b[0m\u001b[0m\n\u001b[1;32m    364\u001b[0m     \u001b[0;32mreturn\u001b[0m \u001b[0;32mNone\u001b[0m\u001b[0;34m\u001b[0m\u001b[0;34m\u001b[0m\u001b[0m\n",
      "\u001b[0;32m~/anaconda3/envs/tf2-env/lib/python3.7/site-packages/tensorflow/python/keras/utils/data_utils.py\u001b[0m in \u001b[0;36mget\u001b[0;34m(self)\u001b[0m\n\u001b[1;32m    777\u001b[0m     \u001b[0;32mtry\u001b[0m\u001b[0;34m:\u001b[0m\u001b[0;34m\u001b[0m\u001b[0;34m\u001b[0m\u001b[0m\n\u001b[1;32m    778\u001b[0m       \u001b[0;32mwhile\u001b[0m \u001b[0mself\u001b[0m\u001b[0;34m.\u001b[0m\u001b[0mis_running\u001b[0m\u001b[0;34m(\u001b[0m\u001b[0;34m)\u001b[0m\u001b[0;34m:\u001b[0m\u001b[0;34m\u001b[0m\u001b[0;34m\u001b[0m\u001b[0m\n\u001b[0;32m--> 779\u001b[0;31m         \u001b[0minputs\u001b[0m \u001b[0;34m=\u001b[0m \u001b[0mself\u001b[0m\u001b[0;34m.\u001b[0m\u001b[0mqueue\u001b[0m\u001b[0;34m.\u001b[0m\u001b[0mget\u001b[0m\u001b[0;34m(\u001b[0m\u001b[0mblock\u001b[0m\u001b[0;34m=\u001b[0m\u001b[0;32mTrue\u001b[0m\u001b[0;34m)\u001b[0m\u001b[0;34m.\u001b[0m\u001b[0mget\u001b[0m\u001b[0;34m(\u001b[0m\u001b[0;34m)\u001b[0m\u001b[0;34m\u001b[0m\u001b[0;34m\u001b[0m\u001b[0m\n\u001b[0m\u001b[1;32m    780\u001b[0m         \u001b[0mself\u001b[0m\u001b[0;34m.\u001b[0m\u001b[0mqueue\u001b[0m\u001b[0;34m.\u001b[0m\u001b[0mtask_done\u001b[0m\u001b[0;34m(\u001b[0m\u001b[0;34m)\u001b[0m\u001b[0;34m\u001b[0m\u001b[0;34m\u001b[0m\u001b[0m\n\u001b[1;32m    781\u001b[0m         \u001b[0;32mif\u001b[0m \u001b[0minputs\u001b[0m \u001b[0;32mis\u001b[0m \u001b[0;32mnot\u001b[0m \u001b[0;32mNone\u001b[0m\u001b[0;34m:\u001b[0m\u001b[0;34m\u001b[0m\u001b[0;34m\u001b[0m\u001b[0m\n",
      "\u001b[0;32m~/anaconda3/envs/tf2-env/lib/python3.7/multiprocessing/pool.py\u001b[0m in \u001b[0;36mget\u001b[0;34m(self, timeout)\u001b[0m\n\u001b[1;32m    649\u001b[0m \u001b[0;34m\u001b[0m\u001b[0m\n\u001b[1;32m    650\u001b[0m     \u001b[0;32mdef\u001b[0m \u001b[0mget\u001b[0m\u001b[0;34m(\u001b[0m\u001b[0mself\u001b[0m\u001b[0;34m,\u001b[0m \u001b[0mtimeout\u001b[0m\u001b[0;34m=\u001b[0m\u001b[0;32mNone\u001b[0m\u001b[0;34m)\u001b[0m\u001b[0;34m:\u001b[0m\u001b[0;34m\u001b[0m\u001b[0;34m\u001b[0m\u001b[0m\n\u001b[0;32m--> 651\u001b[0;31m         \u001b[0mself\u001b[0m\u001b[0;34m.\u001b[0m\u001b[0mwait\u001b[0m\u001b[0;34m(\u001b[0m\u001b[0mtimeout\u001b[0m\u001b[0;34m)\u001b[0m\u001b[0;34m\u001b[0m\u001b[0;34m\u001b[0m\u001b[0m\n\u001b[0m\u001b[1;32m    652\u001b[0m         \u001b[0;32mif\u001b[0m \u001b[0;32mnot\u001b[0m \u001b[0mself\u001b[0m\u001b[0;34m.\u001b[0m\u001b[0mready\u001b[0m\u001b[0;34m(\u001b[0m\u001b[0;34m)\u001b[0m\u001b[0;34m:\u001b[0m\u001b[0;34m\u001b[0m\u001b[0;34m\u001b[0m\u001b[0m\n\u001b[1;32m    653\u001b[0m             \u001b[0;32mraise\u001b[0m \u001b[0mTimeoutError\u001b[0m\u001b[0;34m\u001b[0m\u001b[0;34m\u001b[0m\u001b[0m\n",
      "\u001b[0;32m~/anaconda3/envs/tf2-env/lib/python3.7/multiprocessing/pool.py\u001b[0m in \u001b[0;36mwait\u001b[0;34m(self, timeout)\u001b[0m\n\u001b[1;32m    646\u001b[0m \u001b[0;34m\u001b[0m\u001b[0m\n\u001b[1;32m    647\u001b[0m     \u001b[0;32mdef\u001b[0m \u001b[0mwait\u001b[0m\u001b[0;34m(\u001b[0m\u001b[0mself\u001b[0m\u001b[0;34m,\u001b[0m \u001b[0mtimeout\u001b[0m\u001b[0;34m=\u001b[0m\u001b[0;32mNone\u001b[0m\u001b[0;34m)\u001b[0m\u001b[0;34m:\u001b[0m\u001b[0;34m\u001b[0m\u001b[0;34m\u001b[0m\u001b[0m\n\u001b[0;32m--> 648\u001b[0;31m         \u001b[0mself\u001b[0m\u001b[0;34m.\u001b[0m\u001b[0m_event\u001b[0m\u001b[0;34m.\u001b[0m\u001b[0mwait\u001b[0m\u001b[0;34m(\u001b[0m\u001b[0mtimeout\u001b[0m\u001b[0;34m)\u001b[0m\u001b[0;34m\u001b[0m\u001b[0;34m\u001b[0m\u001b[0m\n\u001b[0m\u001b[1;32m    649\u001b[0m \u001b[0;34m\u001b[0m\u001b[0m\n\u001b[1;32m    650\u001b[0m     \u001b[0;32mdef\u001b[0m \u001b[0mget\u001b[0m\u001b[0;34m(\u001b[0m\u001b[0mself\u001b[0m\u001b[0;34m,\u001b[0m \u001b[0mtimeout\u001b[0m\u001b[0;34m=\u001b[0m\u001b[0;32mNone\u001b[0m\u001b[0;34m)\u001b[0m\u001b[0;34m:\u001b[0m\u001b[0;34m\u001b[0m\u001b[0;34m\u001b[0m\u001b[0m\n",
      "\u001b[0;32m~/anaconda3/envs/tf2-env/lib/python3.7/threading.py\u001b[0m in \u001b[0;36mwait\u001b[0;34m(self, timeout)\u001b[0m\n\u001b[1;32m    550\u001b[0m             \u001b[0msignaled\u001b[0m \u001b[0;34m=\u001b[0m \u001b[0mself\u001b[0m\u001b[0;34m.\u001b[0m\u001b[0m_flag\u001b[0m\u001b[0;34m\u001b[0m\u001b[0;34m\u001b[0m\u001b[0m\n\u001b[1;32m    551\u001b[0m             \u001b[0;32mif\u001b[0m \u001b[0;32mnot\u001b[0m \u001b[0msignaled\u001b[0m\u001b[0;34m:\u001b[0m\u001b[0;34m\u001b[0m\u001b[0;34m\u001b[0m\u001b[0m\n\u001b[0;32m--> 552\u001b[0;31m                 \u001b[0msignaled\u001b[0m \u001b[0;34m=\u001b[0m \u001b[0mself\u001b[0m\u001b[0;34m.\u001b[0m\u001b[0m_cond\u001b[0m\u001b[0;34m.\u001b[0m\u001b[0mwait\u001b[0m\u001b[0;34m(\u001b[0m\u001b[0mtimeout\u001b[0m\u001b[0;34m)\u001b[0m\u001b[0;34m\u001b[0m\u001b[0;34m\u001b[0m\u001b[0m\n\u001b[0m\u001b[1;32m    553\u001b[0m             \u001b[0;32mreturn\u001b[0m \u001b[0msignaled\u001b[0m\u001b[0;34m\u001b[0m\u001b[0;34m\u001b[0m\u001b[0m\n\u001b[1;32m    554\u001b[0m \u001b[0;34m\u001b[0m\u001b[0m\n",
      "\u001b[0;32m~/anaconda3/envs/tf2-env/lib/python3.7/threading.py\u001b[0m in \u001b[0;36mwait\u001b[0;34m(self, timeout)\u001b[0m\n\u001b[1;32m    294\u001b[0m         \u001b[0;32mtry\u001b[0m\u001b[0;34m:\u001b[0m    \u001b[0;31m# restore state no matter what (e.g., KeyboardInterrupt)\u001b[0m\u001b[0;34m\u001b[0m\u001b[0;34m\u001b[0m\u001b[0m\n\u001b[1;32m    295\u001b[0m             \u001b[0;32mif\u001b[0m \u001b[0mtimeout\u001b[0m \u001b[0;32mis\u001b[0m \u001b[0;32mNone\u001b[0m\u001b[0;34m:\u001b[0m\u001b[0;34m\u001b[0m\u001b[0;34m\u001b[0m\u001b[0m\n\u001b[0;32m--> 296\u001b[0;31m                 \u001b[0mwaiter\u001b[0m\u001b[0;34m.\u001b[0m\u001b[0macquire\u001b[0m\u001b[0;34m(\u001b[0m\u001b[0;34m)\u001b[0m\u001b[0;34m\u001b[0m\u001b[0;34m\u001b[0m\u001b[0m\n\u001b[0m\u001b[1;32m    297\u001b[0m                 \u001b[0mgotit\u001b[0m \u001b[0;34m=\u001b[0m \u001b[0;32mTrue\u001b[0m\u001b[0;34m\u001b[0m\u001b[0;34m\u001b[0m\u001b[0m\n\u001b[1;32m    298\u001b[0m             \u001b[0;32melse\u001b[0m\u001b[0;34m:\u001b[0m\u001b[0;34m\u001b[0m\u001b[0;34m\u001b[0m\u001b[0m\n",
      "\u001b[0;31mKeyboardInterrupt\u001b[0m: "
     ]
    }
   ],
   "source": [
    "model.fit_generator(generator = train_full_batches, steps_per_epoch=train_full_batches.samples/BATCH_SIZE, \n",
    "                              validation_data = validation_batches, validation_steps = validation_batches.samples/BATCH_SIZE, \n",
    "                              epochs=100, verbose=2, workers=4)"
   ]
  },
  {
   "cell_type": "code",
   "execution_count": 55,
   "metadata": {},
   "outputs": [
    {
     "name": "stdout",
     "output_type": "stream",
     "text": [
      "Test loss: 0.3546 accuracy: 0.8528\n"
     ]
    }
   ],
   "source": [
    "test_loss, test_accuracy = model.evaluate_generator(test_batches, workers=4, verbose=0) \n",
    "print('Test loss: %.4f accuracy: %.4f' % (test_loss, test_accuracy))"
   ]
  },
  {
   "cell_type": "code",
   "execution_count": 56,
   "metadata": {},
   "outputs": [],
   "source": [
    "test_batches.reset()\n",
    "actual_labels = []\n",
    "X_test = []\n",
    "i = 0\n",
    "max_iter = test_batches.samples\n",
    "for data, label in test_batches:\n",
    "    actual_labels.append(label)\n",
    "    X_test.append(data)\n",
    "    i += 1\n",
    "    if i == max_iter:\n",
    "        break\n",
    "        \n",
    "actual_labels = np.concatenate(actual_labels)\n",
    "X_test = np.concatenate(X_test)"
   ]
  },
  {
   "cell_type": "code",
   "execution_count": 57,
   "metadata": {},
   "outputs": [],
   "source": [
    "test_batches.reset()\n",
    "predictions = model.predict_generator(test_batches)"
   ]
  },
  {
   "cell_type": "code",
   "execution_count": 58,
   "metadata": {},
   "outputs": [
    {
     "data": {
      "text/html": [
       "<div>\n",
       "<style scoped>\n",
       "    .dataframe tbody tr th:only-of-type {\n",
       "        vertical-align: middle;\n",
       "    }\n",
       "\n",
       "    .dataframe tbody tr th {\n",
       "        vertical-align: top;\n",
       "    }\n",
       "\n",
       "    .dataframe thead th {\n",
       "        text-align: right;\n",
       "    }\n",
       "</style>\n",
       "<table border=\"1\" class=\"dataframe\">\n",
       "  <thead>\n",
       "    <tr style=\"text-align: right;\">\n",
       "      <th></th>\n",
       "      <th>predicted_cap</th>\n",
       "      <th>predicted_shoes</th>\n",
       "      <th>actual cap</th>\n",
       "      <th>actual_shoes</th>\n",
       "    </tr>\n",
       "  </thead>\n",
       "  <tbody>\n",
       "    <tr>\n",
       "      <th>0</th>\n",
       "      <td>0.992676</td>\n",
       "      <td>0.007492</td>\n",
       "      <td>1.0</td>\n",
       "      <td>0.0</td>\n",
       "    </tr>\n",
       "    <tr>\n",
       "      <th>1</th>\n",
       "      <td>0.993164</td>\n",
       "      <td>0.006798</td>\n",
       "      <td>1.0</td>\n",
       "      <td>0.0</td>\n",
       "    </tr>\n",
       "    <tr>\n",
       "      <th>2</th>\n",
       "      <td>0.963379</td>\n",
       "      <td>0.036499</td>\n",
       "      <td>1.0</td>\n",
       "      <td>0.0</td>\n",
       "    </tr>\n",
       "    <tr>\n",
       "      <th>3</th>\n",
       "      <td>0.924805</td>\n",
       "      <td>0.074951</td>\n",
       "      <td>1.0</td>\n",
       "      <td>0.0</td>\n",
       "    </tr>\n",
       "    <tr>\n",
       "      <th>4</th>\n",
       "      <td>0.434326</td>\n",
       "      <td>0.565918</td>\n",
       "      <td>1.0</td>\n",
       "      <td>0.0</td>\n",
       "    </tr>\n",
       "  </tbody>\n",
       "</table>\n",
       "</div>"
      ],
      "text/plain": [
       "   predicted_cap  predicted_shoes  actual cap  actual_shoes\n",
       "0       0.992676         0.007492         1.0           0.0\n",
       "1       0.993164         0.006798         1.0           0.0\n",
       "2       0.963379         0.036499         1.0           0.0\n",
       "3       0.924805         0.074951         1.0           0.0\n",
       "4       0.434326         0.565918         1.0           0.0"
      ]
     },
     "execution_count": 58,
     "metadata": {},
     "output_type": "execute_result"
    }
   ],
   "source": [
    "test_prediction_data = pd.DataFrame(np.hstack([predictions,actual_labels]).astype(\"float16\"), columns=['predicted_cap','predicted_shoes','actual cap','actual_shoes'])\n",
    "test_prediction_data[:5]"
   ]
  },
  {
   "cell_type": "code",
   "execution_count": 59,
   "metadata": {},
   "outputs": [
    {
     "data": {
      "image/png": "[encoded data removed]",
      "text/plain": [
       "<Figure size 1728x864 with 5 Axes>"
      ]
     },
     "metadata": {
      "needs_background": "light"
     },
     "output_type": "display_data"
    }
   ],
   "source": [
    "top_wrong_caps_ix = test_prediction_data[test_prediction_data['actual cap'] == 1]['predicted_cap'].sort_values().index.values[:5]\n",
    "top_wrong_caps_values = test_prediction_data[test_prediction_data['actual cap'] == 1]['predicted_cap'].sort_values().values[:5]\n",
    "plot_images(X_test[top_wrong_caps_ix],titles=top_wrong_caps_values)"
   ]
  },
  {
   "cell_type": "code",
   "execution_count": 60,
   "metadata": {
    "scrolled": true
   },
   "outputs": [
    {
     "data": {
      "image/png": "[encoded data removed]",
      "text/plain": [
       "<Figure size 1728x864 with 5 Axes>"
      ]
     },
     "metadata": {
      "needs_background": "light"
     },
     "output_type": "display_data"
    }
   ],
   "source": [
    "top_correct_caps_ix = test_prediction_data[test_prediction_data['actual cap'] == 1]['predicted_cap'].sort_values(ascending=False).index.values[:5]\n",
    "top_correct_caps_values = test_prediction_data[test_prediction_data['actual cap'] == 1]['predicted_cap'].sort_values(ascending=False).values[:5]\n",
    "plot_images(X_test[top_correct_caps_ix],titles=top_correct_caps_values)"
   ]
  },
  {
   "cell_type": "code",
   "execution_count": 61,
   "metadata": {},
   "outputs": [
    {
     "data": {
      "image/png": "[encoded data removed]",
      "text/plain": [
       "<Figure size 1728x864 with 5 Axes>"
      ]
     },
     "metadata": {
      "needs_background": "light"
     },
     "output_type": "display_data"
    }
   ],
   "source": [
    "top_wrong_shoes_ix = test_prediction_data[test_prediction_data['actual_shoes'] == 1]['predicted_shoes'].sort_values().index.values[:5]\n",
    "top_wrong_shoes_values = test_prediction_data[test_prediction_data['actual_shoes'] == 1]['predicted_shoes'].sort_values().values[:5]\n",
    "plot_images(X_test[top_wrong_shoes_ix],titles=top_wrong_shoes_values)"
   ]
  },
  {
   "cell_type": "code",
   "execution_count": 62,
   "metadata": {},
   "outputs": [
    {
     "data": {
      "image/png": "[encoded data removed]",
      "text/plain": [
       "<Figure size 1728x864 with 5 Axes>"
      ]
     },
     "metadata": {
      "needs_background": "light"
     },
     "output_type": "display_data"
    }
   ],
   "source": [
    "top_correct_shoes_ix = test_prediction_data[test_prediction_data['actual_shoes'] == 1]['predicted_shoes'].sort_values(ascending=False).index.values[:5]\n",
    "top_correct_shoes_values = test_prediction_data[test_prediction_data['actual_shoes'] == 1]['predicted_shoes'].sort_values(ascending=False).values[:5]\n",
    "plot_images(X_test[top_correct_shoes_ix],titles=top_correct_shoes_values)"
   ]
  },
  {
   "cell_type": "code",
   "execution_count": 63,
   "metadata": {},
   "outputs": [
    {
     "data": {
      "image/png": "[encoded data removed]",
      "text/plain": [
       "<Figure size 432x288 with 2 Axes>"
      ]
     },
     "metadata": {
      "needs_background": "light"
     },
     "output_type": "display_data"
    }
   ],
   "source": [
    "labels = ['cap','shoes']\n",
    "cm = confusion_matrix(np.argmax(actual_labels ,axis=1), np.argmax(predictions, axis=1), [0,1])\n",
    "\n",
    "ax= plt.subplot()\n",
    "sns.heatmap(cm, annot=True, ax = ax);\n",
    "\n",
    "ax.set_xlabel('Predicted labels');\n",
    "ax.set_ylabel('True labels'); \n",
    "ax.set_title('Confusion Matrix'); \n",
    "ax.xaxis.set_ticklabels(labels); ax.yaxis.set_ticklabels(labels);"
   ]
  },
  {
   "cell_type": "code",
   "execution_count": 64,
   "metadata": {},
   "outputs": [
    {
     "data": {
      "image/png": "[encoded data removed]",
      "text/plain": [
       "<Figure size 540x540 with 1 Axes>"
      ]
     },
     "metadata": {
      "needs_background": "light"
     },
     "output_type": "display_data"
    }
   ],
   "source": [
    "fpr, tpr, thresholds = roc_curve(actual_labels[:,1], predictions[:,1])\n",
    "roc_auc = auc(fpr, tpr)\n",
    "\n",
    "plt.figure(figsize=(7.5, 7.5))\n",
    "plt.plot(fpr, tpr, color='darkorange', lw=1, label='ROC curve (area = %0.2f)' % roc_auc)\n",
    "plt.plot([0, 1], [0, 1], color='navy', lw=2, linestyle='--')\n",
    "plt.xlim([0.0, 1.0])\n",
    "plt.ylim([0.0, 1.05])\n",
    "plt.xlabel('False Positive Rate')\n",
    "plt.ylabel('True Positive Rate')\n",
    "plt.title('Receiver operating characteristic')\n",
    "plt.legend(loc=\"lower right\")\n",
    "plt.show()"
   ]
  }
 ],
 "metadata": {
  "kernelspec": {
   "display_name": "Python 3",
   "language": "python",
   "name": "python3"
  },
  "language_info": {
   "codemirror_mode": {
    "name": "ipython",
    "version": 3
   },
   "file_extension": ".py",
   "mimetype": "text/x-python",
   "name": "python",
   "nbconvert_exporter": "python",
   "pygments_lexer": "ipython3",
   "version": "3.7.3"
  }
 },
 "nbformat": 4,
 "nbformat_minor": 2
}
