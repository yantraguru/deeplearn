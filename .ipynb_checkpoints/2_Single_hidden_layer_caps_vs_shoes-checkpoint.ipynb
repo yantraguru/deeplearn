{
 "cells": [
  {
   "cell_type": "code",
   "execution_count": 1,
   "metadata": {},
   "outputs": [
    {
     "data": {
      "text/html": [
       "<style>.container { width:85% !important; }</style>"
      ],
      "text/plain": [
       "<IPython.core.display.HTML object>"
      ]
     },
     "metadata": {},
     "output_type": "display_data"
    }
   ],
   "source": [
    "from IPython.core.display import display, HTML\n",
    "display(HTML(\"<style>.container { width:85% !important; }</style>\"))"
   ]
  },
  {
   "cell_type": "code",
   "execution_count": 2,
   "metadata": {},
   "outputs": [],
   "source": [
    "import os\n",
    "import time\n",
    "import numpy as np\n",
    "import pandas as pd\n",
    "\n",
    "from os import listdir\n",
    "from io import BytesIO\n",
    "import requests\n",
    "\n",
    "import tensorflow as tf\n",
    "from tensorflow import keras\n",
    "from tensorflow.keras import layers,models,utils\n",
    "from tensorflow.keras.layers import Dense,Flatten\n",
    "from tensorflow.keras.preprocessing.image import ImageDataGenerator\n",
    "\n",
    "from scipy import stats\n",
    "from sklearn import preprocessing\n",
    "\n",
    "from sklearn.metrics import confusion_matrix\n",
    "from sklearn.metrics import roc_curve, auc\n",
    "\n",
    "import PIL\n",
    "from PIL import Image\n",
    "\n",
    "import seaborn as sns\n",
    "from matplotlib.pyplot import imshow\n",
    "import matplotlib.pyplot as plt"
   ]
  },
  {
   "cell_type": "code",
   "execution_count": 3,
   "metadata": {},
   "outputs": [
    {
     "name": "stdout",
     "output_type": "stream",
     "text": [
      "Please install GPU version of TF\n"
     ]
    }
   ],
   "source": [
    "if tf.test.gpu_device_name():\n",
    "    print('Default GPU Device: {}'.format(tf.test.gpu_device_name()))\n",
    "else:\n",
    "    print(\"Please install GPU version of TF\")"
   ]
  },
  {
   "cell_type": "code",
   "execution_count": 4,
   "metadata": {},
   "outputs": [],
   "source": [
    "DATA_DIR = 'data/caps and shoes/'"
   ]
  },
  {
   "cell_type": "code",
   "execution_count": 5,
   "metadata": {},
   "outputs": [],
   "source": [
    "def convert_img_to_data(image):\n",
    "    data = np.asarray(image)\n",
    "    gs_image = image.convert(mode='L')\n",
    "    gs_data = np.asarray(gs_image)\n",
    "    gs_resized = gs_image.resize((112,112))\n",
    "    gs_resized_data = np.asarray(gs_resized)\n",
    "    reshaped_gs_data = gs_resized_data.reshape(112*112)\n",
    "    return reshaped_gs_data\n",
    "\n",
    "def convert_images_from_dir(dir_path):\n",
    "    image_data = []\n",
    "    \n",
    "    for filename in listdir(dir_path):\n",
    "        image = Image.open(dir_path +os.sep + filename)\n",
    "        reshaped_gs_data = convert_img_to_data(image)\n",
    "        image_data.append(reshaped_gs_data)\n",
    "    \n",
    "    return image_data\n",
    "\n",
    "def load_from_dir(dir_path, labels):\n",
    "    label_data = []\n",
    "    image_data = []\n",
    "    for label in labels:\n",
    "        data_from_dir = convert_images_from_dir(dir_path + label)\n",
    "        labels_for_data = [label for i in range(len(data_from_dir))]\n",
    "        image_data += data_from_dir\n",
    "        label_data += labels_for_data\n",
    "    \n",
    "    print('Found %d images belonging to %d classes' % (len(image_data),  len(labels)))\n",
    "    return (np.array(image_data),np.array(label_data))\n",
    "\n",
    "def load_img_data(data_dir):\n",
    "    train_dir = DATA_DIR + 'train/'\n",
    "    validation_dir = DATA_DIR + 'val/'\n",
    "    test_dir = DATA_DIR + 'test/'\n",
    "    \n",
    "    if (os.path.isdir(train_dir) and os.path.isdir(validation_dir) and os.path.isdir(test_dir)) :\n",
    "        labels = [subdirname.name for subdirname in os.scandir(train_dir) if subdirname.is_dir()] \n",
    "        \n",
    "        train_data = load_from_dir(train_dir,labels)\n",
    "        validation_data = load_from_dir(validation_dir,labels)\n",
    "        test_data = load_from_dir(test_dir,labels)\n",
    "        \n",
    "    return train_data, validation_data, test_data     \n",
    "\n",
    "def url_to_image(img_url):\n",
    "    response = requests.get(img_url)\n",
    "    img = Image.open(BytesIO(response.content))\n",
    "    return img\n",
    "\n",
    "def plot_images(ims, figsize=(24,12), rows=1, interp=False, titles=None):\n",
    "    f = plt.figure(figsize=figsize)\n",
    "    cols = len(ims)//rows if len(ims) % 2 == 0 else len(ims)//rows + 1\n",
    "    for i in range(len(ims)):\n",
    "        sp = f.add_subplot(rows, cols, i+1)\n",
    "        sp.axis('Off')\n",
    "        if titles is not None:\n",
    "            sp.set_title(titles[i], fontsize=18)\n",
    "        \n",
    "        plt.imshow(ims[i].reshape(112,112), cmap=\"gray\")"
   ]
  },
  {
   "cell_type": "code",
   "execution_count": 6,
   "metadata": {},
   "outputs": [
    {
     "name": "stdout",
     "output_type": "stream",
     "text": [
      "Found 200 images belonging to 2 classes\n",
      "Found 100 images belonging to 2 classes\n",
      "Found 50 images belonging to 2 classes\n"
     ]
    }
   ],
   "source": [
    "train_data, validation_data, test_data = load_img_data(DATA_DIR)\n",
    "X_train, y_train = train_data\n",
    "X_val, y_val = validation_data\n",
    "X_test, y_test = test_data"
   ]
  },
  {
   "cell_type": "code",
   "execution_count": 7,
   "metadata": {},
   "outputs": [
    {
     "name": "stdout",
     "output_type": "stream",
     "text": [
      "X_train shape : (200, 12544)\n",
      "y_train shape : (200,)\n",
      "X_val shape : (100, 12544)\n",
      "y_val shape : (100,)\n",
      "X_test shape : (50, 12544)\n",
      "y_test shape : (50,)\n"
     ]
    }
   ],
   "source": [
    "print('X_train shape : %s' % str(X_train.shape))\n",
    "print('y_train shape : %s' % str(y_train.shape))\n",
    "print('X_val shape : %s' % str(X_val.shape))\n",
    "print('y_val shape : %s' % str(y_val.shape))\n",
    "print('X_test shape : %s' % str(X_test.shape))\n",
    "print('y_test shape : %s' % str(y_test.shape))"
   ]
  },
  {
   "cell_type": "code",
   "execution_count": 8,
   "metadata": {},
   "outputs": [],
   "source": [
    "X_train = X_train.astype('float32') / 255\n",
    "X_val = X_val.astype('float32') / 255\n",
    "X_test = X_test.astype('float32') / 255"
   ]
  },
  {
   "cell_type": "code",
   "execution_count": 9,
   "metadata": {},
   "outputs": [],
   "source": [
    "le = preprocessing.LabelEncoder()\n",
    "le.fit(y_train)\n",
    "y_train = le.transform(y_train)\n",
    "y_val = le.transform(y_val)\n",
    "y_test = le.transform(y_test)\n",
    "y_train = utils.to_categorical(y_train)\n",
    "y_val = utils.to_categorical(y_val)\n",
    "y_test = utils.to_categorical(y_test)"
   ]
  },
  {
   "cell_type": "code",
   "execution_count": 10,
   "metadata": {},
   "outputs": [
    {
     "name": "stdout",
     "output_type": "stream",
     "text": [
      "y_train shape : (200, 2)\n",
      "y_val shape : (100, 2)\n",
      "y_test shape : (50, 2)\n"
     ]
    }
   ],
   "source": [
    "print('y_train shape : %s' % str(y_train.shape))\n",
    "print('y_val shape : %s' % str(y_val.shape))\n",
    "print('y_test shape : %s' % str(y_test.shape))"
   ]
  },
  {
   "cell_type": "code",
   "execution_count": 11,
   "metadata": {},
   "outputs": [],
   "source": [
    "def define_multilayer_model_architecture():\n",
    "    model = models.Sequential()\n",
    "    model.add(Dense(32, activation='relu', input_shape=(12544,)))\n",
    "    model.add(Dense(16, activation='relu'))\n",
    "    model.add(Dense(2, activation='softmax'))\n",
    "    \n",
    "    model.compile(optimizer='sgd', loss='binary_crossentropy', metrics=['accuracy'])\n",
    "    return model"
   ]
  },
  {
   "cell_type": "code",
   "execution_count": 12,
   "metadata": {
    "scrolled": true
   },
   "outputs": [
    {
     "name": "stderr",
     "output_type": "stream",
     "text": [
      "WARNING: Logging before flag parsing goes to stderr.\n",
      "W0805 22:48:21.309348 139944847402816 deprecation.py:323] From /home/algolaptop8/anaconda3/envs/tf2-env/lib/python3.7/site-packages/tensorflow/python/ops/math_grad.py:1250: add_dispatch_support.<locals>.wrapper (from tensorflow.python.ops.array_ops) is deprecated and will be removed in a future version.\n",
      "Instructions for updating:\n",
      "Use tf.where in 2.0, which has the same broadcast rule as np.where\n"
     ]
    },
    {
     "name": "stdout",
     "output_type": "stream",
     "text": [
      "50/50 [==============================] - 0s 378us/sample - loss: 0.4612 - accuracy: 0.7800\n",
      "50/50 [==============================] - 0s 344us/sample - loss: 0.4856 - accuracy: 0.7600\n",
      "50/50 [==============================] - 0s 362us/sample - loss: 0.5579 - accuracy: 0.6400\n",
      "50/50 [==============================] - 0s 391us/sample - loss: 0.5518 - accuracy: 0.6200\n",
      "50/50 [==============================] - 0s 334us/sample - loss: 0.5218 - accuracy: 0.7200\n",
      "Avg training time : 1.446 s\n",
      "Avg test accuracy : 0.7040\n",
      "Total parameters : 402002\n"
     ]
    }
   ],
   "source": [
    "ITER = 5\n",
    "total_training_time = 0.0\n",
    "total_test_accuracy = 0.0\n",
    "for iter_count in range(ITER):\n",
    "    model = define_multilayer_model_architecture()\n",
    "    start_time = time.time()\n",
    "    model.fit(X_train, y_train, validation_data = (X_val,y_val), epochs=125, batch_size=200, verbose=0, shuffle=True)\n",
    "    training_time = time.time() - start_time\n",
    "    total_training_time += training_time\n",
    "    test_loss, test_accuracy = model.evaluate(X_test, y_test, batch_size=50)\n",
    "    total_test_accuracy += test_accuracy\n",
    "\n",
    "print('Avg training time : %.3f s' % (total_training_time/ITER))\n",
    "print('Avg test accuracy : %.4f' % (total_test_accuracy/ITER))\n",
    "print('Total parameters : %d' % model.count_params())"
   ]
  },
  {
   "cell_type": "code",
   "execution_count": 13,
   "metadata": {},
   "outputs": [],
   "source": [
    "def define_singlelayer_model_architecture(no_of_neurons=512):\n",
    "    model = models.Sequential()\n",
    "    model.add(Dense(no_of_neurons, activation='relu', input_shape=(12544,)))\n",
    "    model.add(Dense(2, activation='softmax'))\n",
    "    \n",
    "    model.compile(optimizer='sgd', loss='binary_crossentropy', metrics=['accuracy'])\n",
    "    return model"
   ]
  },
  {
   "cell_type": "code",
   "execution_count": 14,
   "metadata": {},
   "outputs": [
    {
     "name": "stdout",
     "output_type": "stream",
     "text": [
      "50/50 [==============================] - 0s 475us/sample - loss: 0.4872 - accuracy: 0.8000\n",
      "50/50 [==============================] - 0s 504us/sample - loss: 0.5582 - accuracy: 0.7000\n",
      "50/50 [==============================] - 0s 565us/sample - loss: 0.5021 - accuracy: 0.7400\n",
      "50/50 [==============================] - 0s 515us/sample - loss: 0.5765 - accuracy: 0.7000\n",
      "50/50 [==============================] - 0s 501us/sample - loss: 0.5448 - accuracy: 0.7000\n",
      "Avg training time : 4.996 s\n",
      "Avg test accuracy : 0.7280\n",
      "Total parameters : 6424066\n"
     ]
    }
   ],
   "source": [
    "ITER = 5\n",
    "total_training_time = 0.0\n",
    "total_test_accuracy = 0.0\n",
    "for iter_count in range(ITER):\n",
    "    model = define_singlelayer_model_architecture()\n",
    "    start_time = time.time()\n",
    "    model.fit(X_train, y_train, validation_data = (X_val,y_val), epochs=125, batch_size=200, verbose=0, shuffle=True)\n",
    "    training_time = time.time() - start_time\n",
    "    total_training_time += training_time\n",
    "    test_loss, test_accuracy = model.evaluate(X_test, y_test, batch_size=50)\n",
    "    total_test_accuracy += test_accuracy\n",
    "\n",
    "print('Avg training time : %.3f s' % (total_training_time/ITER))\n",
    "print('Avg test accuracy : %.4f' % (total_test_accuracy/ITER))\n",
    "print('Total parameters : %d' % model.count_params())"
   ]
  },
  {
   "cell_type": "code",
   "execution_count": 15,
   "metadata": {},
   "outputs": [
    {
     "name": "stdout",
     "output_type": "stream",
     "text": [
      "CPU times: user 2.73 s, sys: 43.9 ms, total: 2.77 s\n",
      "Wall time: 1.17 s\n"
     ]
    },
    {
     "data": {
      "image/png": "[encoded data removed]",
      "text/plain": [
       "<Figure size 1152x432 with 1 Axes>"
      ]
     },
     "metadata": {
      "needs_background": "light"
     },
     "output_type": "display_data"
    }
   ],
   "source": [
    "model = define_singlelayer_model_architecture(16)\n",
    "%time history = model.fit(X_train, y_train, validation_data = (X_val,y_val), epochs=125, batch_size=200, verbose=0, shuffle=True)\n",
    "\n",
    "plt.figure(num=None, figsize=(16, 6))\n",
    "plt.plot(history.history['accuracy'], label='train')\n",
    "plt.plot(history.history['val_accuracy'], label='validation')\n",
    "plt.legend()\n",
    "plt.xlim(0, 500)\n",
    "plt.show()"
   ]
  },
  {
   "cell_type": "code",
   "execution_count": 16,
   "metadata": {},
   "outputs": [
    {
     "name": "stdout",
     "output_type": "stream",
     "text": [
      "No. of neurons : 2\n",
      "Avg training time : 1.160 s\n",
      "Avg test accuracy : 0.5840\n",
      "Total parameters : 25096\n",
      "No. of neurons : 4\n",
      "Avg training time : 1.182 s\n",
      "Avg test accuracy : 0.5640\n",
      "Total parameters : 50190\n",
      "No. of neurons : 8\n",
      "Avg training time : 1.128 s\n",
      "Avg test accuracy : 0.6840\n",
      "Total parameters : 100378\n",
      "No. of neurons : 16\n",
      "Avg training time : 1.146 s\n",
      "Avg test accuracy : 0.6600\n",
      "Total parameters : 200754\n",
      "No. of neurons : 32\n",
      "Avg training time : 1.259 s\n",
      "Avg test accuracy : 0.7280\n",
      "Total parameters : 401506\n",
      "No. of neurons : 64\n",
      "Avg training time : 1.816 s\n",
      "Avg test accuracy : 0.7440\n",
      "Total parameters : 803010\n",
      "No. of neurons : 128\n",
      "Avg training time : 2.430 s\n",
      "Avg test accuracy : 0.7040\n",
      "Total parameters : 1606018\n",
      "No. of neurons : 256\n",
      "Avg training time : 3.679 s\n",
      "Avg test accuracy : 0.6720\n",
      "Total parameters : 3212034\n",
      "No. of neurons : 512\n",
      "Avg training time : 6.167 s\n",
      "Avg test accuracy : 0.6680\n",
      "Total parameters : 6424066\n",
      "No. of neurons : 1024\n",
      "Avg training time : 11.705 s\n",
      "Avg test accuracy : 0.6000\n",
      "Total parameters : 12848130\n",
      "No. of neurons : 2048\n",
      "Avg training time : 22.085 s\n",
      "Avg test accuracy : 0.5800\n",
      "Total parameters : 25696258\n",
      "No. of neurons : 3072\n",
      "Avg training time : 31.377 s\n",
      "Avg test accuracy : 0.6560\n",
      "Total parameters : 38544386\n",
      "No. of neurons : 4096\n",
      "Avg training time : 43.677 s\n",
      "Avg test accuracy : 0.6120\n",
      "Total parameters : 51392514\n",
      "No. of neurons : 5120\n",
      "Avg training time : 55.654 s\n",
      "Avg test accuracy : 0.6520\n",
      "Total parameters : 64240642\n",
      "No. of neurons : 6144\n",
      "Avg training time : 66.606 s\n",
      "Avg test accuracy : 0.5520\n",
      "Total parameters : 77088770\n",
      "No. of neurons : 7168\n",
      "Avg training time : 74.534 s\n",
      "Avg test accuracy : 0.5000\n",
      "Total parameters : 89936898\n"
     ]
    }
   ],
   "source": [
    "no_of_neurons = [2**i for i in range(1,11)] + [1024*i for i in range(2,8)]\n",
    "ITER = 5\n",
    "\n",
    "for neurons in no_of_neurons:\n",
    "    total_training_time = 0.0\n",
    "    total_test_accuracy = 0.0\n",
    "    for iter_count in range(ITER):\n",
    "        model = define_singlelayer_model_architecture(neurons)\n",
    "        start_time = time.time()\n",
    "        model.fit(X_train, y_train, validation_data = (X_val,y_val), epochs=125, batch_size=200, verbose=0, shuffle=True)\n",
    "        training_time = time.time() - start_time\n",
    "        total_training_time += training_time\n",
    "        test_loss, test_accuracy = model.evaluate(X_test, y_test, batch_size=50, verbose=0)\n",
    "        total_test_accuracy += test_accuracy\n",
    "    \n",
    "    print('No. of neurons : %d' % neurons)\n",
    "    print('Avg training time : %.3f s' % (total_training_time/ITER))\n",
    "    print('Avg test accuracy : %.4f' % (total_test_accuracy/ITER))\n",
    "    print('Total parameters : %d' % model.count_params())"
   ]
  }
 ],
 "metadata": {
  "kernelspec": {
   "display_name": "Python 3",
   "language": "python",
   "name": "python3"
  },
  "language_info": {
   "codemirror_mode": {
    "name": "ipython",
    "version": 3
   },
   "file_extension": ".py",
   "mimetype": "text/x-python",
   "name": "python",
   "nbconvert_exporter": "python",
   "pygments_lexer": "ipython3",
   "version": "3.7.3"
  }
 },
 "nbformat": 4,
 "nbformat_minor": 2
}
