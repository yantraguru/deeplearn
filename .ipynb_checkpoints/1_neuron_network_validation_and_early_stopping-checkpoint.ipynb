{
 "cells": [
  {
   "cell_type": "markdown",
   "metadata": {
    "colab_type": "text",
    "id": "view-in-github"
   },
   "source": [
    "<a href=\"https://colab.research.google.com/github/yantraguru/deeplearn/blob/master/1_neuron_network_validation_and_early_stopping.ipynb\" target=\"_parent\"><img src=\"https://colab.research.google.com/assets/colab-badge.svg\" alt=\"Open In Colab\"/></a>"
   ]
  },
  {
   "cell_type": "code",
   "execution_count": 1,
   "metadata": {
    "colab": {
     "base_uri": "https://localhost:8080/",
     "height": 34
    },
    "colab_type": "code",
    "id": "PJAEER3QZctM",
    "outputId": "0610c9d9-d7f4-4b1d-de2b-ddcf925acaf8"
   },
   "outputs": [
    {
     "name": "stdout",
     "output_type": "stream",
     "text": [
      "1.14.0\n"
     ]
    }
   ],
   "source": [
    "import numpy as np\n",
    "import pandas as pd\n",
    "\n",
    "import tensorflow as tf\n",
    "from tensorflow import keras\n",
    "\n",
    "from tensorflow.keras.callbacks import EarlyStopping\n",
    "\n",
    "print( tf.VERSION )\n",
    "\n",
    "from matplotlib import pyplot"
   ]
  },
  {
   "cell_type": "code",
   "execution_count": 0,
   "metadata": {
    "colab": {},
    "colab_type": "code",
    "id": "ZcLEXVKEZkTA"
   },
   "outputs": [],
   "source": [
    "#@title\n",
    "def hw_function(x):\n",
    "    y = x + 5.0;\n",
    "    return y"
   ]
  },
  {
   "cell_type": "code",
   "execution_count": 3,
   "metadata": {
    "colab": {
     "base_uri": "https://localhost:8080/",
     "height": 153
    },
    "colab_type": "code",
    "id": "FOcOpy65Zp6L",
    "outputId": "9217f0cf-129a-45e5-8e5f-02d0e737541b"
   },
   "outputs": [
    {
     "name": "stdout",
     "output_type": "stream",
     "text": [
      "[646. 135. 880. 917. 236. 328. 749. 492. 940. 373. 657. 903. 262. 173.\n",
      " 308. 700.  59. 275. 865. 577. 881. 610. 545. 724. 111. 786. 481. 799.\n",
      " 551. 765.  42. 290.   2. 306. 277. 233.  56. 443. 204. 376. 550. 165.\n",
      " 374.  96. 162. 857. 164. 318. 321. 896. 591. 346. 814. 403. 365. 517.\n",
      " 768. 999. 851. 482. 578. 911. 980.  90. 911. 939. 193. 627. 582. 494.\n",
      " 435. 812. 788. 844. 731. 562.  42. 800. 205. 780. 805. 939. 130. 716.\n",
      " 978.  90. 236. 485. 370. 142. 978. 863. 266. 682. 919.  13. 178.   3.\n",
      " 293. 357.]\n"
     ]
    }
   ],
   "source": [
    "X = np.array(np.random.randint(1000, size=100)).astype(\"float32\")\n",
    "print(X)"
   ]
  },
  {
   "cell_type": "code",
   "execution_count": 4,
   "metadata": {
    "colab": {
     "base_uri": "https://localhost:8080/",
     "height": 170
    },
    "colab_type": "code",
    "id": "BB_yve76ZtLv",
    "outputId": "c053e565-3431-4486-a186-e2c948f1c6a5"
   },
   "outputs": [
    {
     "name": "stdout",
     "output_type": "stream",
     "text": [
      "[ 651.  140.  885.  922.  241.  333.  754.  497.  945.  378.  662.  908.\n",
      "  267.  178.  313.  705.   64.  280.  870.  582.  886.  615.  550.  729.\n",
      "  116.  791.  486.  804.  556.  770.   47.  295.    7.  311.  282.  238.\n",
      "   61.  448.  209.  381.  555.  170.  379.  101.  167.  862.  169.  323.\n",
      "  326.  901.  596.  351.  819.  408.  370.  522.  773. 1004.  856.  487.\n",
      "  583.  916.  985.   95.  916.  944.  198.  632.  587.  499.  440.  817.\n",
      "  793.  849.  736.  567.   47.  805.  210.  785.  810.  944.  135.  721.\n",
      "  983.   95.  241.  490.  375.  147.  983.  868.  271.  687.  924.   18.\n",
      "  183.    8.  298.  362.]\n"
     ]
    }
   ],
   "source": [
    "y = np.array([hw_function(x) for x in X]).astype(\"float32\")\n",
    "print(y)"
   ]
  },
  {
   "cell_type": "code",
   "execution_count": 0,
   "metadata": {
    "colab": {},
    "colab_type": "code",
    "id": "QmUXwgSQagZN"
   },
   "outputs": [],
   "source": [
    "X_val = np.array(np.random.randint(1000, size=20)).astype(\"float32\")\n",
    "y_val = np.array([hw_function(x) for x in X_val]).astype(\"float32\")"
   ]
  },
  {
   "cell_type": "code",
   "execution_count": 6,
   "metadata": {
    "colab": {
     "base_uri": "https://localhost:8080/",
     "height": 275
    },
    "colab_type": "code",
    "id": "-gkoYbbWa9Oe",
    "outputId": "214a7344-4628-4991-f4af-67692da33177"
   },
   "outputs": [
    {
     "name": "stderr",
     "output_type": "stream",
     "text": [
      "WARNING: Logging before flag parsing goes to stderr.\n",
      "W0725 04:21:16.848901 140598754539392 deprecation.py:506] From /usr/local/lib/python3.6/dist-packages/tensorflow/python/ops/init_ops.py:1251: calling VarianceScaling.__init__ (from tensorflow.python.ops.init_ops) with dtype is deprecated and will be removed in a future version.\n",
      "Instructions for updating:\n",
      "Call initializer instance with the dtype argument instead of passing it to the constructor\n"
     ]
    },
    {
     "name": "stdout",
     "output_type": "stream",
     "text": [
      "Model: \"sequential\"\n",
      "_________________________________________________________________\n",
      "Layer (type)                 Output Shape              Param #   \n",
      "=================================================================\n",
      "dense (Dense)                (None, 1)                 2         \n",
      "=================================================================\n",
      "Total params: 2\n",
      "Trainable params: 2\n",
      "Non-trainable params: 0\n",
      "_________________________________________________________________\n"
     ]
    }
   ],
   "source": [
    "model = tf.keras.Sequential([keras.layers.Dense(units=1, input_shape=[1])])\n",
    "model.compile(optimizer='sgd', loss='mean_squared_error')\n",
    "model.summary()"
   ]
  },
  {
   "cell_type": "code",
   "execution_count": 0,
   "metadata": {
    "colab": {},
    "colab_type": "code",
    "id": "Xj033F1Ma_Fr"
   },
   "outputs": [],
   "source": [
    "MX_LIM = np.max([np.max(X),np.max(y),np.max(X_val),np.max(y_val)])\n",
    "X /= MX_LIM\n",
    "X_val /= MX_LIM\n",
    "y /= MX_LIM\n",
    "y_val /= MX_LIM"
   ]
  },
  {
   "cell_type": "code",
   "execution_count": 8,
   "metadata": {
    "colab": {
     "base_uri": "https://localhost:8080/",
     "height": 51
    },
    "colab_type": "code",
    "id": "IMZ8xf4CbS3r",
    "outputId": "b697d998-bd2b-4f2d-efb9-65191b90655f"
   },
   "outputs": [
    {
     "name": "stdout",
     "output_type": "stream",
     "text": [
      "CPU times: user 47 s, sys: 2.2 s, total: 49.2 s\n",
      "Wall time: 42.8 s\n"
     ]
    }
   ],
   "source": [
    "%time history = model.fit(X, y, epochs=10000, verbose=0, validation_data=(X_val,y_val))"
   ]
  },
  {
   "cell_type": "code",
   "execution_count": 0,
   "metadata": {
    "colab": {},
    "colab_type": "code",
    "id": "K4UlqRomgz3X"
   },
   "outputs": [],
   "source": [
    "test_input = [5,18,25,72,1000, 7832]\n",
    "test_input /= MX_LIM\n",
    "answer = model.predict(test_input)"
   ]
  },
  {
   "cell_type": "code",
   "execution_count": 10,
   "metadata": {
    "colab": {
     "base_uri": "https://localhost:8080/",
     "height": 235
    },
    "colab_type": "code",
    "id": "sV95IkC2gxBs",
    "outputId": "6f85d593-5bda-4089-ba2f-9ffe4e95ce6e"
   },
   "outputs": [
    {
     "data": {
      "text/html": [
       "<div>\n",
       "<style scoped>\n",
       "    .dataframe tbody tr th:only-of-type {\n",
       "        vertical-align: middle;\n",
       "    }\n",
       "\n",
       "    .dataframe tbody tr th {\n",
       "        vertical-align: top;\n",
       "    }\n",
       "\n",
       "    .dataframe thead th {\n",
       "        text-align: right;\n",
       "    }\n",
       "</style>\n",
       "<table border=\"1\" class=\"dataframe\">\n",
       "  <thead>\n",
       "    <tr style=\"text-align: right;\">\n",
       "      <th></th>\n",
       "      <th>input</th>\n",
       "      <th>answer_from_net</th>\n",
       "    </tr>\n",
       "  </thead>\n",
       "  <tbody>\n",
       "    <tr>\n",
       "      <th>0</th>\n",
       "      <td>5.0</td>\n",
       "      <td>10.0</td>\n",
       "    </tr>\n",
       "    <tr>\n",
       "      <th>1</th>\n",
       "      <td>18.0</td>\n",
       "      <td>23.0</td>\n",
       "    </tr>\n",
       "    <tr>\n",
       "      <th>2</th>\n",
       "      <td>25.0</td>\n",
       "      <td>30.0</td>\n",
       "    </tr>\n",
       "    <tr>\n",
       "      <th>3</th>\n",
       "      <td>72.0</td>\n",
       "      <td>77.0</td>\n",
       "    </tr>\n",
       "    <tr>\n",
       "      <th>4</th>\n",
       "      <td>1000.0</td>\n",
       "      <td>1005.0</td>\n",
       "    </tr>\n",
       "    <tr>\n",
       "      <th>5</th>\n",
       "      <td>7832.0</td>\n",
       "      <td>7836.0</td>\n",
       "    </tr>\n",
       "  </tbody>\n",
       "</table>\n",
       "</div>"
      ],
      "text/plain": [
       "    input  answer_from_net\n",
       "0     5.0             10.0\n",
       "1    18.0             23.0\n",
       "2    25.0             30.0\n",
       "3    72.0             77.0\n",
       "4  1000.0           1005.0\n",
       "5  7832.0           7836.0"
      ]
     },
     "execution_count": 10,
     "metadata": {
      "tags": []
     },
     "output_type": "execute_result"
    }
   ],
   "source": [
    "pd.DataFrame({'input':(test_input*MX_LIM).astype(\"float16\"),\n",
    "              'answer_from_net':(answer*MX_LIM).astype(\"float16\").flatten()})"
   ]
  },
  {
   "cell_type": "code",
   "execution_count": 11,
   "metadata": {
    "colab": {
     "base_uri": "https://localhost:8080/",
     "height": 378
    },
    "colab_type": "code",
    "id": "4q_OPU7ecUU4",
    "outputId": "bcdb4ac2-1a51-44df-f8bc-45a5164fac4f"
   },
   "outputs": [
    {
     "data": {
      "image/png": "[encoded data removed]",
      "text/plain": [
       "<Figure size 1152x432 with 1 Axes>"
      ]
     },
     "metadata": {
      "tags": []
     },
     "output_type": "display_data"
    }
   ],
   "source": [
    "pyplot.figure(num=None, figsize=(16, 6))\n",
    "pyplot.plot(history.history['loss'], label='train')\n",
    "pyplot.plot(history.history['val_loss'], label='validation')\n",
    "pyplot.legend()\n",
    "pyplot.xlim(0, 10000)\n",
    "pyplot.show()"
   ]
  },
  {
   "cell_type": "code",
   "execution_count": 0,
   "metadata": {
    "colab": {},
    "colab_type": "code",
    "id": "AfNvnyh5dzpE"
   },
   "outputs": [],
   "source": [
    "es_callback = EarlyStopping(monitor='val_loss', mode='min', verbose=1, patience=50)"
   ]
  },
  {
   "cell_type": "code",
   "execution_count": 13,
   "metadata": {
    "colab": {
     "base_uri": "https://localhost:8080/",
     "height": 187
    },
    "colab_type": "code",
    "id": "k1UGdzyBxGID",
    "outputId": "40e9de90-a634-402b-f392-f7f17fe1c760"
   },
   "outputs": [
    {
     "name": "stdout",
     "output_type": "stream",
     "text": [
      "Model: \"sequential_1\"\n",
      "_________________________________________________________________\n",
      "Layer (type)                 Output Shape              Param #   \n",
      "=================================================================\n",
      "dense_1 (Dense)              (None, 1)                 2         \n",
      "=================================================================\n",
      "Total params: 2\n",
      "Trainable params: 2\n",
      "Non-trainable params: 0\n",
      "_________________________________________________________________\n"
     ]
    }
   ],
   "source": [
    "model = tf.keras.Sequential([keras.layers.Dense(units=1, input_shape=[1])])\n",
    "model.compile(optimizer='sgd', loss='mean_squared_error')\n",
    "model.summary()"
   ]
  },
  {
   "cell_type": "code",
   "execution_count": 14,
   "metadata": {
    "colab": {
     "base_uri": "https://localhost:8080/",
     "height": 68
    },
    "colab_type": "code",
    "id": "4JZW6SbDef1i",
    "outputId": "e470df79-1523-4b8b-b5d0-04209cb9f865"
   },
   "outputs": [
    {
     "name": "stdout",
     "output_type": "stream",
     "text": [
      "Epoch 03027: early stopping\n",
      "CPU times: user 14.5 s, sys: 618 ms, total: 15.1 s\n",
      "Wall time: 13.2 s\n"
     ]
    }
   ],
   "source": [
    "%time history = model.fit(X, y, epochs=10000, verbose=0, validation_data=(X_val,y_val), callbacks=[es_callback])"
   ]
  },
  {
   "cell_type": "code",
   "execution_count": 15,
   "metadata": {
    "colab": {
     "base_uri": "https://localhost:8080/",
     "height": 378
    },
    "colab_type": "code",
    "id": "5_34Ebmke91x",
    "outputId": "5d7b2ad1-47bf-48a2-a17a-a174ed87951b"
   },
   "outputs": [
    {
     "data": {
      "image/png": "[encoded data removed]",
      "text/plain": [
       "<Figure size 1152x432 with 1 Axes>"
      ]
     },
     "metadata": {
      "tags": []
     },
     "output_type": "display_data"
    }
   ],
   "source": [
    "pyplot.figure(num=None, figsize=(16, 6))\n",
    "pyplot.plot(history.history['loss'], label='train')\n",
    "pyplot.plot(history.history['val_loss'], label='validation')\n",
    "pyplot.legend()\n",
    "pyplot.xlim(0, 10000)\n",
    "pyplot.show()"
   ]
  },
  {
   "cell_type": "code",
   "execution_count": 0,
   "metadata": {
    "colab": {},
    "colab_type": "code",
    "id": "FCYnm43Jfa3Q"
   },
   "outputs": [],
   "source": [
    "test_input = [5,18,25,72,1000, 7832]\n",
    "test_input /= MX_LIM\n",
    "answer = model.predict(test_input)"
   ]
  },
  {
   "cell_type": "code",
   "execution_count": 17,
   "metadata": {
    "colab": {
     "base_uri": "https://localhost:8080/",
     "height": 235
    },
    "colab_type": "code",
    "id": "gtLvRGnngtkc",
    "outputId": "97bffa2a-a026-4cfc-9841-1efd55217aaf"
   },
   "outputs": [
    {
     "data": {
      "text/html": [
       "<div>\n",
       "<style scoped>\n",
       "    .dataframe tbody tr th:only-of-type {\n",
       "        vertical-align: middle;\n",
       "    }\n",
       "\n",
       "    .dataframe tbody tr th {\n",
       "        vertical-align: top;\n",
       "    }\n",
       "\n",
       "    .dataframe thead th {\n",
       "        text-align: right;\n",
       "    }\n",
       "</style>\n",
       "<table border=\"1\" class=\"dataframe\">\n",
       "  <thead>\n",
       "    <tr style=\"text-align: right;\">\n",
       "      <th></th>\n",
       "      <th>input</th>\n",
       "      <th>answer_from_net</th>\n",
       "    </tr>\n",
       "  </thead>\n",
       "  <tbody>\n",
       "    <tr>\n",
       "      <th>0</th>\n",
       "      <td>5.0</td>\n",
       "      <td>10.0</td>\n",
       "    </tr>\n",
       "    <tr>\n",
       "      <th>1</th>\n",
       "      <td>18.0</td>\n",
       "      <td>23.0</td>\n",
       "    </tr>\n",
       "    <tr>\n",
       "      <th>2</th>\n",
       "      <td>25.0</td>\n",
       "      <td>30.0</td>\n",
       "    </tr>\n",
       "    <tr>\n",
       "      <th>3</th>\n",
       "      <td>72.0</td>\n",
       "      <td>77.0</td>\n",
       "    </tr>\n",
       "    <tr>\n",
       "      <th>4</th>\n",
       "      <td>1000.0</td>\n",
       "      <td>1005.0</td>\n",
       "    </tr>\n",
       "    <tr>\n",
       "      <th>5</th>\n",
       "      <td>7832.0</td>\n",
       "      <td>7836.0</td>\n",
       "    </tr>\n",
       "  </tbody>\n",
       "</table>\n",
       "</div>"
      ],
      "text/plain": [
       "    input  answer_from_net\n",
       "0     5.0             10.0\n",
       "1    18.0             23.0\n",
       "2    25.0             30.0\n",
       "3    72.0             77.0\n",
       "4  1000.0           1005.0\n",
       "5  7832.0           7836.0"
      ]
     },
     "execution_count": 17,
     "metadata": {
      "tags": []
     },
     "output_type": "execute_result"
    }
   ],
   "source": [
    "pd.DataFrame({'input':(test_input*MX_LIM).astype(\"float16\"),\n",
    "              'answer_from_net':(answer*MX_LIM).astype(\"float16\").flatten()})"
   ]
  }
 ],
 "metadata": {
  "colab": {
   "include_colab_link": true,
   "name": "1 neuron network validation and early stopping.ipynb",
   "provenance": [],
   "version": "0.3.2"
  },
  "kernelspec": {
   "display_name": "Python 3",
   "language": "python",
   "name": "python3"
  },
  "language_info": {
   "codemirror_mode": {
    "name": "ipython",
    "version": 3
   },
   "file_extension": ".py",
   "mimetype": "text/x-python",
   "name": "python",
   "nbconvert_exporter": "python",
   "pygments_lexer": "ipython3",
   "version": "3.7.3"
  }
 },
 "nbformat": 4,
 "nbformat_minor": 1
}
