{
 "cells": [
  {
   "cell_type": "code",
   "execution_count": 22,
   "metadata": {},
   "outputs": [
    {
     "data": {
      "text/html": [
       "<style>.container { width:85% !important; }</style>"
      ],
      "text/plain": [
       "<IPython.core.display.HTML object>"
      ]
     },
     "metadata": {},
     "output_type": "display_data"
    }
   ],
   "source": [
    "from IPython.core.display import display, HTML\n",
    "display(HTML(\"<style>.container { width:85% !important; }</style>\"))"
   ]
  },
  {
   "cell_type": "code",
   "execution_count": 23,
   "metadata": {},
   "outputs": [],
   "source": [
    "import os\n",
    "import shutil\n",
    "import random\n",
    "import numpy as np \n",
    "import pandas as pd\n",
    "\n",
    "from tensorflow.keras.models import load_model\n",
    "from tensorflow.keras.preprocessing.image import ImageDataGenerator\n",
    "\n",
    "from sklearn.metrics import confusion_matrix\n",
    "\n",
    "import seaborn as sns\n",
    "import matplotlib.pyplot as plt"
   ]
  },
  {
   "cell_type": "code",
   "execution_count": 24,
   "metadata": {},
   "outputs": [],
   "source": [
    "IMAGE_SIZE = (28,28)\n",
    "CLASS_LIST = ['cap','shoes']\n",
    "BATCH_SIZE = 32"
   ]
  },
  {
   "cell_type": "code",
   "execution_count": 25,
   "metadata": {},
   "outputs": [
    {
     "data": {
      "text/plain": [
       "['data/out_of_set_tests/test1',\n",
       " 'data/out_of_set_tests/test2',\n",
       " 'data/out_of_set_tests/test3',\n",
       " 'data/out_of_set_tests/test4']"
      ]
     },
     "execution_count": 25,
     "metadata": {},
     "output_type": "execute_result"
    }
   ],
   "source": [
    "MODEL_PATH = 'model/model_v4.h5'\n",
    "SOURCE_DATA_DIR = 'data/caps_and_shoes_squared_2/'\n",
    "TEST_DATA_DIR = 'data/out_of_set_tests/'\n",
    "CLASS_LIST = ['cap','shoes']\n",
    "test_paths = [TEST_DATA_DIR + 'test1',TEST_DATA_DIR + 'test2',TEST_DATA_DIR + 'test3',TEST_DATA_DIR + 'test4']\n",
    "test_paths"
   ]
  },
  {
   "cell_type": "code",
   "execution_count": 26,
   "metadata": {},
   "outputs": [],
   "source": [
    "def create_test_set(seed=random.randint(1,10000)):\n",
    "\n",
    "    dirpath = os.path.join(TEST_DATA_DIR, 'temp_test')\n",
    "    if os.path.exists(dirpath) and os.path.isdir(dirpath):\n",
    "        shutil.rmtree(dirpath)\n",
    "        \n",
    "    os.makedirs(dirpath, exist_ok=True)\n",
    "    \n",
    "    for class_name in CLASS_LIST:\n",
    "        src_dir = os.path.join(SOURCE_DATA_DIR, class_name)\n",
    "        dest_dir = os.path.join(dirpath, class_name)\n",
    "        os.makedirs(dest_dir, exist_ok=True)\n",
    "        \n",
    "        src_files = (os.listdir(src_dir))\n",
    "        random.seed(seed)\n",
    "        choices = random.sample(src_files, 25)\n",
    "        for file_name in choices:\n",
    "            shutil.copy(os.path.join(src_dir, file_name), dest_dir)\n",
    "            \n",
    "def plot_images(ims, figsize=(24,12), rows=1, interp=False, titles=None):\n",
    "    f = plt.figure(figsize=figsize)\n",
    "    cols = len(ims)//rows if len(ims) % 2 == 0 else len(ims)//rows + 1\n",
    "    for i in range(len(ims)):\n",
    "        sp = f.add_subplot(rows, cols, i+1)\n",
    "        sp.axis('Off')\n",
    "        if titles is not None:\n",
    "            sp.set_title(titles[i], fontsize=18)\n",
    "        \n",
    "        plt.imshow(ims[i].reshape(IMAGE_SIZE[0],IMAGE_SIZE[1]), cmap=\"gray\")    "
   ]
  },
  {
   "cell_type": "code",
   "execution_count": 27,
   "metadata": {},
   "outputs": [
    {
     "name": "stdout",
     "output_type": "stream",
     "text": [
      "Model: \"sequential_2\"\n",
      "_________________________________________________________________\n",
      "Layer (type)                 Output Shape              Param #   \n",
      "=================================================================\n",
      "flatten_2 (Flatten)          (None, 784)               0         \n",
      "_________________________________________________________________\n",
      "dense_8 (Dense)              (None, 64)                50240     \n",
      "_________________________________________________________________\n",
      "dense_9 (Dense)              (None, 32)                2080      \n",
      "_________________________________________________________________\n",
      "dense_10 (Dense)             (None, 16)                528       \n",
      "_________________________________________________________________\n",
      "dense_11 (Dense)             (None, 2)                 34        \n",
      "=================================================================\n",
      "Total params: 52,882\n",
      "Trainable params: 52,882\n",
      "Non-trainable params: 0\n",
      "_________________________________________________________________\n"
     ]
    }
   ],
   "source": [
    "model = load_model(MODEL_PATH)\n",
    "model.summary()"
   ]
  },
  {
   "cell_type": "code",
   "execution_count": 28,
   "metadata": {},
   "outputs": [],
   "source": [
    "test_img_generator = ImageDataGenerator(rescale = 1./255)"
   ]
  },
  {
   "cell_type": "code",
   "execution_count": 29,
   "metadata": {},
   "outputs": [
    {
     "name": "stdout",
     "output_type": "stream",
     "text": [
      "Testing from : data/out_of_set_tests/test1\n",
      "Found 49 images belonging to 2 classes.\n",
      "Test accuracy : 0.9183673\n",
      "Testing from : data/out_of_set_tests/test2\n",
      "Found 49 images belonging to 2 classes.\n",
      "Test accuracy : 0.9591837\n",
      "Testing from : data/out_of_set_tests/test3\n",
      "Found 50 images belonging to 2 classes.\n",
      "Test accuracy : 0.96\n",
      "Testing from : data/out_of_set_tests/test4\n",
      "Found 50 images belonging to 2 classes.\n",
      "Test accuracy : 0.88\n"
     ]
    }
   ],
   "source": [
    "for test_path in test_paths:\n",
    "    print('Testing from : %s' % test_path)\n",
    "    \n",
    "    test_batches = test_img_generator.flow_from_directory(test_path, target_size=IMAGE_SIZE, classes=CLASS_LIST, color_mode = 'grayscale', \n",
    "                                                  class_mode = 'categorical', batch_size=BATCH_SIZE)\n",
    "    \n",
    "    test_loss, test_accuracy = model.evaluate_generator(test_batches, workers=4, verbose=0) \n",
    "\n",
    "    print('Test accuracy : %s' % test_accuracy)"
   ]
  },
  {
   "cell_type": "code",
   "execution_count": 37,
   "metadata": {},
   "outputs": [
    {
     "name": "stdout",
     "output_type": "stream",
     "text": [
      "Found 49 images belonging to 2 classes.\n",
      "Found 49 images belonging to 2 classes.\n",
      "Found 50 images belonging to 2 classes.\n",
      "Found 49 images belonging to 2 classes.\n",
      "Found 50 images belonging to 2 classes.\n",
      "Found 50 images belonging to 2 classes.\n",
      "Found 50 images belonging to 2 classes.\n",
      "Found 50 images belonging to 2 classes.\n",
      "Found 50 images belonging to 2 classes.\n",
      "Found 50 images belonging to 2 classes.\n"
     ]
    },
    {
     "data": {
      "text/html": [
       "<div>\n",
       "<style scoped>\n",
       "    .dataframe tbody tr th:only-of-type {\n",
       "        vertical-align: middle;\n",
       "    }\n",
       "\n",
       "    .dataframe tbody tr th {\n",
       "        vertical-align: top;\n",
       "    }\n",
       "\n",
       "    .dataframe thead th {\n",
       "        text-align: right;\n",
       "    }\n",
       "</style>\n",
       "<table border=\"1\" class=\"dataframe\">\n",
       "  <thead>\n",
       "    <tr style=\"text-align: right;\">\n",
       "      <th></th>\n",
       "      <th>seed</th>\n",
       "      <th>test_accuracy</th>\n",
       "    </tr>\n",
       "  </thead>\n",
       "  <tbody>\n",
       "    <tr>\n",
       "      <th>0</th>\n",
       "      <td>5569</td>\n",
       "      <td>0.897959</td>\n",
       "    </tr>\n",
       "    <tr>\n",
       "      <th>1</th>\n",
       "      <td>1287</td>\n",
       "      <td>0.795918</td>\n",
       "    </tr>\n",
       "    <tr>\n",
       "      <th>2</th>\n",
       "      <td>6015</td>\n",
       "      <td>0.840000</td>\n",
       "    </tr>\n",
       "    <tr>\n",
       "      <th>3</th>\n",
       "      <td>2509</td>\n",
       "      <td>0.775510</td>\n",
       "    </tr>\n",
       "    <tr>\n",
       "      <th>4</th>\n",
       "      <td>9937</td>\n",
       "      <td>0.920000</td>\n",
       "    </tr>\n",
       "    <tr>\n",
       "      <th>5</th>\n",
       "      <td>5608</td>\n",
       "      <td>0.880000</td>\n",
       "    </tr>\n",
       "    <tr>\n",
       "      <th>6</th>\n",
       "      <td>7027</td>\n",
       "      <td>0.840000</td>\n",
       "    </tr>\n",
       "    <tr>\n",
       "      <th>7</th>\n",
       "      <td>1132</td>\n",
       "      <td>0.880000</td>\n",
       "    </tr>\n",
       "    <tr>\n",
       "      <th>8</th>\n",
       "      <td>4461</td>\n",
       "      <td>0.820000</td>\n",
       "    </tr>\n",
       "    <tr>\n",
       "      <th>9</th>\n",
       "      <td>6115</td>\n",
       "      <td>0.800000</td>\n",
       "    </tr>\n",
       "  </tbody>\n",
       "</table>\n",
       "</div>"
      ],
      "text/plain": [
       "   seed  test_accuracy\n",
       "0  5569       0.897959\n",
       "1  1287       0.795918\n",
       "2  6015       0.840000\n",
       "3  2509       0.775510\n",
       "4  9937       0.920000\n",
       "5  5608       0.880000\n",
       "6  7027       0.840000\n",
       "7  1132       0.880000\n",
       "8  4461       0.820000\n",
       "9  6115       0.800000"
      ]
     },
     "execution_count": 37,
     "metadata": {},
     "output_type": "execute_result"
    }
   ],
   "source": [
    "ITER = 10\n",
    "out_test_accuracy_log = []\n",
    "for iter_count in range(ITER):\n",
    "    \n",
    "    seed = random.randint(1,10000)\n",
    "    create_test_set(seed)\n",
    "    \n",
    "    test_batches = test_img_generator.flow_from_directory(os.path.join(TEST_DATA_DIR, 'temp_test'),\n",
    "                                                          target_size=IMAGE_SIZE, classes=CLASS_LIST, color_mode = 'grayscale', \n",
    "                                                          class_mode = 'categorical', batch_size=BATCH_SIZE)\n",
    "    test_loss, test_accuracy = model.evaluate_generator(test_batches, workers=4, verbose=0) \n",
    "    out_test_accuracy_log.append({\"seed\":seed,\"test_accuracy\":test_accuracy})\n",
    "    \n",
    "pd.DataFrame(out_test_accuracy_log)"
   ]
  },
  {
   "cell_type": "code",
   "execution_count": 32,
   "metadata": {},
   "outputs": [
    {
     "name": "stdout",
     "output_type": "stream",
     "text": [
      "Found 50 images belonging to 2 classes.\n",
      "Found 49 images belonging to 2 classes.\n",
      "Found 50 images belonging to 2 classes.\n",
      "Found 50 images belonging to 2 classes.\n",
      "Found 50 images belonging to 2 classes.\n",
      "Found 49 images belonging to 2 classes.\n",
      "Found 50 images belonging to 2 classes.\n",
      "Found 48 images belonging to 2 classes.\n",
      "Found 50 images belonging to 2 classes.\n",
      "Found 50 images belonging to 2 classes.\n",
      "Found 50 images belonging to 2 classes.\n",
      "Found 50 images belonging to 2 classes.\n",
      "Found 50 images belonging to 2 classes.\n",
      "Found 50 images belonging to 2 classes.\n",
      "Found 50 images belonging to 2 classes.\n",
      "Found 49 images belonging to 2 classes.\n",
      "Found 50 images belonging to 2 classes.\n",
      "Found 49 images belonging to 2 classes.\n",
      "Found 49 images belonging to 2 classes.\n",
      "Found 49 images belonging to 2 classes.\n",
      "Found 50 images belonging to 2 classes.\n",
      "Found 50 images belonging to 2 classes.\n",
      "Found 50 images belonging to 2 classes.\n",
      "Found 50 images belonging to 2 classes.\n",
      "Found 50 images belonging to 2 classes.\n",
      "Found 50 images belonging to 2 classes.\n",
      "Found 49 images belonging to 2 classes.\n",
      "Found 49 images belonging to 2 classes.\n",
      "Found 50 images belonging to 2 classes.\n",
      "Found 50 images belonging to 2 classes.\n",
      "Found 50 images belonging to 2 classes.\n",
      "Found 50 images belonging to 2 classes.\n",
      "Found 50 images belonging to 2 classes.\n",
      "Found 50 images belonging to 2 classes.\n",
      "Found 50 images belonging to 2 classes.\n",
      "Found 50 images belonging to 2 classes.\n",
      "Found 49 images belonging to 2 classes.\n",
      "Found 49 images belonging to 2 classes.\n",
      "Found 50 images belonging to 2 classes.\n",
      "Found 49 images belonging to 2 classes.\n",
      "Found 49 images belonging to 2 classes.\n",
      "Found 50 images belonging to 2 classes.\n",
      "Found 50 images belonging to 2 classes.\n",
      "Found 50 images belonging to 2 classes.\n",
      "Found 50 images belonging to 2 classes.\n",
      "Found 50 images belonging to 2 classes.\n",
      "Found 50 images belonging to 2 classes.\n",
      "Found 50 images belonging to 2 classes.\n",
      "Found 50 images belonging to 2 classes.\n",
      "Found 50 images belonging to 2 classes.\n",
      "Found 50 images belonging to 2 classes.\n",
      "Found 50 images belonging to 2 classes.\n",
      "Found 50 images belonging to 2 classes.\n",
      "Found 50 images belonging to 2 classes.\n",
      "Found 50 images belonging to 2 classes.\n",
      "Found 50 images belonging to 2 classes.\n",
      "Found 50 images belonging to 2 classes.\n",
      "Found 50 images belonging to 2 classes.\n",
      "Found 50 images belonging to 2 classes.\n",
      "Found 49 images belonging to 2 classes.\n",
      "Found 49 images belonging to 2 classes.\n",
      "Found 50 images belonging to 2 classes.\n",
      "Found 50 images belonging to 2 classes.\n",
      "Found 50 images belonging to 2 classes.\n",
      "Found 50 images belonging to 2 classes.\n",
      "Found 50 images belonging to 2 classes.\n",
      "Found 50 images belonging to 2 classes.\n",
      "Found 50 images belonging to 2 classes.\n",
      "Found 50 images belonging to 2 classes.\n",
      "Found 50 images belonging to 2 classes.\n",
      "Found 50 images belonging to 2 classes.\n",
      "Found 50 images belonging to 2 classes.\n",
      "Found 50 images belonging to 2 classes.\n",
      "Found 50 images belonging to 2 classes.\n",
      "Found 50 images belonging to 2 classes.\n",
      "Found 49 images belonging to 2 classes.\n",
      "Found 50 images belonging to 2 classes.\n",
      "Found 50 images belonging to 2 classes.\n",
      "Found 50 images belonging to 2 classes.\n",
      "Found 50 images belonging to 2 classes.\n",
      "Found 49 images belonging to 2 classes.\n",
      "Found 49 images belonging to 2 classes.\n",
      "Found 50 images belonging to 2 classes.\n",
      "Found 49 images belonging to 2 classes.\n",
      "Found 49 images belonging to 2 classes.\n",
      "Found 48 images belonging to 2 classes.\n",
      "Found 49 images belonging to 2 classes.\n",
      "Found 49 images belonging to 2 classes.\n",
      "Found 50 images belonging to 2 classes.\n",
      "Found 48 images belonging to 2 classes.\n",
      "Found 48 images belonging to 2 classes.\n",
      "Found 50 images belonging to 2 classes.\n",
      "Found 49 images belonging to 2 classes.\n",
      "Found 50 images belonging to 2 classes.\n",
      "Found 50 images belonging to 2 classes.\n",
      "Found 49 images belonging to 2 classes.\n",
      "Found 50 images belonging to 2 classes.\n",
      "Found 48 images belonging to 2 classes.\n",
      "Found 50 images belonging to 2 classes.\n",
      "Found 49 images belonging to 2 classes.\n"
     ]
    },
    {
     "data": {
      "text/html": [
       "<div>\n",
       "<style scoped>\n",
       "    .dataframe tbody tr th:only-of-type {\n",
       "        vertical-align: middle;\n",
       "    }\n",
       "\n",
       "    .dataframe tbody tr th {\n",
       "        vertical-align: top;\n",
       "    }\n",
       "\n",
       "    .dataframe thead th {\n",
       "        text-align: right;\n",
       "    }\n",
       "</style>\n",
       "<table border=\"1\" class=\"dataframe\">\n",
       "  <thead>\n",
       "    <tr style=\"text-align: right;\">\n",
       "      <th></th>\n",
       "      <th>seed</th>\n",
       "      <th>test_accuracy</th>\n",
       "    </tr>\n",
       "  </thead>\n",
       "  <tbody>\n",
       "    <tr>\n",
       "      <th>count</th>\n",
       "      <td>100.000000</td>\n",
       "      <td>100.000000</td>\n",
       "    </tr>\n",
       "    <tr>\n",
       "      <th>mean</th>\n",
       "      <td>5170.020000</td>\n",
       "      <td>0.852039</td>\n",
       "    </tr>\n",
       "    <tr>\n",
       "      <th>std</th>\n",
       "      <td>3034.753277</td>\n",
       "      <td>0.050470</td>\n",
       "    </tr>\n",
       "    <tr>\n",
       "      <th>min</th>\n",
       "      <td>58.000000</td>\n",
       "      <td>0.714286</td>\n",
       "    </tr>\n",
       "    <tr>\n",
       "      <th>25%</th>\n",
       "      <td>2495.750000</td>\n",
       "      <td>0.819082</td>\n",
       "    </tr>\n",
       "    <tr>\n",
       "      <th>50%</th>\n",
       "      <td>5479.500000</td>\n",
       "      <td>0.858571</td>\n",
       "    </tr>\n",
       "    <tr>\n",
       "      <th>75%</th>\n",
       "      <td>7810.750000</td>\n",
       "      <td>0.880000</td>\n",
       "    </tr>\n",
       "    <tr>\n",
       "      <th>max</th>\n",
       "      <td>9940.000000</td>\n",
       "      <td>0.940000</td>\n",
       "    </tr>\n",
       "  </tbody>\n",
       "</table>\n",
       "</div>"
      ],
      "text/plain": [
       "              seed  test_accuracy\n",
       "count   100.000000     100.000000\n",
       "mean   5170.020000       0.852039\n",
       "std    3034.753277       0.050470\n",
       "min      58.000000       0.714286\n",
       "25%    2495.750000       0.819082\n",
       "50%    5479.500000       0.858571\n",
       "75%    7810.750000       0.880000\n",
       "max    9940.000000       0.940000"
      ]
     },
     "execution_count": 32,
     "metadata": {},
     "output_type": "execute_result"
    }
   ],
   "source": [
    "ITER = 100\n",
    "out_test_accuracy_log = []\n",
    "for iter_count in range(ITER):\n",
    "    \n",
    "    seed = random.randint(1,10000)\n",
    "    create_test_set(seed)\n",
    "    \n",
    "    test_batches = test_img_generator.flow_from_directory(os.path.join(TEST_DATA_DIR, 'temp_test'),\n",
    "                                                          target_size=IMAGE_SIZE, classes=CLASS_LIST, color_mode = 'grayscale', \n",
    "                                                          class_mode = 'categorical', batch_size=BATCH_SIZE)\n",
    "    test_loss, test_accuracy = model.evaluate_generator(test_batches, workers=4, verbose=0) \n",
    "    out_test_accuracy_log.append({\"seed\":seed,\"test_accuracy\":test_accuracy})\n",
    "    \n",
    "pd.DataFrame(out_test_accuracy_log).describe()"
   ]
  },
  {
   "cell_type": "code",
   "execution_count": 38,
   "metadata": {},
   "outputs": [
    {
     "name": "stdout",
     "output_type": "stream",
     "text": [
      "Found 49 images belonging to 2 classes.\n"
     ]
    }
   ],
   "source": [
    "seed = 2509\n",
    "create_test_set(seed)\n",
    "    \n",
    "test_batches = test_img_generator.flow_from_directory(os.path.join(TEST_DATA_DIR, 'temp_test'),\n",
    "                                                      target_size=IMAGE_SIZE, classes=CLASS_LIST, color_mode = 'grayscale', \n",
    "                                                      class_mode = 'categorical', batch_size=1, shuffle=False)\n",
    "test_loss, test_accuracy = model.evaluate_generator(test_batches, workers=4, verbose=0) "
   ]
  },
  {
   "cell_type": "code",
   "execution_count": 39,
   "metadata": {},
   "outputs": [],
   "source": [
    "test_batches.reset()\n",
    "actual_labels = []\n",
    "X_test = []\n",
    "i = 0\n",
    "max_iter = test_batches.samples\n",
    "for data, label in test_batches:\n",
    "    actual_labels.append(label)\n",
    "    X_test.append(data)\n",
    "    i += 1\n",
    "    if i == max_iter:\n",
    "        break\n",
    "        \n",
    "actual_labels = np.concatenate(actual_labels)\n",
    "X_test = np.concatenate(X_test)"
   ]
  },
  {
   "cell_type": "code",
   "execution_count": 40,
   "metadata": {},
   "outputs": [],
   "source": [
    "test_batches.reset()\n",
    "predictions = model.predict_generator(test_batches)"
   ]
  },
  {
   "cell_type": "code",
   "execution_count": 41,
   "metadata": {},
   "outputs": [
    {
     "data": {
      "text/html": [
       "<div>\n",
       "<style scoped>\n",
       "    .dataframe tbody tr th:only-of-type {\n",
       "        vertical-align: middle;\n",
       "    }\n",
       "\n",
       "    .dataframe tbody tr th {\n",
       "        vertical-align: top;\n",
       "    }\n",
       "\n",
       "    .dataframe thead th {\n",
       "        text-align: right;\n",
       "    }\n",
       "</style>\n",
       "<table border=\"1\" class=\"dataframe\">\n",
       "  <thead>\n",
       "    <tr style=\"text-align: right;\">\n",
       "      <th></th>\n",
       "      <th>predicted_cap</th>\n",
       "      <th>predicted_shoes</th>\n",
       "      <th>actual cap</th>\n",
       "      <th>actual_shoes</th>\n",
       "    </tr>\n",
       "  </thead>\n",
       "  <tbody>\n",
       "    <tr>\n",
       "      <th>0</th>\n",
       "      <td>0.995117</td>\n",
       "      <td>0.004887</td>\n",
       "      <td>1.0</td>\n",
       "      <td>0.0</td>\n",
       "    </tr>\n",
       "    <tr>\n",
       "      <th>1</th>\n",
       "      <td>0.457764</td>\n",
       "      <td>0.541992</td>\n",
       "      <td>1.0</td>\n",
       "      <td>0.0</td>\n",
       "    </tr>\n",
       "    <tr>\n",
       "      <th>2</th>\n",
       "      <td>0.420166</td>\n",
       "      <td>0.579590</td>\n",
       "      <td>1.0</td>\n",
       "      <td>0.0</td>\n",
       "    </tr>\n",
       "    <tr>\n",
       "      <th>3</th>\n",
       "      <td>0.669434</td>\n",
       "      <td>0.330811</td>\n",
       "      <td>1.0</td>\n",
       "      <td>0.0</td>\n",
       "    </tr>\n",
       "    <tr>\n",
       "      <th>4</th>\n",
       "      <td>0.167480</td>\n",
       "      <td>0.832520</td>\n",
       "      <td>1.0</td>\n",
       "      <td>0.0</td>\n",
       "    </tr>\n",
       "  </tbody>\n",
       "</table>\n",
       "</div>"
      ],
      "text/plain": [
       "   predicted_cap  predicted_shoes  actual cap  actual_shoes\n",
       "0       0.995117         0.004887         1.0           0.0\n",
       "1       0.457764         0.541992         1.0           0.0\n",
       "2       0.420166         0.579590         1.0           0.0\n",
       "3       0.669434         0.330811         1.0           0.0\n",
       "4       0.167480         0.832520         1.0           0.0"
      ]
     },
     "execution_count": 41,
     "metadata": {},
     "output_type": "execute_result"
    }
   ],
   "source": [
    "test_prediction_data = pd.DataFrame(np.hstack([predictions,actual_labels]).astype(\"float16\"), columns=['predicted_cap','predicted_shoes','actual cap','actual_shoes'])\n",
    "test_prediction_data[:5]"
   ]
  },
  {
   "cell_type": "code",
   "execution_count": 42,
   "metadata": {},
   "outputs": [],
   "source": [
    "threshold = 0.5"
   ]
  },
  {
   "cell_type": "code",
   "execution_count": 43,
   "metadata": {},
   "outputs": [
    {
     "data": {
      "image/png": "[encoded data removed]",
      "text/plain": [
       "<Figure size 432x288 with 2 Axes>"
      ]
     },
     "metadata": {
      "needs_background": "light"
     },
     "output_type": "display_data"
    }
   ],
   "source": [
    "labels = ['cap','shoes']\n",
    "cm = confusion_matrix(np.argmax(actual_labels ,axis=1), np.argmax(predictions, axis=1), [0,1])\n",
    "\n",
    "ax= plt.subplot()\n",
    "sns.heatmap(cm, annot=True, ax = ax);\n",
    "\n",
    "ax.set_xlabel('Predicted labels');\n",
    "ax.set_ylabel('True labels'); \n",
    "ax.set_title('Confusion Matrix'); \n",
    "ax.xaxis.set_ticklabels(labels); ax.yaxis.set_ticklabels(labels);"
   ]
  },
  {
   "cell_type": "code",
   "execution_count": 44,
   "metadata": {},
   "outputs": [
    {
     "data": {
      "image/png": "[encoded data removed]",
      "text/plain": [
       "<Figure size 1728x864 with 5 Axes>"
      ]
     },
     "metadata": {
      "needs_background": "light"
     },
     "output_type": "display_data"
    }
   ],
   "source": [
    "filter_ = (test_prediction_data['actual cap'] == 1) & (test_prediction_data['predicted_cap'] < threshold)\n",
    "top_wrong_caps_ix = test_prediction_data[filter_]['predicted_cap'].sort_values().index.values[:5]\n",
    "top_wrong_caps_values = test_prediction_data[filter_]['predicted_cap'].sort_values().values[:5]\n",
    "plot_images(X_test[top_wrong_caps_ix],titles=top_wrong_caps_values)"
   ]
  },
  {
   "cell_type": "code",
   "execution_count": 45,
   "metadata": {},
   "outputs": [
    {
     "data": {
      "image/png": "[encoded data removed]",
      "text/plain": [
       "<Figure size 1728x864 with 5 Axes>"
      ]
     },
     "metadata": {
      "needs_background": "light"
     },
     "output_type": "display_data"
    }
   ],
   "source": [
    "filter_ = (test_prediction_data['actual cap'] == 1) & (test_prediction_data['predicted_cap'] > threshold)\n",
    "top_correct_caps_ix = test_prediction_data[filter_]['predicted_cap'].sort_values(ascending=False).index.values[:5]\n",
    "top_correct_caps_values = test_prediction_data[filter_]['predicted_cap'].sort_values(ascending=False).values[:5]\n",
    "plot_images(X_test[top_correct_caps_ix],titles=top_correct_caps_values)"
   ]
  },
  {
   "cell_type": "code",
   "execution_count": 46,
   "metadata": {},
   "outputs": [
    {
     "data": {
      "image/png": "[encoded data removed]",
      "text/plain": [
       "<Figure size 1728x864 with 5 Axes>"
      ]
     },
     "metadata": {
      "needs_background": "light"
     },
     "output_type": "display_data"
    }
   ],
   "source": [
    "filter_ = (test_prediction_data['actual_shoes'] == 1) & (test_prediction_data['predicted_shoes'] < threshold)\n",
    "top_wrong_shoes_ix = test_prediction_data[filter_]['predicted_shoes'].sort_values().index.values[:5]\n",
    "top_wrong_shoes_values = test_prediction_data[filter_]['predicted_shoes'].sort_values().values[:5]\n",
    "plot_images(X_test[top_wrong_shoes_ix],titles=top_wrong_shoes_values)"
   ]
  },
  {
   "cell_type": "code",
   "execution_count": 47,
   "metadata": {},
   "outputs": [
    {
     "data": {
      "image/png": "[encoded data removed]",
      "text/plain": [
       "<Figure size 1728x864 with 5 Axes>"
      ]
     },
     "metadata": {
      "needs_background": "light"
     },
     "output_type": "display_data"
    }
   ],
   "source": [
    "filter_ = (test_prediction_data['actual_shoes'] == 1) & (test_prediction_data['predicted_shoes'] > threshold)\n",
    "top_correct_shoes_ix = test_prediction_data[filter_]['predicted_shoes'].sort_values(ascending=False).index.values[:5]\n",
    "top_correct_shoes_values = test_prediction_data[filter_]['predicted_shoes'].sort_values(ascending=False).values[:5]\n",
    "plot_images(X_test[top_correct_shoes_ix],titles=top_correct_shoes_values)"
   ]
  }
 ],
 "metadata": {
  "kernelspec": {
   "display_name": "Python 3",
   "language": "python",
   "name": "python3"
  },
  "language_info": {
   "codemirror_mode": {
    "name": "ipython",
    "version": 3
   },
   "file_extension": ".py",
   "mimetype": "text/x-python",
   "name": "python",
   "nbconvert_exporter": "python",
   "pygments_lexer": "ipython3",
   "version": "3.7.3"
  }
 },
 "nbformat": 4,
 "nbformat_minor": 2
}
