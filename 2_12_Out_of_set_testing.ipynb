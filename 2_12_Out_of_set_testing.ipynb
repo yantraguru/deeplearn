{
 "cells": [
  {
   "cell_type": "code",
   "execution_count": 1,
   "metadata": {},
   "outputs": [
    {
     "data": {
      "text/html": [
       "<style>.container { width:85% !important; }</style>"
      ],
      "text/plain": [
       "<IPython.core.display.HTML object>"
      ]
     },
     "metadata": {},
     "output_type": "display_data"
    }
   ],
   "source": [
    "from IPython.core.display import display, HTML\n",
    "display(HTML(\"<style>.container { width:85% !important; }</style>\"))"
   ]
  },
  {
   "cell_type": "code",
   "execution_count": 2,
   "metadata": {},
   "outputs": [],
   "source": [
    "import os\n",
    "import shutil\n",
    "import random\n",
    "import numpy as np \n",
    "import pandas as pd\n",
    "\n",
    "from tensorflow.keras.models import load_model\n",
    "from tensorflow.keras.preprocessing.image import ImageDataGenerator\n",
    "\n",
    "from sklearn.metrics import confusion_matrix\n",
    "\n",
    "import seaborn as sns\n",
    "import matplotlib.pyplot as plt"
   ]
  },
  {
   "cell_type": "code",
   "execution_count": 3,
   "metadata": {},
   "outputs": [],
   "source": [
    "IMAGE_SIZE = (28,28)\n",
    "CLASS_LIST = ['cap','shoes']\n",
    "BATCH_SIZE = 32"
   ]
  },
  {
   "cell_type": "code",
   "execution_count": 25,
   "metadata": {},
   "outputs": [
    {
     "data": {
      "text/plain": [
       "['data/out_of_set_tests/test1',\n",
       " 'data/out_of_set_tests/test2',\n",
       " 'data/out_of_set_tests/test3',\n",
       " 'data/out_of_set_tests/test4']"
      ]
     },
     "execution_count": 25,
     "metadata": {},
     "output_type": "execute_result"
    }
   ],
   "source": [
    "MODEL_PATH = 'model/model_lo_valid_300.h5'\n",
    "SOURCE_DATA_DIR = 'data/caps_and_shoes_squared_2/'\n",
    "TEST_DATA_DIR = 'data/out_of_set_tests/'\n",
    "CLASS_LIST = ['cap','shoes']\n",
    "test_paths = [TEST_DATA_DIR + 'test1',TEST_DATA_DIR + 'test2',TEST_DATA_DIR + 'test3',TEST_DATA_DIR + 'test4']\n",
    "test_paths"
   ]
  },
  {
   "cell_type": "code",
   "execution_count": 26,
   "metadata": {},
   "outputs": [],
   "source": [
    "def create_test_set(seed=random.randint(1,10000)):\n",
    "\n",
    "    dirpath = os.path.join(TEST_DATA_DIR, 'temp_test')\n",
    "    if os.path.exists(dirpath) and os.path.isdir(dirpath):\n",
    "        shutil.rmtree(dirpath)\n",
    "        \n",
    "    os.makedirs(dirpath, exist_ok=True)\n",
    "    \n",
    "    for class_name in CLASS_LIST:\n",
    "        src_dir = os.path.join(SOURCE_DATA_DIR, class_name)\n",
    "        dest_dir = os.path.join(dirpath, class_name)\n",
    "        os.makedirs(dest_dir, exist_ok=True)\n",
    "        \n",
    "        src_files = (os.listdir(src_dir))\n",
    "        random.seed(seed)\n",
    "        choices = random.sample(src_files, 25)\n",
    "        for file_name in choices:\n",
    "            shutil.copy(os.path.join(src_dir, file_name), dest_dir)\n",
    "            \n",
    "def plot_images(ims, figsize=(24,12), rows=1, interp=False, titles=None):\n",
    "    f = plt.figure(figsize=figsize)\n",
    "    cols = len(ims)//rows if len(ims) % 2 == 0 else len(ims)//rows + 1\n",
    "    for i in range(len(ims)):\n",
    "        sp = f.add_subplot(rows, cols, i+1)\n",
    "        sp.axis('Off')\n",
    "        if titles is not None:\n",
    "            sp.set_title(titles[i], fontsize=18)\n",
    "        \n",
    "        plt.imshow(ims[i].reshape(IMAGE_SIZE[0],IMAGE_SIZE[1]), cmap=\"gray\")    "
   ]
  },
  {
   "cell_type": "code",
   "execution_count": 27,
   "metadata": {},
   "outputs": [
    {
     "name": "stdout",
     "output_type": "stream",
     "text": [
      "Model: \"sequential_1\"\n",
      "_________________________________________________________________\n",
      "Layer (type)                 Output Shape              Param #   \n",
      "=================================================================\n",
      "flatten_1 (Flatten)          (None, 784)               0         \n",
      "_________________________________________________________________\n",
      "dense_4 (Dense)              (None, 64)                50240     \n",
      "_________________________________________________________________\n",
      "dense_5 (Dense)              (None, 32)                2080      \n",
      "_________________________________________________________________\n",
      "dense_6 (Dense)              (None, 16)                528       \n",
      "_________________________________________________________________\n",
      "dense_7 (Dense)              (None, 2)                 34        \n",
      "=================================================================\n",
      "Total params: 52,882\n",
      "Trainable params: 52,882\n",
      "Non-trainable params: 0\n",
      "_________________________________________________________________\n"
     ]
    }
   ],
   "source": [
    "model = load_model(MODEL_PATH)\n",
    "model.summary()"
   ]
  },
  {
   "cell_type": "code",
   "execution_count": 28,
   "metadata": {},
   "outputs": [],
   "source": [
    "test_img_generator = ImageDataGenerator(rescale = 1./255)"
   ]
  },
  {
   "cell_type": "code",
   "execution_count": 29,
   "metadata": {},
   "outputs": [
    {
     "name": "stdout",
     "output_type": "stream",
     "text": [
      "Testing from : data/out_of_set_tests/test1\n",
      "Found 49 images belonging to 2 classes.\n",
      "Test accuracy : 0.8979592\n",
      "Testing from : data/out_of_set_tests/test2\n",
      "Found 49 images belonging to 2 classes.\n",
      "Test accuracy : 0.85714287\n",
      "Testing from : data/out_of_set_tests/test3\n",
      "Found 50 images belonging to 2 classes.\n",
      "Test accuracy : 0.88\n",
      "Testing from : data/out_of_set_tests/test4\n",
      "Found 50 images belonging to 2 classes.\n",
      "Test accuracy : 0.86\n"
     ]
    }
   ],
   "source": [
    "for test_path in test_paths:\n",
    "    print('Testing from : %s' % test_path)\n",
    "    \n",
    "    test_batches = test_img_generator.flow_from_directory(test_path, target_size=IMAGE_SIZE, classes=CLASS_LIST, color_mode = 'grayscale', \n",
    "                                                  class_mode = 'categorical', batch_size=BATCH_SIZE)\n",
    "    \n",
    "    test_loss, test_accuracy = model.evaluate_generator(test_batches, workers=4, verbose=0) \n",
    "\n",
    "    print('Test accuracy : %s' % test_accuracy)"
   ]
  },
  {
   "cell_type": "code",
   "execution_count": 30,
   "metadata": {},
   "outputs": [
    {
     "name": "stdout",
     "output_type": "stream",
     "text": [
      "Found 50 images belonging to 2 classes.\n",
      "Found 50 images belonging to 2 classes.\n",
      "Found 49 images belonging to 2 classes.\n",
      "Found 49 images belonging to 2 classes.\n",
      "Found 48 images belonging to 2 classes.\n",
      "Found 48 images belonging to 2 classes.\n",
      "Found 50 images belonging to 2 classes.\n",
      "Found 50 images belonging to 2 classes.\n",
      "Found 50 images belonging to 2 classes.\n",
      "Found 49 images belonging to 2 classes.\n"
     ]
    },
    {
     "data": {
      "text/html": [
       "<div>\n",
       "<style scoped>\n",
       "    .dataframe tbody tr th:only-of-type {\n",
       "        vertical-align: middle;\n",
       "    }\n",
       "\n",
       "    .dataframe tbody tr th {\n",
       "        vertical-align: top;\n",
       "    }\n",
       "\n",
       "    .dataframe thead th {\n",
       "        text-align: right;\n",
       "    }\n",
       "</style>\n",
       "<table border=\"1\" class=\"dataframe\">\n",
       "  <thead>\n",
       "    <tr style=\"text-align: right;\">\n",
       "      <th></th>\n",
       "      <th>seed</th>\n",
       "      <th>test_accuracy</th>\n",
       "    </tr>\n",
       "  </thead>\n",
       "  <tbody>\n",
       "    <tr>\n",
       "      <th>0</th>\n",
       "      <td>7204</td>\n",
       "      <td>0.760000</td>\n",
       "    </tr>\n",
       "    <tr>\n",
       "      <th>1</th>\n",
       "      <td>4635</td>\n",
       "      <td>0.900000</td>\n",
       "    </tr>\n",
       "    <tr>\n",
       "      <th>2</th>\n",
       "      <td>9819</td>\n",
       "      <td>0.918367</td>\n",
       "    </tr>\n",
       "    <tr>\n",
       "      <th>3</th>\n",
       "      <td>1522</td>\n",
       "      <td>0.836735</td>\n",
       "    </tr>\n",
       "    <tr>\n",
       "      <th>4</th>\n",
       "      <td>8</td>\n",
       "      <td>0.854167</td>\n",
       "    </tr>\n",
       "    <tr>\n",
       "      <th>5</th>\n",
       "      <td>4371</td>\n",
       "      <td>0.833333</td>\n",
       "    </tr>\n",
       "    <tr>\n",
       "      <th>6</th>\n",
       "      <td>9716</td>\n",
       "      <td>0.800000</td>\n",
       "    </tr>\n",
       "    <tr>\n",
       "      <th>7</th>\n",
       "      <td>2429</td>\n",
       "      <td>0.860000</td>\n",
       "    </tr>\n",
       "    <tr>\n",
       "      <th>8</th>\n",
       "      <td>8698</td>\n",
       "      <td>0.800000</td>\n",
       "    </tr>\n",
       "    <tr>\n",
       "      <th>9</th>\n",
       "      <td>8582</td>\n",
       "      <td>0.836735</td>\n",
       "    </tr>\n",
       "  </tbody>\n",
       "</table>\n",
       "</div>"
      ],
      "text/plain": [
       "   seed  test_accuracy\n",
       "0  7204       0.760000\n",
       "1  4635       0.900000\n",
       "2  9819       0.918367\n",
       "3  1522       0.836735\n",
       "4     8       0.854167\n",
       "5  4371       0.833333\n",
       "6  9716       0.800000\n",
       "7  2429       0.860000\n",
       "8  8698       0.800000\n",
       "9  8582       0.836735"
      ]
     },
     "execution_count": 30,
     "metadata": {},
     "output_type": "execute_result"
    }
   ],
   "source": [
    "ITER = 10\n",
    "out_test_accuracy_log = []\n",
    "for iter_count in range(ITER):\n",
    "    \n",
    "    seed = random.randint(1,10000)\n",
    "    create_test_set(seed)\n",
    "    \n",
    "    test_batches = test_img_generator.flow_from_directory(os.path.join(TEST_DATA_DIR, 'temp_test'),\n",
    "                                                          target_size=IMAGE_SIZE, classes=CLASS_LIST, color_mode = 'grayscale', \n",
    "                                                          class_mode = 'categorical', batch_size=BATCH_SIZE)\n",
    "    test_loss, test_accuracy = model.evaluate_generator(test_batches, workers=4, verbose=0) \n",
    "    out_test_accuracy_log.append({\"seed\":seed,\"test_accuracy\":test_accuracy})\n",
    "    \n",
    "pd.DataFrame(out_test_accuracy_log)"
   ]
  },
  {
   "cell_type": "code",
   "execution_count": 32,
   "metadata": {},
   "outputs": [
    {
     "name": "stdout",
     "output_type": "stream",
     "text": [
      "Found 50 images belonging to 2 classes.\n",
      "Found 50 images belonging to 2 classes.\n",
      "Found 50 images belonging to 2 classes.\n",
      "Found 50 images belonging to 2 classes.\n",
      "Found 50 images belonging to 2 classes.\n",
      "Found 50 images belonging to 2 classes.\n",
      "Found 50 images belonging to 2 classes.\n",
      "Found 50 images belonging to 2 classes.\n",
      "Found 50 images belonging to 2 classes.\n",
      "Found 50 images belonging to 2 classes.\n",
      "Found 50 images belonging to 2 classes.\n",
      "Found 50 images belonging to 2 classes.\n",
      "Found 49 images belonging to 2 classes.\n",
      "Found 49 images belonging to 2 classes.\n",
      "Found 50 images belonging to 2 classes.\n",
      "Found 49 images belonging to 2 classes.\n",
      "Found 50 images belonging to 2 classes.\n",
      "Found 50 images belonging to 2 classes.\n",
      "Found 50 images belonging to 2 classes.\n",
      "Found 50 images belonging to 2 classes.\n",
      "Found 50 images belonging to 2 classes.\n",
      "Found 50 images belonging to 2 classes.\n",
      "Found 50 images belonging to 2 classes.\n",
      "Found 50 images belonging to 2 classes.\n",
      "Found 50 images belonging to 2 classes.\n",
      "Found 50 images belonging to 2 classes.\n",
      "Found 50 images belonging to 2 classes.\n",
      "Found 50 images belonging to 2 classes.\n",
      "Found 50 images belonging to 2 classes.\n",
      "Found 50 images belonging to 2 classes.\n",
      "Found 50 images belonging to 2 classes.\n",
      "Found 49 images belonging to 2 classes.\n",
      "Found 49 images belonging to 2 classes.\n",
      "Found 50 images belonging to 2 classes.\n",
      "Found 49 images belonging to 2 classes.\n",
      "Found 50 images belonging to 2 classes.\n",
      "Found 50 images belonging to 2 classes.\n",
      "Found 50 images belonging to 2 classes.\n",
      "Found 50 images belonging to 2 classes.\n",
      "Found 50 images belonging to 2 classes.\n",
      "Found 50 images belonging to 2 classes.\n",
      "Found 50 images belonging to 2 classes.\n",
      "Found 50 images belonging to 2 classes.\n",
      "Found 50 images belonging to 2 classes.\n",
      "Found 50 images belonging to 2 classes.\n",
      "Found 50 images belonging to 2 classes.\n",
      "Found 50 images belonging to 2 classes.\n",
      "Found 50 images belonging to 2 classes.\n",
      "Found 50 images belonging to 2 classes.\n",
      "Found 50 images belonging to 2 classes.\n",
      "Found 49 images belonging to 2 classes.\n",
      "Found 49 images belonging to 2 classes.\n",
      "Found 50 images belonging to 2 classes.\n",
      "Found 49 images belonging to 2 classes.\n",
      "Found 50 images belonging to 2 classes.\n",
      "Found 50 images belonging to 2 classes.\n",
      "Found 50 images belonging to 2 classes.\n",
      "Found 50 images belonging to 2 classes.\n",
      "Found 50 images belonging to 2 classes.\n",
      "Found 50 images belonging to 2 classes.\n",
      "Found 50 images belonging to 2 classes.\n",
      "Found 50 images belonging to 2 classes.\n",
      "Found 50 images belonging to 2 classes.\n",
      "Found 50 images belonging to 2 classes.\n",
      "Found 50 images belonging to 2 classes.\n",
      "Found 50 images belonging to 2 classes.\n",
      "Found 50 images belonging to 2 classes.\n",
      "Found 50 images belonging to 2 classes.\n",
      "Found 50 images belonging to 2 classes.\n",
      "Found 49 images belonging to 2 classes.\n",
      "Found 49 images belonging to 2 classes.\n",
      "Found 50 images belonging to 2 classes.\n",
      "Found 49 images belonging to 2 classes.\n",
      "Found 50 images belonging to 2 classes.\n",
      "Found 50 images belonging to 2 classes.\n",
      "Found 50 images belonging to 2 classes.\n",
      "Found 50 images belonging to 2 classes.\n",
      "Found 50 images belonging to 2 classes.\n",
      "Found 50 images belonging to 2 classes.\n",
      "Found 50 images belonging to 2 classes.\n",
      "Found 50 images belonging to 2 classes.\n",
      "Found 50 images belonging to 2 classes.\n",
      "Found 50 images belonging to 2 classes.\n",
      "Found 50 images belonging to 2 classes.\n",
      "Found 50 images belonging to 2 classes.\n",
      "Found 50 images belonging to 2 classes.\n",
      "Found 50 images belonging to 2 classes.\n",
      "Found 50 images belonging to 2 classes.\n",
      "Found 49 images belonging to 2 classes.\n",
      "Found 49 images belonging to 2 classes.\n",
      "Found 50 images belonging to 2 classes.\n",
      "Found 49 images belonging to 2 classes.\n",
      "Found 50 images belonging to 2 classes.\n",
      "Found 50 images belonging to 2 classes.\n",
      "Found 50 images belonging to 2 classes.\n",
      "Found 50 images belonging to 2 classes.\n",
      "Found 50 images belonging to 2 classes.\n",
      "Found 50 images belonging to 2 classes.\n",
      "Found 50 images belonging to 2 classes.\n",
      "Found 50 images belonging to 2 classes.\n"
     ]
    },
    {
     "data": {
      "text/html": [
       "<div>\n",
       "<style scoped>\n",
       "    .dataframe tbody tr th:only-of-type {\n",
       "        vertical-align: middle;\n",
       "    }\n",
       "\n",
       "    .dataframe tbody tr th {\n",
       "        vertical-align: top;\n",
       "    }\n",
       "\n",
       "    .dataframe thead th {\n",
       "        text-align: right;\n",
       "    }\n",
       "</style>\n",
       "<table border=\"1\" class=\"dataframe\">\n",
       "  <thead>\n",
       "    <tr style=\"text-align: right;\">\n",
       "      <th></th>\n",
       "      <th>seed</th>\n",
       "      <th>test_accuracy</th>\n",
       "    </tr>\n",
       "  </thead>\n",
       "  <tbody>\n",
       "    <tr>\n",
       "      <th>count</th>\n",
       "      <td>100.000000</td>\n",
       "      <td>100.000000</td>\n",
       "    </tr>\n",
       "    <tr>\n",
       "      <th>mean</th>\n",
       "      <td>4576.830000</td>\n",
       "      <td>0.836396</td>\n",
       "    </tr>\n",
       "    <tr>\n",
       "      <th>std</th>\n",
       "      <td>2391.953519</td>\n",
       "      <td>0.061011</td>\n",
       "    </tr>\n",
       "    <tr>\n",
       "      <th>min</th>\n",
       "      <td>846.000000</td>\n",
       "      <td>0.720000</td>\n",
       "    </tr>\n",
       "    <tr>\n",
       "      <th>25%</th>\n",
       "      <td>2509.000000</td>\n",
       "      <td>0.800000</td>\n",
       "    </tr>\n",
       "    <tr>\n",
       "      <th>50%</th>\n",
       "      <td>4461.000000</td>\n",
       "      <td>0.836735</td>\n",
       "    </tr>\n",
       "    <tr>\n",
       "      <th>75%</th>\n",
       "      <td>6115.000000</td>\n",
       "      <td>0.880000</td>\n",
       "    </tr>\n",
       "    <tr>\n",
       "      <th>max</th>\n",
       "      <td>9937.000000</td>\n",
       "      <td>0.980000</td>\n",
       "    </tr>\n",
       "  </tbody>\n",
       "</table>\n",
       "</div>"
      ],
      "text/plain": [
       "              seed  test_accuracy\n",
       "count   100.000000     100.000000\n",
       "mean   4576.830000       0.836396\n",
       "std    2391.953519       0.061011\n",
       "min     846.000000       0.720000\n",
       "25%    2509.000000       0.800000\n",
       "50%    4461.000000       0.836735\n",
       "75%    6115.000000       0.880000\n",
       "max    9937.000000       0.980000"
      ]
     },
     "execution_count": 32,
     "metadata": {},
     "output_type": "execute_result"
    }
   ],
   "source": [
    "ITER = 100\n",
    "out_test_accuracy_log = []\n",
    "for iter_count in range(ITER):\n",
    "    \n",
    "    seed = random.randint(1,10000)\n",
    "    create_test_set(seed)\n",
    "    \n",
    "    test_batches = test_img_generator.flow_from_directory(os.path.join(TEST_DATA_DIR, 'temp_test'),\n",
    "                                                          target_size=IMAGE_SIZE, classes=CLASS_LIST, color_mode = 'grayscale', \n",
    "                                                          class_mode = 'categorical', batch_size=BATCH_SIZE)\n",
    "    test_loss, test_accuracy = model.evaluate_generator(test_batches, workers=4, verbose=0) \n",
    "    out_test_accuracy_log.append({\"seed\":seed,\"test_accuracy\":test_accuracy})\n",
    "    \n",
    "pd.DataFrame(out_test_accuracy_log).describe()"
   ]
  },
  {
   "cell_type": "code",
   "execution_count": 33,
   "metadata": {},
   "outputs": [
    {
     "name": "stdout",
     "output_type": "stream",
     "text": [
      "Found 50 images belonging to 2 classes.\n"
     ]
    }
   ],
   "source": [
    "seed = 7204\n",
    "create_test_set(seed)\n",
    "    \n",
    "test_batches = test_img_generator.flow_from_directory(os.path.join(TEST_DATA_DIR, 'temp_test'),\n",
    "                                                      target_size=IMAGE_SIZE, classes=CLASS_LIST, color_mode = 'grayscale', \n",
    "                                                      class_mode = 'categorical', batch_size=1, shuffle=False)\n",
    "test_loss, test_accuracy = model.evaluate_generator(test_batches, workers=4, verbose=0) "
   ]
  },
  {
   "cell_type": "code",
   "execution_count": 34,
   "metadata": {},
   "outputs": [],
   "source": [
    "test_batches.reset()\n",
    "actual_labels = []\n",
    "X_test = []\n",
    "i = 0\n",
    "max_iter = test_batches.samples\n",
    "for data, label in test_batches:\n",
    "    actual_labels.append(label)\n",
    "    X_test.append(data)\n",
    "    i += 1\n",
    "    if i == max_iter:\n",
    "        break\n",
    "        \n",
    "actual_labels = np.concatenate(actual_labels)\n",
    "X_test = np.concatenate(X_test)"
   ]
  },
  {
   "cell_type": "code",
   "execution_count": 35,
   "metadata": {},
   "outputs": [],
   "source": [
    "test_batches.reset()\n",
    "predictions = model.predict_generator(test_batches)"
   ]
  },
  {
   "cell_type": "code",
   "execution_count": 36,
   "metadata": {},
   "outputs": [
    {
     "data": {
      "text/html": [
       "<div>\n",
       "<style scoped>\n",
       "    .dataframe tbody tr th:only-of-type {\n",
       "        vertical-align: middle;\n",
       "    }\n",
       "\n",
       "    .dataframe tbody tr th {\n",
       "        vertical-align: top;\n",
       "    }\n",
       "\n",
       "    .dataframe thead th {\n",
       "        text-align: right;\n",
       "    }\n",
       "</style>\n",
       "<table border=\"1\" class=\"dataframe\">\n",
       "  <thead>\n",
       "    <tr style=\"text-align: right;\">\n",
       "      <th></th>\n",
       "      <th>predicted_cap</th>\n",
       "      <th>predicted_shoes</th>\n",
       "      <th>actual cap</th>\n",
       "      <th>actual_shoes</th>\n",
       "    </tr>\n",
       "  </thead>\n",
       "  <tbody>\n",
       "    <tr>\n",
       "      <th>0</th>\n",
       "      <td>0.163818</td>\n",
       "      <td>0.835938</td>\n",
       "      <td>1.0</td>\n",
       "      <td>0.0</td>\n",
       "    </tr>\n",
       "    <tr>\n",
       "      <th>1</th>\n",
       "      <td>0.937988</td>\n",
       "      <td>0.062134</td>\n",
       "      <td>1.0</td>\n",
       "      <td>0.0</td>\n",
       "    </tr>\n",
       "    <tr>\n",
       "      <th>2</th>\n",
       "      <td>0.789551</td>\n",
       "      <td>0.210571</td>\n",
       "      <td>1.0</td>\n",
       "      <td>0.0</td>\n",
       "    </tr>\n",
       "    <tr>\n",
       "      <th>3</th>\n",
       "      <td>0.024704</td>\n",
       "      <td>0.975098</td>\n",
       "      <td>1.0</td>\n",
       "      <td>0.0</td>\n",
       "    </tr>\n",
       "    <tr>\n",
       "      <th>4</th>\n",
       "      <td>0.994629</td>\n",
       "      <td>0.005356</td>\n",
       "      <td>1.0</td>\n",
       "      <td>0.0</td>\n",
       "    </tr>\n",
       "  </tbody>\n",
       "</table>\n",
       "</div>"
      ],
      "text/plain": [
       "   predicted_cap  predicted_shoes  actual cap  actual_shoes\n",
       "0       0.163818         0.835938         1.0           0.0\n",
       "1       0.937988         0.062134         1.0           0.0\n",
       "2       0.789551         0.210571         1.0           0.0\n",
       "3       0.024704         0.975098         1.0           0.0\n",
       "4       0.994629         0.005356         1.0           0.0"
      ]
     },
     "execution_count": 36,
     "metadata": {},
     "output_type": "execute_result"
    }
   ],
   "source": [
    "test_prediction_data = pd.DataFrame(np.hstack([predictions,actual_labels]).astype(\"float16\"), columns=['predicted_cap','predicted_shoes','actual cap','actual_shoes'])\n",
    "test_prediction_data[:5]"
   ]
  },
  {
   "cell_type": "code",
   "execution_count": 37,
   "metadata": {},
   "outputs": [],
   "source": [
    "threshold = 0.5"
   ]
  },
  {
   "cell_type": "code",
   "execution_count": 38,
   "metadata": {},
   "outputs": [
    {
     "data": {
      "image/png": "[encoded data removed]",
      "text/plain": [
       "<Figure size 432x288 with 2 Axes>"
      ]
     },
     "metadata": {
      "needs_background": "light"
     },
     "output_type": "display_data"
    }
   ],
   "source": [
    "labels = ['cap','shoes']\n",
    "cm = confusion_matrix(np.argmax(actual_labels ,axis=1), np.argmax(predictions, axis=1), [0,1])\n",
    "\n",
    "ax= plt.subplot()\n",
    "sns.heatmap(cm, annot=True, ax = ax);\n",
    "\n",
    "ax.set_xlabel('Predicted labels');\n",
    "ax.set_ylabel('True labels'); \n",
    "ax.set_title('Confusion Matrix'); \n",
    "ax.xaxis.set_ticklabels(labels); ax.yaxis.set_ticklabels(labels);"
   ]
  },
  {
   "cell_type": "code",
   "execution_count": 39,
   "metadata": {},
   "outputs": [
    {
     "data": {
      "image/png": "[encoded data removed]",
      "text/plain": [
       "<Figure size 1728x864 with 5 Axes>"
      ]
     },
     "metadata": {
      "needs_background": "light"
     },
     "output_type": "display_data"
    }
   ],
   "source": [
    "filter_ = (test_prediction_data['actual cap'] == 1) & (test_prediction_data['predicted_cap'] < threshold)\n",
    "top_wrong_caps_ix = test_prediction_data[filter_]['predicted_cap'].sort_values().index.values[:5]\n",
    "top_wrong_caps_values = test_prediction_data[filter_]['predicted_cap'].sort_values().values[:5]\n",
    "plot_images(X_test[top_wrong_caps_ix],titles=top_wrong_caps_values)"
   ]
  },
  {
   "cell_type": "code",
   "execution_count": 40,
   "metadata": {},
   "outputs": [
    {
     "data": {
      "image/png": "[encoded data removed]",
      "text/plain": [
       "<Figure size 1728x864 with 5 Axes>"
      ]
     },
     "metadata": {
      "needs_background": "light"
     },
     "output_type": "display_data"
    }
   ],
   "source": [
    "filter_ = (test_prediction_data['actual cap'] == 1) & (test_prediction_data['predicted_cap'] > threshold)\n",
    "top_correct_caps_ix = test_prediction_data[filter_]['predicted_cap'].sort_values(ascending=False).index.values[:5]\n",
    "top_correct_caps_values = test_prediction_data[filter_]['predicted_cap'].sort_values(ascending=False).values[:5]\n",
    "plot_images(X_test[top_correct_caps_ix],titles=top_correct_caps_values)"
   ]
  },
  {
   "cell_type": "code",
   "execution_count": 41,
   "metadata": {},
   "outputs": [
    {
     "data": {
      "image/png": "[encoded data removed]",
      "text/plain": [
       "<Figure size 1728x864 with 5 Axes>"
      ]
     },
     "metadata": {
      "needs_background": "light"
     },
     "output_type": "display_data"
    }
   ],
   "source": [
    "filter_ = (test_prediction_data['actual_shoes'] == 1) & (test_prediction_data['predicted_shoes'] < threshold)\n",
    "top_wrong_shoes_ix = test_prediction_data[filter_]['predicted_shoes'].sort_values().index.values[:5]\n",
    "top_wrong_shoes_values = test_prediction_data[filter_]['predicted_shoes'].sort_values().values[:5]\n",
    "plot_images(X_test[top_wrong_shoes_ix],titles=top_wrong_shoes_values)"
   ]
  },
  {
   "cell_type": "code",
   "execution_count": 42,
   "metadata": {},
   "outputs": [
    {
     "data": {
      "image/png": "[encoded data removed]",
      "text/plain": [
       "<Figure size 1728x864 with 5 Axes>"
      ]
     },
     "metadata": {
      "needs_background": "light"
     },
     "output_type": "display_data"
    }
   ],
   "source": [
    "filter_ = (test_prediction_data['actual_shoes'] == 1) & (test_prediction_data['predicted_shoes'] > threshold)\n",
    "top_correct_shoes_ix = test_prediction_data[filter_]['predicted_shoes'].sort_values(ascending=False).index.values[:5]\n",
    "top_correct_shoes_values = test_prediction_data[filter_]['predicted_shoes'].sort_values(ascending=False).values[:5]\n",
    "plot_images(X_test[top_correct_shoes_ix],titles=top_correct_shoes_values)"
   ]
  },
  {
   "cell_type": "markdown",
   "metadata": {},
   "source": [
    "#### Observations\n",
    "* 500 epoch cross validated model 0.845112 +-0.062771 \n",
    "* 200 epoch out of set validated model 0.836396 +- 0.061011"
   ]
  }
 ],
 "metadata": {
  "kernelspec": {
   "display_name": "Python 3",
   "language": "python",
   "name": "python3"
  },
  "language_info": {
   "codemirror_mode": {
    "name": "ipython",
    "version": 3
   },
   "file_extension": ".py",
   "mimetype": "text/x-python",
   "name": "python",
   "nbconvert_exporter": "python",
   "pygments_lexer": "ipython3",
   "version": "3.7.3"
  }
 },
 "nbformat": 4,
 "nbformat_minor": 2
}
