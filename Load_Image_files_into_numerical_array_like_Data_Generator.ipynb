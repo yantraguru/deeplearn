{
  "nbformat": 4,
  "nbformat_minor": 0,
  "metadata": {
    "colab": {
      "name": "Load Image files into numerical array like Data Generator",
      "version": "0.3.2",
      "provenance": [],
      "collapsed_sections": [],
      "include_colab_link": true
    },
    "kernelspec": {
      "name": "python3",
      "display_name": "Python 3"
    }
  },
  "cells": [
    {
      "cell_type": "markdown",
      "metadata": {
        "id": "view-in-github",
        "colab_type": "text"
      },
      "source": [
        "<a href=\"https://colab.research.google.com/github/yantraguru/deeplearn/blob/master/Load_Image_files_into_numerical_array_like_Data_Generator.ipynb\" target=\"_parent\"><img src=\"https://colab.research.google.com/assets/colab-badge.svg\" alt=\"Open In Colab\"/></a>"
      ]
    },
    {
      "cell_type": "code",
      "metadata": {
        "id": "W2UysgxzVaiy",
        "colab_type": "code",
        "outputId": "60e49f6e-d8b9-42dd-bd9b-19ca5b5c2780",
        "colab": {
          "base_uri": "https://localhost:8080/",
          "height": 156
        }
      },
      "source": [
        "from google.colab import drive\n",
        "drive.mount('/content/drive')\n",
        "\n",
        "import numpy as np\n",
        "import os\n",
        "from os import listdir\n",
        "from numpy import asarray\n",
        "\n",
        "import PIL\n",
        "from PIL import Image\n",
        "print('Pillow Version:', PIL.__version__)\n",
        "print('PIL Version:', PIL.VERSION)"
      ],
      "execution_count": 1,
      "outputs": [
        {
          "output_type": "stream",
          "text": [
            "Go to this URL in a browser: https://accounts.google.com/o/oauth2/auth?client_id=947318989803-6bn6qk8qdgf4n4g3pfee6491hc0brc4i.apps.googleusercontent.com&redirect_uri=urn%3Aietf%3Awg%3Aoauth%3A2.0%3Aoob&scope=email%20https%3A%2F%2Fwww.googleapis.com%2Fauth%2Fdocs.test%20https%3A%2F%2Fwww.googleapis.com%2Fauth%2Fdrive%20https%3A%2F%2Fwww.googleapis.com%2Fauth%2Fdrive.photos.readonly%20https%3A%2F%2Fwww.googleapis.com%2Fauth%2Fpeopleapi.readonly&response_type=code\n",
            "\n",
            "Enter your authorization code:\n",
            "··········\n",
            "Mounted at /content/drive\n",
            "Pillow Version: 4.3.0\n",
            "PIL Version: 1.1.7\n"
          ],
          "name": "stdout"
        }
      ]
    },
    {
      "cell_type": "code",
      "metadata": {
        "id": "WCj5b5Bx11Ol",
        "colab_type": "code",
        "colab": {}
      },
      "source": [
        "DATA_DIR = 'drive/My Drive/datasets/cat_nocat_data/'"
      ],
      "execution_count": 0,
      "outputs": []
    },
    {
      "cell_type": "code",
      "metadata": {
        "id": "yH2a_AMF19X_",
        "colab_type": "code",
        "colab": {}
      },
      "source": [
        "def convert_images_from_dir(dir_path):\n",
        "    image_data = []\n",
        "    \n",
        "    for filename in listdir(dir_path):\n",
        "        image = Image.open(dir_path +os.sep + filename)\n",
        "        data = asarray(image)\n",
        "        gs_image = image.convert(mode='L')\n",
        "        gs_data = asarray(gs_image)\n",
        "        gs_resized = gs_image.resize((28,28))\n",
        "        gs_resized_data = asarray(gs_resized)\n",
        "        reshaped_gs_data = gs_resized_data.reshape(28*28)\n",
        "        image_data.append(reshaped_gs_data)\n",
        "    \n",
        "    return image_data\n",
        "\n",
        "\n",
        "def load_from_dir(dir_path, labels):\n",
        "    label_data = []\n",
        "    image_data = []\n",
        "    for label in labels:\n",
        "        data_from_dir = convert_images_from_dir(dir_path + label)\n",
        "        labels_for_data = [label for i in range(len(data_from_dir))]\n",
        "        image_data += data_from_dir\n",
        "        label_data += labels_for_data\n",
        "     \n",
        "    return (image_data,label_data)\n",
        "\n",
        "def load_img_data(data_dir):\n",
        "    train_dir = DATA_DIR + 'train/'\n",
        "    validation_dir = DATA_DIR + 'val/'\n",
        "    test_dir = DATA_DIR + 'test/'\n",
        "    \n",
        "    if (os.path.isdir(train_dir) and os.path.isdir(validation_dir) and os.path.isdir(test_dir)) :\n",
        "        labels = [subdirname.name for subdirname in os.scandir(train_dir) if subdirname.is_dir()] \n",
        "        \n",
        "        train_data = load_from_dir(train_dir,labels)\n",
        "        validation_data = load_from_dir(validation_dir,labels)\n",
        "        test_data = load_from_dir(test_dir,labels)\n",
        "        \n",
        "    return train_data, validation_data, test_data        "
      ],
      "execution_count": 0,
      "outputs": []
    },
    {
      "cell_type": "code",
      "metadata": {
        "id": "0NFv2pPS3U1O",
        "colab_type": "code",
        "outputId": "b6a03315-b24c-457a-cbe2-ce9f26e62bc4",
        "colab": {
          "base_uri": "https://localhost:8080/",
          "height": 51
        }
      },
      "source": [
        "train_data, validation_data, test_data = load_img_data(DATA_DIR)\n",
        "X_train, y_train = train_data"
      ],
      "execution_count": 8,
      "outputs": [
        {
          "output_type": "stream",
          "text": [
            "10\n",
            "10\n"
          ],
          "name": "stdout"
        }
      ]
    }
  ]
}