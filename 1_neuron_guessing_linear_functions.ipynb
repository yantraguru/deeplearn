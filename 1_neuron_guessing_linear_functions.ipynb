{
  "nbformat": 4,
  "nbformat_minor": 0,
  "metadata": {
    "colab": {
      "name": "1 neuron guessing linear functions.ipynb",
      "version": "0.3.2",
      "provenance": [],
      "collapsed_sections": [],
      "include_colab_link": true
    },
    "kernelspec": {
      "name": "python3",
      "display_name": "Python 3"
    }
  },
  "cells": [
    {
      "cell_type": "markdown",
      "metadata": {
        "id": "view-in-github",
        "colab_type": "text"
      },
      "source": [
        "<a href=\"https://colab.research.google.com/github/yantraguru/deeplearn/blob/master/1_neuron_guessing_linear_functions.ipynb\" target=\"_parent\"><img src=\"https://colab.research.google.com/assets/colab-badge.svg\" alt=\"Open In Colab\"/></a>"
      ]
    },
    {
      "cell_type": "code",
      "metadata": {
        "id": "s19OraTVblfr",
        "colab_type": "code",
        "outputId": "1b630531-ead0-47f3-e080-101a27fd33e9",
        "colab": {
          "base_uri": "https://localhost:8080/",
          "height": 34
        }
      },
      "source": [
        "import numpy as np\n",
        "import pandas as pd\n",
        "\n",
        "import tensorflow as tf\n",
        "from tensorflow import keras\n",
        "print( tf.VERSION )"
      ],
      "execution_count": 11,
      "outputs": [
        {
          "output_type": "stream",
          "text": [
            "1.14.0\n"
          ],
          "name": "stdout"
        }
      ]
    },
    {
      "cell_type": "code",
      "metadata": {
        "id": "LZ36zFKA8AON",
        "colab_type": "code",
        "cellView": "both",
        "colab": {}
      },
      "source": [
        "#@title\n",
        "def hw_function(x):\n",
        "    y = x + 5.0;\n",
        "    return y\n",
        "  \n",
        "#@title\n",
        "def mw_function(x):\n",
        "    y = 2*x -3;\n",
        "    return y  "
      ],
      "execution_count": 0,
      "outputs": []
    },
    {
      "cell_type": "code",
      "metadata": {
        "id": "Fy9bPYcS8p2q",
        "colab_type": "code",
        "outputId": "977a144d-fcbd-4b14-abcc-6da1405c27ea",
        "colab": {
          "base_uri": "https://localhost:8080/",
          "height": 34
        }
      },
      "source": [
        "X = np.array(np.random.randint(100, size=10)).astype(\"float32\")\n",
        "\n",
        "#X = np.linspace(2.0, 1000.0, num=20).astype(\"float32\")\n",
        "\n",
        "#X = np.array([x for x in range(50,70)]).astype(\"float32\")\n",
        "print(X)"
      ],
      "execution_count": 13,
      "outputs": [
        {
          "output_type": "stream",
          "text": [
            "[13. 56. 27. 29. 99. 34. 38. 87.  9. 99.]\n"
          ],
          "name": "stdout"
        }
      ]
    },
    {
      "cell_type": "code",
      "metadata": {
        "id": "lHNG8k1Vbv3-",
        "colab_type": "code",
        "outputId": "1db94734-85fa-4fb4-c353-814b5eb2cc00",
        "colab": {
          "base_uri": "https://localhost:8080/",
          "height": 34
        }
      },
      "source": [
        "y = np.array([hw_function(x) for x in X]).astype(\"float32\")\n",
        "print(y)"
      ],
      "execution_count": 14,
      "outputs": [
        {
          "output_type": "stream",
          "text": [
            "[ 18.  61.  32.  34. 104.  39.  43.  92.  14. 104.]\n"
          ],
          "name": "stdout"
        }
      ]
    },
    {
      "cell_type": "code",
      "metadata": {
        "id": "n5l1GU736Ncu",
        "colab_type": "code",
        "outputId": "c9d79cdd-9324-4047-b113-cd79511fb2d8",
        "colab": {
          "base_uri": "https://localhost:8080/",
          "height": 187
        }
      },
      "source": [
        "model = tf.keras.Sequential([keras.layers.Dense(units=1, input_shape=[1])])\n",
        "model.compile(optimizer='sgd', loss='mean_squared_error')\n",
        "model.summary()"
      ],
      "execution_count": 15,
      "outputs": [
        {
          "output_type": "stream",
          "text": [
            "Model: \"sequential_1\"\n",
            "_________________________________________________________________\n",
            "Layer (type)                 Output Shape              Param #   \n",
            "=================================================================\n",
            "dense_1 (Dense)              (None, 1)                 2         \n",
            "=================================================================\n",
            "Total params: 2\n",
            "Trainable params: 2\n",
            "Non-trainable params: 0\n",
            "_________________________________________________________________\n"
          ],
          "name": "stdout"
        }
      ]
    },
    {
      "cell_type": "code",
      "metadata": {
        "id": "VMxAbxoVMpYE",
        "colab_type": "code",
        "outputId": "e1c7708d-02ba-4c1d-893c-14f11dc25c99",
        "colab": {
          "base_uri": "https://localhost:8080/",
          "height": 102
        }
      },
      "source": [
        "MX_LIM = np.max([np.max(X),np.max(y)])\n",
        "print(MX_LIM)\n",
        "X /= MX_LIM\n",
        "print(X)\n",
        "y /= MX_LIM\n",
        "print(y)"
      ],
      "execution_count": 16,
      "outputs": [
        {
          "output_type": "stream",
          "text": [
            "104.0\n",
            "[0.125      0.53846157 0.2596154  0.27884614 0.9519231  0.32692307\n",
            " 0.3653846  0.83653843 0.08653846 0.9519231 ]\n",
            "[0.17307693 0.58653843 0.30769232 0.32692307 1.         0.375\n",
            " 0.41346154 0.88461536 0.13461539 1.        ]\n"
          ],
          "name": "stdout"
        }
      ]
    },
    {
      "cell_type": "code",
      "metadata": {
        "id": "rSGU28TM6hfg",
        "colab_type": "code",
        "outputId": "6ee83d5b-eb52-464e-9e44-f474e4da67a8",
        "colab": {
          "base_uri": "https://localhost:8080/",
          "height": 34
        }
      },
      "source": [
        "model.fit(X, y, epochs=5000, verbose=0)"
      ],
      "execution_count": 17,
      "outputs": [
        {
          "output_type": "execute_result",
          "data": {
            "text/plain": [
              "<tensorflow.python.keras.callbacks.History at 0x7fdf0f40ec18>"
            ]
          },
          "metadata": {
            "tags": []
          },
          "execution_count": 17
        }
      ]
    },
    {
      "cell_type": "code",
      "metadata": {
        "id": "r6YrS4rBd75U",
        "colab_type": "code",
        "outputId": "56d1b039-aba7-4e41-9d31-889acce84a42",
        "colab": {
          "base_uri": "https://localhost:8080/",
          "height": 34
        }
      },
      "source": [
        "modelWeights = []\n",
        "for layer in model.layers:\n",
        "    layerWeights = []\n",
        "    for weight in layer.get_weights():\n",
        "        layerWeights.append(weight)\n",
        "    modelWeights.append(layerWeights)\n",
        "    \n",
        "print(modelWeights)"
      ],
      "execution_count": 18,
      "outputs": [
        {
          "output_type": "stream",
          "text": [
            "[[array([[0.999934]], dtype=float32), array([0.04811094], dtype=float32)]]\n"
          ],
          "name": "stdout"
        }
      ]
    },
    {
      "cell_type": "code",
      "metadata": {
        "id": "h0HYtjoD7mSu",
        "colab_type": "code",
        "colab": {}
      },
      "source": [
        "test_input = [5,18,25,72,1000, 7832]\n",
        "test_input /= MX_LIM\n",
        "answer = model.predict(test_input)"
      ],
      "execution_count": 0,
      "outputs": []
    },
    {
      "cell_type": "code",
      "metadata": {
        "id": "0hQDCHz0DyQF",
        "colab_type": "code",
        "outputId": "dde7c754-bd70-45d8-f883-f9f002fc0efb",
        "colab": {
          "base_uri": "https://localhost:8080/",
          "height": 235
        }
      },
      "source": [
        "pd.DataFrame({'input':(test_input*MX_LIM).astype(\"float16\"),\n",
        "              'answer_from_net':(answer*MX_LIM).astype(\"float16\").flatten()})"
      ],
      "execution_count": 20,
      "outputs": [
        {
          "output_type": "execute_result",
          "data": {
            "text/html": [
              "<div>\n",
              "<style scoped>\n",
              "    .dataframe tbody tr th:only-of-type {\n",
              "        vertical-align: middle;\n",
              "    }\n",
              "\n",
              "    .dataframe tbody tr th {\n",
              "        vertical-align: top;\n",
              "    }\n",
              "\n",
              "    .dataframe thead th {\n",
              "        text-align: right;\n",
              "    }\n",
              "</style>\n",
              "<table border=\"1\" class=\"dataframe\">\n",
              "  <thead>\n",
              "    <tr style=\"text-align: right;\">\n",
              "      <th></th>\n",
              "      <th>input</th>\n",
              "      <th>answer_from_net</th>\n",
              "    </tr>\n",
              "  </thead>\n",
              "  <tbody>\n",
              "    <tr>\n",
              "      <th>0</th>\n",
              "      <td>5.0</td>\n",
              "      <td>10.0</td>\n",
              "    </tr>\n",
              "    <tr>\n",
              "      <th>1</th>\n",
              "      <td>18.0</td>\n",
              "      <td>23.0</td>\n",
              "    </tr>\n",
              "    <tr>\n",
              "      <th>2</th>\n",
              "      <td>25.0</td>\n",
              "      <td>30.0</td>\n",
              "    </tr>\n",
              "    <tr>\n",
              "      <th>3</th>\n",
              "      <td>72.0</td>\n",
              "      <td>77.0</td>\n",
              "    </tr>\n",
              "    <tr>\n",
              "      <th>4</th>\n",
              "      <td>1000.0</td>\n",
              "      <td>1005.0</td>\n",
              "    </tr>\n",
              "    <tr>\n",
              "      <th>5</th>\n",
              "      <td>7832.0</td>\n",
              "      <td>7836.0</td>\n",
              "    </tr>\n",
              "  </tbody>\n",
              "</table>\n",
              "</div>"
            ],
            "text/plain": [
              "    input  answer_from_net\n",
              "0     5.0             10.0\n",
              "1    18.0             23.0\n",
              "2    25.0             30.0\n",
              "3    72.0             77.0\n",
              "4  1000.0           1005.0\n",
              "5  7832.0           7836.0"
            ]
          },
          "metadata": {
            "tags": []
          },
          "execution_count": 20
        }
      ]
    }
  ]
}