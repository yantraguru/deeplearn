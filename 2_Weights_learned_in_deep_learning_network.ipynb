{
 "cells": [
  {
   "cell_type": "code",
   "execution_count": 1,
   "metadata": {},
   "outputs": [
    {
     "data": {
      "text/html": [
       "<style>.container { width:85% !important; }</style>"
      ],
      "text/plain": [
       "<IPython.core.display.HTML object>"
      ]
     },
     "metadata": {},
     "output_type": "display_data"
    }
   ],
   "source": [
    "from IPython.core.display import display, HTML\n",
    "display(HTML(\"<style>.container { width:85% !important; }</style>\"))"
   ]
  },
  {
   "cell_type": "code",
   "execution_count": 2,
   "metadata": {},
   "outputs": [],
   "source": [
    "import os\n",
    "import numpy as np\n",
    "import pandas as pd\n",
    "\n",
    "from os import listdir\n",
    "from io import BytesIO\n",
    "import requests\n",
    "\n",
    "import tensorflow as tf\n",
    "from tensorflow import keras\n",
    "from tensorflow.keras import layers,models,utils\n",
    "from tensorflow.keras.layers import Dense,Flatten\n",
    "from tensorflow.keras.preprocessing.image import ImageDataGenerator\n",
    "from tensorflow.keras import models\n",
    "\n",
    "from scipy import stats\n",
    "from sklearn import preprocessing\n",
    "\n",
    "from sklearn.metrics import confusion_matrix\n",
    "from sklearn.metrics import roc_curve, auc\n",
    "\n",
    "import PIL\n",
    "from PIL import Image\n",
    "\n",
    "from matplotlib.pyplot import imshow\n",
    "import matplotlib.pyplot as plt\n",
    "\n",
    "import seaborn as sns\n",
    "sns.set_style(\"white\")"
   ]
  },
  {
   "cell_type": "code",
   "execution_count": 3,
   "metadata": {},
   "outputs": [
    {
     "name": "stdout",
     "output_type": "stream",
     "text": [
      "Please install GPU version of TF\n"
     ]
    }
   ],
   "source": [
    "if tf.test.gpu_device_name():\n",
    "    print('Default GPU Device: {}'.format(tf.test.gpu_device_name()))\n",
    "else:\n",
    "    print(\"Please install GPU version of TF\")"
   ]
  },
  {
   "cell_type": "code",
   "execution_count": 4,
   "metadata": {},
   "outputs": [],
   "source": [
    "DATA_DIR = 'data/caps and shoes/'"
   ]
  },
  {
   "cell_type": "code",
   "execution_count": 5,
   "metadata": {},
   "outputs": [],
   "source": [
    "def convert_img_to_data(image):\n",
    "    data = np.asarray(image)\n",
    "    gs_image = image.convert(mode='L')\n",
    "    gs_data = np.asarray(gs_image)\n",
    "    gs_resized = gs_image.resize((112,112))\n",
    "    gs_resized_data = np.asarray(gs_resized)\n",
    "    reshaped_gs_data = gs_resized_data.reshape(112*112)\n",
    "    return reshaped_gs_data\n",
    "\n",
    "def convert_images_from_dir(dir_path):\n",
    "    image_data = []\n",
    "    \n",
    "    for filename in listdir(dir_path):\n",
    "        image = Image.open(dir_path +os.sep + filename)\n",
    "        reshaped_gs_data = convert_img_to_data(image)\n",
    "        image_data.append(reshaped_gs_data)\n",
    "    \n",
    "    return image_data\n",
    "\n",
    "def load_from_dir(dir_path, labels):\n",
    "    label_data = []\n",
    "    image_data = []\n",
    "    for label in labels:\n",
    "        data_from_dir = convert_images_from_dir(dir_path + label)\n",
    "        labels_for_data = [label for i in range(len(data_from_dir))]\n",
    "        image_data += data_from_dir\n",
    "        label_data += labels_for_data\n",
    "    \n",
    "    print('Found %d images belonging to %d classes' % (len(image_data),  len(labels)))\n",
    "    return (np.array(image_data),np.array(label_data))\n",
    "\n",
    "def load_img_data(data_dir):\n",
    "    train_dir = DATA_DIR + 'train/'\n",
    "    validation_dir = DATA_DIR + 'val/'\n",
    "    test_dir = DATA_DIR + 'test/'\n",
    "    \n",
    "    if (os.path.isdir(train_dir) and os.path.isdir(validation_dir) and os.path.isdir(test_dir)) :\n",
    "        labels = [subdirname.name for subdirname in os.scandir(train_dir) if subdirname.is_dir()] \n",
    "        \n",
    "        train_data = load_from_dir(train_dir,labels)\n",
    "        validation_data = load_from_dir(validation_dir,labels)\n",
    "        test_data = load_from_dir(test_dir,labels)\n",
    "        \n",
    "    return train_data, validation_data, test_data     \n",
    "\n",
    "def url_to_image(img_url):\n",
    "    response = requests.get(img_url)\n",
    "    img = Image.open(BytesIO(response.content))\n",
    "    return img\n",
    "\n",
    "def plot_images(ims, figsize=(24,12), rows=1, interp=False, titles=None):\n",
    "    f = plt.figure(figsize=figsize)\n",
    "    cols = len(ims)//rows if len(ims) % 2 == 0 else len(ims)//rows + 1\n",
    "    for i in range(len(ims)):\n",
    "        sp = f.add_subplot(rows, cols, i+1)\n",
    "        sp.axis('Off')\n",
    "        if titles is not None:\n",
    "            sp.set_title(titles[i], fontsize=18)\n",
    "        \n",
    "        plt.imshow(ims[i].reshape(112,112), cmap=\"gray\")"
   ]
  },
  {
   "cell_type": "code",
   "execution_count": 6,
   "metadata": {},
   "outputs": [
    {
     "name": "stdout",
     "output_type": "stream",
     "text": [
      "Found 200 images belonging to 2 classes\n",
      "Found 100 images belonging to 2 classes\n",
      "Found 50 images belonging to 2 classes\n"
     ]
    }
   ],
   "source": [
    "train_data, validation_data, test_data = load_img_data(DATA_DIR)\n",
    "X_train, y_train = train_data\n",
    "X_val, y_val = validation_data\n",
    "X_test, y_test = test_data"
   ]
  },
  {
   "cell_type": "code",
   "execution_count": 7,
   "metadata": {},
   "outputs": [
    {
     "name": "stdout",
     "output_type": "stream",
     "text": [
      "X_train shape : (200, 12544)\n",
      "y_train shape : (200,)\n",
      "X_val shape : (100, 12544)\n",
      "y_val shape : (100,)\n",
      "X_test shape : (50, 12544)\n",
      "y_test shape : (50,)\n"
     ]
    }
   ],
   "source": [
    "print('X_train shape : %s' % str(X_train.shape))\n",
    "print('y_train shape : %s' % str(y_train.shape))\n",
    "print('X_val shape : %s' % str(X_val.shape))\n",
    "print('y_val shape : %s' % str(y_val.shape))\n",
    "print('X_test shape : %s' % str(X_test.shape))\n",
    "print('y_test shape : %s' % str(y_test.shape))"
   ]
  },
  {
   "cell_type": "code",
   "execution_count": 8,
   "metadata": {},
   "outputs": [],
   "source": [
    "X_train = X_train.astype('float32') / 255\n",
    "X_val = X_val.astype('float32') / 255\n",
    "X_test = X_test.astype('float32') / 255"
   ]
  },
  {
   "cell_type": "code",
   "execution_count": 9,
   "metadata": {},
   "outputs": [],
   "source": [
    "le = preprocessing.LabelEncoder()\n",
    "le.fit(y_train)\n",
    "y_train = le.transform(y_train)\n",
    "y_val = le.transform(y_val)\n",
    "y_test = le.transform(y_test)\n",
    "y_train = utils.to_categorical(y_train)\n",
    "y_val = utils.to_categorical(y_val)\n",
    "y_test = utils.to_categorical(y_test)"
   ]
  },
  {
   "cell_type": "code",
   "execution_count": 10,
   "metadata": {},
   "outputs": [
    {
     "name": "stdout",
     "output_type": "stream",
     "text": [
      "y_train shape : (200, 2)\n",
      "y_val shape : (100, 2)\n",
      "y_test shape : (50, 2)\n"
     ]
    }
   ],
   "source": [
    "print('y_train shape : %s' % str(y_train.shape))\n",
    "print('y_val shape : %s' % str(y_val.shape))\n",
    "print('y_test shape : %s' % str(y_test.shape))"
   ]
  },
  {
   "cell_type": "code",
   "execution_count": 11,
   "metadata": {},
   "outputs": [],
   "source": [
    "def define_model_architecture():\n",
    "    model = models.Sequential()\n",
    "    model.add(Dense(32, activation='relu', input_shape=(12544,)))\n",
    "    model.add(Dense(16, activation='relu'))\n",
    "    model.add(Dense(2, activation='softmax'))\n",
    "    \n",
    "    model.compile(optimizer='sgd', loss='binary_crossentropy', metrics=['accuracy'])\n",
    "    return model"
   ]
  },
  {
   "cell_type": "code",
   "execution_count": 12,
   "metadata": {},
   "outputs": [
    {
     "name": "stdout",
     "output_type": "stream",
     "text": [
      "Model: \"sequential\"\n",
      "_________________________________________________________________\n",
      "Layer (type)                 Output Shape              Param #   \n",
      "=================================================================\n",
      "dense (Dense)                (None, 32)                401440    \n",
      "_________________________________________________________________\n",
      "dense_1 (Dense)              (None, 16)                528       \n",
      "_________________________________________________________________\n",
      "dense_2 (Dense)              (None, 2)                 34        \n",
      "=================================================================\n",
      "Total params: 402,002\n",
      "Trainable params: 402,002\n",
      "Non-trainable params: 0\n",
      "_________________________________________________________________\n"
     ]
    }
   ],
   "source": [
    "model = define_model_architecture()\n",
    "model.summary()"
   ]
  },
  {
   "cell_type": "code",
   "execution_count": 13,
   "metadata": {},
   "outputs": [
    {
     "name": "stderr",
     "output_type": "stream",
     "text": [
      "WARNING: Logging before flag parsing goes to stderr.\n",
      "W0805 21:55:41.528681 140625143957312 deprecation.py:323] From /home/algolaptop8/anaconda3/envs/tf2-env/lib/python3.7/site-packages/tensorflow/python/ops/math_grad.py:1250: add_dispatch_support.<locals>.wrapper (from tensorflow.python.ops.array_ops) is deprecated and will be removed in a future version.\n",
      "Instructions for updating:\n",
      "Use tf.where in 2.0, which has the same broadcast rule as np.where\n"
     ]
    },
    {
     "name": "stdout",
     "output_type": "stream",
     "text": [
      "Train on 200 samples, validate on 100 samples\n",
      "Epoch 1/125\n",
      "200/200 [==============================] - 0s 571us/sample - loss: 1.0103 - accuracy: 0.5000 - val_loss: 0.7167 - val_accuracy: 0.5000\n",
      "Epoch 2/125\n",
      "200/200 [==============================] - 0s 60us/sample - loss: 0.7220 - accuracy: 0.5000 - val_loss: 0.6938 - val_accuracy: 0.5300\n",
      "Epoch 3/125\n",
      "200/200 [==============================] - 0s 53us/sample - loss: 0.6986 - accuracy: 0.4050 - val_loss: 0.6911 - val_accuracy: 0.6000\n",
      "Epoch 4/125\n",
      "200/200 [==============================] - 0s 68us/sample - loss: 0.6959 - accuracy: 0.4350 - val_loss: 0.6883 - val_accuracy: 0.6300\n",
      "Epoch 5/125\n",
      "200/200 [==============================] - 0s 43us/sample - loss: 0.6931 - accuracy: 0.4700 - val_loss: 0.6858 - val_accuracy: 0.6400\n",
      "Epoch 6/125\n",
      "200/200 [==============================] - 0s 48us/sample - loss: 0.6906 - accuracy: 0.5400 - val_loss: 0.6835 - val_accuracy: 0.6500\n",
      "Epoch 7/125\n",
      "200/200 [==============================] - 0s 48us/sample - loss: 0.6882 - accuracy: 0.5900 - val_loss: 0.6812 - val_accuracy: 0.6700\n",
      "Epoch 8/125\n",
      "200/200 [==============================] - 0s 40us/sample - loss: 0.6858 - accuracy: 0.6100 - val_loss: 0.6790 - val_accuracy: 0.6700\n",
      "Epoch 9/125\n",
      "200/200 [==============================] - 0s 50us/sample - loss: 0.6836 - accuracy: 0.6350 - val_loss: 0.6769 - val_accuracy: 0.6800\n",
      "Epoch 10/125\n",
      "200/200 [==============================] - 0s 45us/sample - loss: 0.6813 - accuracy: 0.6700 - val_loss: 0.6747 - val_accuracy: 0.7100\n",
      "Epoch 11/125\n",
      "200/200 [==============================] - 0s 46us/sample - loss: 0.6790 - accuracy: 0.6800 - val_loss: 0.6726 - val_accuracy: 0.7200\n",
      "Epoch 12/125\n",
      "200/200 [==============================] - 0s 48us/sample - loss: 0.6768 - accuracy: 0.6900 - val_loss: 0.6704 - val_accuracy: 0.7200\n",
      "Epoch 13/125\n",
      "200/200 [==============================] - 0s 43us/sample - loss: 0.6745 - accuracy: 0.7000 - val_loss: 0.6680 - val_accuracy: 0.7200\n",
      "Epoch 14/125\n",
      "200/200 [==============================] - 0s 42us/sample - loss: 0.6721 - accuracy: 0.7000 - val_loss: 0.6656 - val_accuracy: 0.7300\n",
      "Epoch 15/125\n",
      "200/200 [==============================] - 0s 45us/sample - loss: 0.6697 - accuracy: 0.7200 - val_loss: 0.6632 - val_accuracy: 0.7200\n",
      "Epoch 16/125\n",
      "200/200 [==============================] - 0s 39us/sample - loss: 0.6672 - accuracy: 0.7350 - val_loss: 0.6605 - val_accuracy: 0.7100\n",
      "Epoch 17/125\n",
      "200/200 [==============================] - 0s 50us/sample - loss: 0.6645 - accuracy: 0.7350 - val_loss: 0.6570 - val_accuracy: 0.7000\n",
      "Epoch 18/125\n",
      "200/200 [==============================] - 0s 41us/sample - loss: 0.6612 - accuracy: 0.7100 - val_loss: 0.6536 - val_accuracy: 0.6600\n",
      "Epoch 19/125\n",
      "200/200 [==============================] - 0s 41us/sample - loss: 0.6577 - accuracy: 0.7050 - val_loss: 0.6504 - val_accuracy: 0.6900\n",
      "Epoch 20/125\n",
      "200/200 [==============================] - 0s 39us/sample - loss: 0.6544 - accuracy: 0.7100 - val_loss: 0.6473 - val_accuracy: 0.7100\n",
      "Epoch 21/125\n",
      "200/200 [==============================] - 0s 41us/sample - loss: 0.6513 - accuracy: 0.7250 - val_loss: 0.6438 - val_accuracy: 0.7000\n",
      "Epoch 22/125\n",
      "200/200 [==============================] - 0s 37us/sample - loss: 0.6480 - accuracy: 0.7250 - val_loss: 0.6406 - val_accuracy: 0.7100\n",
      "Epoch 23/125\n",
      "200/200 [==============================] - 0s 48us/sample - loss: 0.6448 - accuracy: 0.7300 - val_loss: 0.6372 - val_accuracy: 0.7000\n",
      "Epoch 24/125\n",
      "200/200 [==============================] - 0s 44us/sample - loss: 0.6414 - accuracy: 0.7300 - val_loss: 0.6343 - val_accuracy: 0.7200\n",
      "Epoch 25/125\n",
      "200/200 [==============================] - 0s 39us/sample - loss: 0.6384 - accuracy: 0.7250 - val_loss: 0.6316 - val_accuracy: 0.7400\n",
      "Epoch 26/125\n",
      "200/200 [==============================] - 0s 40us/sample - loss: 0.6353 - accuracy: 0.7250 - val_loss: 0.6288 - val_accuracy: 0.7300\n",
      "Epoch 27/125\n",
      "200/200 [==============================] - 0s 47us/sample - loss: 0.6324 - accuracy: 0.7250 - val_loss: 0.6261 - val_accuracy: 0.7200\n",
      "Epoch 28/125\n",
      "200/200 [==============================] - 0s 44us/sample - loss: 0.6294 - accuracy: 0.7200 - val_loss: 0.6234 - val_accuracy: 0.7300\n",
      "Epoch 29/125\n",
      "200/200 [==============================] - 0s 43us/sample - loss: 0.6264 - accuracy: 0.7300 - val_loss: 0.6206 - val_accuracy: 0.7200\n",
      "Epoch 30/125\n",
      "200/200 [==============================] - 0s 41us/sample - loss: 0.6235 - accuracy: 0.7250 - val_loss: 0.6180 - val_accuracy: 0.7300\n",
      "Epoch 31/125\n",
      "200/200 [==============================] - 0s 41us/sample - loss: 0.6206 - accuracy: 0.7300 - val_loss: 0.6153 - val_accuracy: 0.7300\n",
      "Epoch 32/125\n",
      "200/200 [==============================] - 0s 48us/sample - loss: 0.6178 - accuracy: 0.7250 - val_loss: 0.6128 - val_accuracy: 0.7300\n",
      "Epoch 33/125\n",
      "200/200 [==============================] - 0s 42us/sample - loss: 0.6149 - accuracy: 0.7350 - val_loss: 0.6101 - val_accuracy: 0.7300\n",
      "Epoch 34/125\n",
      "200/200 [==============================] - 0s 42us/sample - loss: 0.6121 - accuracy: 0.7350 - val_loss: 0.6076 - val_accuracy: 0.7300\n",
      "Epoch 35/125\n",
      "200/200 [==============================] - 0s 42us/sample - loss: 0.6092 - accuracy: 0.7350 - val_loss: 0.6049 - val_accuracy: 0.7400\n",
      "Epoch 36/125\n",
      "200/200 [==============================] - 0s 40us/sample - loss: 0.6064 - accuracy: 0.7350 - val_loss: 0.6023 - val_accuracy: 0.7400\n",
      "Epoch 37/125\n",
      "200/200 [==============================] - 0s 45us/sample - loss: 0.6037 - accuracy: 0.7300 - val_loss: 0.5999 - val_accuracy: 0.7400\n",
      "Epoch 38/125\n",
      "200/200 [==============================] - 0s 49us/sample - loss: 0.6009 - accuracy: 0.7350 - val_loss: 0.5973 - val_accuracy: 0.7400\n",
      "Epoch 39/125\n",
      "200/200 [==============================] - 0s 45us/sample - loss: 0.5982 - accuracy: 0.7350 - val_loss: 0.5949 - val_accuracy: 0.7400\n",
      "Epoch 40/125\n",
      "200/200 [==============================] - 0s 55us/sample - loss: 0.5955 - accuracy: 0.7350 - val_loss: 0.5927 - val_accuracy: 0.7400\n",
      "Epoch 41/125\n",
      "200/200 [==============================] - 0s 59us/sample - loss: 0.5929 - accuracy: 0.7400 - val_loss: 0.5901 - val_accuracy: 0.7400\n",
      "Epoch 42/125\n",
      "200/200 [==============================] - 0s 49us/sample - loss: 0.5903 - accuracy: 0.7350 - val_loss: 0.5883 - val_accuracy: 0.7400\n",
      "Epoch 43/125\n",
      "200/200 [==============================] - 0s 53us/sample - loss: 0.5878 - accuracy: 0.7400 - val_loss: 0.5855 - val_accuracy: 0.7400\n",
      "Epoch 44/125\n",
      "200/200 [==============================] - 0s 49us/sample - loss: 0.5853 - accuracy: 0.7450 - val_loss: 0.5844 - val_accuracy: 0.7400\n",
      "Epoch 45/125\n",
      "200/200 [==============================] - 0s 43us/sample - loss: 0.5829 - accuracy: 0.7400 - val_loss: 0.5810 - val_accuracy: 0.7300\n",
      "Epoch 46/125\n",
      "200/200 [==============================] - 0s 40us/sample - loss: 0.5806 - accuracy: 0.7400 - val_loss: 0.5808 - val_accuracy: 0.7600\n",
      "Epoch 47/125\n",
      "200/200 [==============================] - 0s 42us/sample - loss: 0.5784 - accuracy: 0.7300 - val_loss: 0.5771 - val_accuracy: 0.7100\n",
      "Epoch 48/125\n",
      "200/200 [==============================] - 0s 43us/sample - loss: 0.5766 - accuracy: 0.7450 - val_loss: 0.5793 - val_accuracy: 0.7500\n",
      "Epoch 49/125\n",
      "200/200 [==============================] - 0s 46us/sample - loss: 0.5756 - accuracy: 0.7250 - val_loss: 0.5755 - val_accuracy: 0.7100\n",
      "Epoch 50/125\n",
      "200/200 [==============================] - 0s 44us/sample - loss: 0.5756 - accuracy: 0.7350 - val_loss: 0.5820 - val_accuracy: 0.7400\n",
      "Epoch 51/125\n",
      "200/200 [==============================] - 0s 44us/sample - loss: 0.5769 - accuracy: 0.7050 - val_loss: 0.5790 - val_accuracy: 0.6600\n",
      "Epoch 52/125\n",
      "200/200 [==============================] - 0s 46us/sample - loss: 0.5809 - accuracy: 0.7150 - val_loss: 0.5941 - val_accuracy: 0.7300\n",
      "Epoch 53/125\n",
      "200/200 [==============================] - 0s 46us/sample - loss: 0.5881 - accuracy: 0.7300 - val_loss: 0.5910 - val_accuracy: 0.6600\n",
      "Epoch 54/125\n",
      "200/200 [==============================] - 0s 45us/sample - loss: 0.5953 - accuracy: 0.6650 - val_loss: 0.6093 - val_accuracy: 0.7000\n",
      "Epoch 55/125\n",
      "200/200 [==============================] - 0s 46us/sample - loss: 0.6026 - accuracy: 0.7200 - val_loss: 0.5958 - val_accuracy: 0.6500\n",
      "Epoch 56/125\n",
      "200/200 [==============================] - 0s 41us/sample - loss: 0.6010 - accuracy: 0.6450 - val_loss: 0.6132 - val_accuracy: 0.7000\n"
     ]
    },
    {
     "name": "stdout",
     "output_type": "stream",
     "text": [
      "Epoch 57/125\n",
      "200/200 [==============================] - 0s 43us/sample - loss: 0.6064 - accuracy: 0.7100 - val_loss: 0.5915 - val_accuracy: 0.6600\n",
      "Epoch 58/125\n",
      "200/200 [==============================] - 0s 42us/sample - loss: 0.5942 - accuracy: 0.6600 - val_loss: 0.6106 - val_accuracy: 0.7000\n",
      "Epoch 59/125\n",
      "200/200 [==============================] - 0s 44us/sample - loss: 0.6026 - accuracy: 0.7150 - val_loss: 0.5855 - val_accuracy: 0.6600\n",
      "Epoch 60/125\n",
      "200/200 [==============================] - 0s 41us/sample - loss: 0.5875 - accuracy: 0.6950 - val_loss: 0.5984 - val_accuracy: 0.7300\n",
      "Epoch 61/125\n",
      "200/200 [==============================] - 0s 47us/sample - loss: 0.5899 - accuracy: 0.7350 - val_loss: 0.5760 - val_accuracy: 0.6700\n",
      "Epoch 62/125\n",
      "200/200 [==============================] - 0s 53us/sample - loss: 0.5746 - accuracy: 0.7100 - val_loss: 0.5881 - val_accuracy: 0.7300\n",
      "Epoch 63/125\n",
      "200/200 [==============================] - 0s 40us/sample - loss: 0.5787 - accuracy: 0.7400 - val_loss: 0.5743 - val_accuracy: 0.6500\n",
      "Epoch 64/125\n",
      "200/200 [==============================] - 0s 43us/sample - loss: 0.5732 - accuracy: 0.7100 - val_loss: 0.5866 - val_accuracy: 0.7400\n",
      "Epoch 65/125\n",
      "200/200 [==============================] - 0s 56us/sample - loss: 0.5765 - accuracy: 0.7350 - val_loss: 0.5700 - val_accuracy: 0.6700\n",
      "Epoch 66/125\n",
      "200/200 [==============================] - 0s 51us/sample - loss: 0.5680 - accuracy: 0.7100 - val_loss: 0.5822 - val_accuracy: 0.7400\n",
      "Epoch 67/125\n",
      "200/200 [==============================] - 0s 57us/sample - loss: 0.5714 - accuracy: 0.7350 - val_loss: 0.5688 - val_accuracy: 0.6700\n",
      "Epoch 68/125\n",
      "200/200 [==============================] - 0s 39us/sample - loss: 0.5665 - accuracy: 0.7100 - val_loss: 0.5844 - val_accuracy: 0.7300\n",
      "Epoch 69/125\n",
      "200/200 [==============================] - 0s 42us/sample - loss: 0.5728 - accuracy: 0.7400 - val_loss: 0.5670 - val_accuracy: 0.6700\n",
      "Epoch 70/125\n",
      "200/200 [==============================] - 0s 47us/sample - loss: 0.5634 - accuracy: 0.7100 - val_loss: 0.5787 - val_accuracy: 0.7400\n",
      "Epoch 71/125\n",
      "200/200 [==============================] - 0s 43us/sample - loss: 0.5664 - accuracy: 0.7400 - val_loss: 0.5647 - val_accuracy: 0.6700\n",
      "Epoch 72/125\n",
      "200/200 [==============================] - 0s 42us/sample - loss: 0.5605 - accuracy: 0.7150 - val_loss: 0.5784 - val_accuracy: 0.7400\n",
      "Epoch 73/125\n",
      "200/200 [==============================] - 0s 49us/sample - loss: 0.5652 - accuracy: 0.7350 - val_loss: 0.5654 - val_accuracy: 0.6600\n",
      "Epoch 74/125\n",
      "200/200 [==============================] - 0s 39us/sample - loss: 0.5619 - accuracy: 0.7100 - val_loss: 0.5858 - val_accuracy: 0.7300\n",
      "Epoch 75/125\n",
      "200/200 [==============================] - 0s 42us/sample - loss: 0.5716 - accuracy: 0.7400 - val_loss: 0.5658 - val_accuracy: 0.6600\n",
      "Epoch 76/125\n",
      "200/200 [==============================] - 0s 44us/sample - loss: 0.5609 - accuracy: 0.7100 - val_loss: 0.5822 - val_accuracy: 0.7300\n",
      "Epoch 77/125\n",
      "200/200 [==============================] - 0s 58us/sample - loss: 0.5672 - accuracy: 0.7400 - val_loss: 0.5636 - val_accuracy: 0.6600\n",
      "Epoch 78/125\n",
      "200/200 [==============================] - 0s 44us/sample - loss: 0.5579 - accuracy: 0.7200 - val_loss: 0.5809 - val_accuracy: 0.7300\n",
      "Epoch 79/125\n",
      "200/200 [==============================] - 0s 45us/sample - loss: 0.5650 - accuracy: 0.7400 - val_loss: 0.5613 - val_accuracy: 0.6600\n",
      "Epoch 80/125\n",
      "200/200 [==============================] - 0s 41us/sample - loss: 0.5552 - accuracy: 0.7300 - val_loss: 0.5770 - val_accuracy: 0.7400\n",
      "Epoch 81/125\n",
      "200/200 [==============================] - 0s 45us/sample - loss: 0.5607 - accuracy: 0.7450 - val_loss: 0.5566 - val_accuracy: 0.6800\n",
      "Epoch 82/125\n",
      "200/200 [==============================] - 0s 44us/sample - loss: 0.5489 - accuracy: 0.7350 - val_loss: 0.5718 - val_accuracy: 0.7500\n",
      "Epoch 83/125\n",
      "200/200 [==============================] - 0s 44us/sample - loss: 0.5548 - accuracy: 0.7450 - val_loss: 0.5534 - val_accuracy: 0.6700\n",
      "Epoch 84/125\n",
      "200/200 [==============================] - 0s 40us/sample - loss: 0.5448 - accuracy: 0.7350 - val_loss: 0.5690 - val_accuracy: 0.7400\n",
      "Epoch 85/125\n",
      "200/200 [==============================] - 0s 45us/sample - loss: 0.5512 - accuracy: 0.7450 - val_loss: 0.5523 - val_accuracy: 0.6800\n",
      "Epoch 86/125\n",
      "200/200 [==============================] - 0s 44us/sample - loss: 0.5430 - accuracy: 0.7350 - val_loss: 0.5688 - val_accuracy: 0.7500\n",
      "Epoch 87/125\n",
      "200/200 [==============================] - 0s 59us/sample - loss: 0.5501 - accuracy: 0.7450 - val_loss: 0.5528 - val_accuracy: 0.6800\n",
      "Epoch 88/125\n",
      "200/200 [==============================] - 0s 49us/sample - loss: 0.5433 - accuracy: 0.7350 - val_loss: 0.5714 - val_accuracy: 0.7400\n",
      "Epoch 89/125\n",
      "200/200 [==============================] - 0s 57us/sample - loss: 0.5515 - accuracy: 0.7450 - val_loss: 0.5543 - val_accuracy: 0.6800\n",
      "Epoch 90/125\n",
      "200/200 [==============================] - 0s 43us/sample - loss: 0.5447 - accuracy: 0.7300 - val_loss: 0.5744 - val_accuracy: 0.7400\n",
      "Epoch 91/125\n",
      "200/200 [==============================] - 0s 43us/sample - loss: 0.5536 - accuracy: 0.7450 - val_loss: 0.5544 - val_accuracy: 0.6700\n",
      "Epoch 92/125\n",
      "200/200 [==============================] - 0s 42us/sample - loss: 0.5444 - accuracy: 0.7400 - val_loss: 0.5747 - val_accuracy: 0.7300\n",
      "Epoch 93/125\n",
      "200/200 [==============================] - 0s 43us/sample - loss: 0.5531 - accuracy: 0.7400 - val_loss: 0.5536 - val_accuracy: 0.6700\n",
      "Epoch 94/125\n",
      "200/200 [==============================] - 0s 42us/sample - loss: 0.5429 - accuracy: 0.7400 - val_loss: 0.5715 - val_accuracy: 0.7400\n",
      "Epoch 95/125\n",
      "200/200 [==============================] - 0s 47us/sample - loss: 0.5492 - accuracy: 0.7500 - val_loss: 0.5517 - val_accuracy: 0.6800\n",
      "Epoch 96/125\n",
      "200/200 [==============================] - 0s 42us/sample - loss: 0.5405 - accuracy: 0.7400 - val_loss: 0.5696 - val_accuracy: 0.7300\n",
      "Epoch 97/125\n",
      "200/200 [==============================] - 0s 43us/sample - loss: 0.5466 - accuracy: 0.7450 - val_loss: 0.5503 - val_accuracy: 0.6800\n",
      "Epoch 98/125\n",
      "200/200 [==============================] - 0s 65us/sample - loss: 0.5385 - accuracy: 0.7400 - val_loss: 0.5670 - val_accuracy: 0.7300\n",
      "Epoch 99/125\n",
      "200/200 [==============================] - 0s 42us/sample - loss: 0.5434 - accuracy: 0.7450 - val_loss: 0.5487 - val_accuracy: 0.6900\n",
      "Epoch 100/125\n",
      "200/200 [==============================] - 0s 43us/sample - loss: 0.5362 - accuracy: 0.7400 - val_loss: 0.5692 - val_accuracy: 0.7300\n",
      "Epoch 101/125\n",
      "200/200 [==============================] - 0s 40us/sample - loss: 0.5446 - accuracy: 0.7500 - val_loss: 0.5506 - val_accuracy: 0.6800\n",
      "Epoch 102/125\n",
      "200/200 [==============================] - 0s 47us/sample - loss: 0.5381 - accuracy: 0.7400 - val_loss: 0.5720 - val_accuracy: 0.7300\n",
      "Epoch 103/125\n",
      "200/200 [==============================] - 0s 43us/sample - loss: 0.5465 - accuracy: 0.7500 - val_loss: 0.5521 - val_accuracy: 0.6800\n",
      "Epoch 104/125\n",
      "200/200 [==============================] - 0s 46us/sample - loss: 0.5393 - accuracy: 0.7400 - val_loss: 0.5733 - val_accuracy: 0.7300\n",
      "Epoch 105/125\n",
      "200/200 [==============================] - 0s 41us/sample - loss: 0.5470 - accuracy: 0.7450 - val_loss: 0.5532 - val_accuracy: 0.6800\n",
      "Epoch 106/125\n",
      "200/200 [==============================] - 0s 45us/sample - loss: 0.5401 - accuracy: 0.7400 - val_loss: 0.5761 - val_accuracy: 0.7300\n",
      "Epoch 107/125\n",
      "200/200 [==============================] - 0s 43us/sample - loss: 0.5490 - accuracy: 0.7500 - val_loss: 0.5535 - val_accuracy: 0.6800\n",
      "Epoch 108/125\n",
      "200/200 [==============================] - 0s 41us/sample - loss: 0.5401 - accuracy: 0.7450 - val_loss: 0.5748 - val_accuracy: 0.7300\n",
      "Epoch 109/125\n",
      "200/200 [==============================] - 0s 40us/sample - loss: 0.5471 - accuracy: 0.7550 - val_loss: 0.5518 - val_accuracy: 0.6800\n",
      "Epoch 110/125\n",
      "200/200 [==============================] - 0s 48us/sample - loss: 0.5378 - accuracy: 0.7450 - val_loss: 0.5733 - val_accuracy: 0.7300\n",
      "Epoch 111/125\n",
      "200/200 [==============================] - 0s 43us/sample - loss: 0.5450 - accuracy: 0.7550 - val_loss: 0.5489 - val_accuracy: 0.6800\n",
      "Epoch 112/125\n",
      "200/200 [==============================] - 0s 42us/sample - loss: 0.5342 - accuracy: 0.7400 - val_loss: 0.5682 - val_accuracy: 0.7400\n"
     ]
    },
    {
     "name": "stdout",
     "output_type": "stream",
     "text": [
      "Epoch 113/125\n",
      "200/200 [==============================] - 0s 47us/sample - loss: 0.5393 - accuracy: 0.7550 - val_loss: 0.5461 - val_accuracy: 0.6800\n",
      "Epoch 114/125\n",
      "200/200 [==============================] - 0s 43us/sample - loss: 0.5305 - accuracy: 0.7350 - val_loss: 0.5645 - val_accuracy: 0.7300\n",
      "Epoch 115/125\n",
      "200/200 [==============================] - 0s 43us/sample - loss: 0.5350 - accuracy: 0.7500 - val_loss: 0.5439 - val_accuracy: 0.6900\n",
      "Epoch 116/125\n",
      "200/200 [==============================] - 0s 38us/sample - loss: 0.5275 - accuracy: 0.7300 - val_loss: 0.5617 - val_accuracy: 0.7300\n",
      "Epoch 117/125\n",
      "200/200 [==============================] - 0s 47us/sample - loss: 0.5315 - accuracy: 0.7500 - val_loss: 0.5419 - val_accuracy: 0.7000\n",
      "Epoch 118/125\n",
      "200/200 [==============================] - 0s 37us/sample - loss: 0.5246 - accuracy: 0.7300 - val_loss: 0.5629 - val_accuracy: 0.7300\n",
      "Epoch 119/125\n",
      "200/200 [==============================] - 0s 47us/sample - loss: 0.5315 - accuracy: 0.7600 - val_loss: 0.5461 - val_accuracy: 0.6800\n",
      "Epoch 120/125\n",
      "200/200 [==============================] - 0s 38us/sample - loss: 0.5288 - accuracy: 0.7400 - val_loss: 0.5691 - val_accuracy: 0.7400\n",
      "Epoch 121/125\n",
      "200/200 [==============================] - 0s 42us/sample - loss: 0.5370 - accuracy: 0.7600 - val_loss: 0.5463 - val_accuracy: 0.7000\n",
      "Epoch 122/125\n",
      "200/200 [==============================] - 0s 43us/sample - loss: 0.5285 - accuracy: 0.7450 - val_loss: 0.5700 - val_accuracy: 0.7400\n",
      "Epoch 123/125\n",
      "200/200 [==============================] - 0s 43us/sample - loss: 0.5370 - accuracy: 0.7550 - val_loss: 0.5482 - val_accuracy: 0.6900\n",
      "Epoch 124/125\n",
      "200/200 [==============================] - 0s 45us/sample - loss: 0.5303 - accuracy: 0.7450 - val_loss: 0.5722 - val_accuracy: 0.7400\n",
      "Epoch 125/125\n",
      "200/200 [==============================] - 0s 43us/sample - loss: 0.5385 - accuracy: 0.7550 - val_loss: 0.5461 - val_accuracy: 0.7000\n",
      "CPU times: user 3.53 s, sys: 149 ms, total: 3.68 s\n",
      "Wall time: 1.62 s\n"
     ]
    }
   ],
   "source": [
    "%time history = model.fit(X_train, y_train, validation_data = (X_val,y_val), epochs=125, batch_size=200, shuffle=True)"
   ]
  },
  {
   "cell_type": "code",
   "execution_count": 14,
   "metadata": {},
   "outputs": [
    {
     "data": {
      "image/png": "[encoded data removed]",
      "text/plain": [
       "<Figure size 1152x432 with 1 Axes>"
      ]
     },
     "metadata": {
      "needs_background": "light"
     },
     "output_type": "display_data"
    }
   ],
   "source": [
    "plt.figure(num=None, figsize=(16, 6))\n",
    "plt.plot(history.history['loss'], label='train')\n",
    "plt.plot(history.history['val_loss'], label='validation')\n",
    "plt.legend()\n",
    "plt.xlim(0, 500)\n",
    "plt.show()"
   ]
  },
  {
   "cell_type": "code",
   "execution_count": 15,
   "metadata": {},
   "outputs": [
    {
     "data": {
      "image/png": "[encoded data removed]",
      "text/plain": [
       "<Figure size 1152x432 with 1 Axes>"
      ]
     },
     "metadata": {
      "needs_background": "light"
     },
     "output_type": "display_data"
    }
   ],
   "source": [
    "plt.figure(num=None, figsize=(16, 6))\n",
    "plt.plot(history.history['accuracy'], label='train')\n",
    "plt.plot(history.history['val_accuracy'], label='validation')\n",
    "plt.legend()\n",
    "plt.xlim(0, 500)\n",
    "plt.show()"
   ]
  },
  {
   "cell_type": "code",
   "execution_count": 16,
   "metadata": {},
   "outputs": [
    {
     "name": "stdout",
     "output_type": "stream",
     "text": [
      "50/50 [==============================] - 0s 384us/sample - loss: 0.5494 - accuracy: 0.6400\n",
      "Test loss: 0.5494 accuracy: 0.6400\n"
     ]
    }
   ],
   "source": [
    "test_loss, test_accuracy = model.evaluate(X_test, y_test, batch_size=50) \n",
    "print('Test loss: %.4f accuracy: %.4f' % (test_loss, test_accuracy))"
   ]
  },
  {
   "cell_type": "code",
   "execution_count": 17,
   "metadata": {},
   "outputs": [],
   "source": [
    "layers_info = {}\n",
    "for i in model.layers:\n",
    "    layers_info[i.name] = i.get_config()\n",
    "\n",
    "layer_weights = {}\n",
    "for i in model.layers:\n",
    "    layer_weights[i.name] = i.get_weights()"
   ]
  },
  {
   "cell_type": "code",
   "execution_count": 18,
   "metadata": {},
   "outputs": [
    {
     "data": {
      "text/plain": [
       "{'dense': {'name': 'dense',\n",
       "  'trainable': True,\n",
       "  'batch_input_shape': (None, 12544),\n",
       "  'dtype': 'float32',\n",
       "  'units': 32,\n",
       "  'activation': 'relu',\n",
       "  'use_bias': True,\n",
       "  'kernel_initializer': {'class_name': 'GlorotUniform',\n",
       "   'config': {'seed': None}},\n",
       "  'bias_initializer': {'class_name': 'Zeros', 'config': {}},\n",
       "  'kernel_regularizer': None,\n",
       "  'bias_regularizer': None,\n",
       "  'activity_regularizer': None,\n",
       "  'kernel_constraint': None,\n",
       "  'bias_constraint': None},\n",
       " 'dense_1': {'name': 'dense_1',\n",
       "  'trainable': True,\n",
       "  'dtype': 'float32',\n",
       "  'units': 16,\n",
       "  'activation': 'relu',\n",
       "  'use_bias': True,\n",
       "  'kernel_initializer': {'class_name': 'GlorotUniform',\n",
       "   'config': {'seed': None}},\n",
       "  'bias_initializer': {'class_name': 'Zeros', 'config': {}},\n",
       "  'kernel_regularizer': None,\n",
       "  'bias_regularizer': None,\n",
       "  'activity_regularizer': None,\n",
       "  'kernel_constraint': None,\n",
       "  'bias_constraint': None},\n",
       " 'dense_2': {'name': 'dense_2',\n",
       "  'trainable': True,\n",
       "  'dtype': 'float32',\n",
       "  'units': 2,\n",
       "  'activation': 'softmax',\n",
       "  'use_bias': True,\n",
       "  'kernel_initializer': {'class_name': 'GlorotUniform',\n",
       "   'config': {'seed': None}},\n",
       "  'bias_initializer': {'class_name': 'Zeros', 'config': {}},\n",
       "  'kernel_regularizer': None,\n",
       "  'bias_regularizer': None,\n",
       "  'activity_regularizer': None,\n",
       "  'kernel_constraint': None,\n",
       "  'bias_constraint': None}}"
      ]
     },
     "execution_count": 18,
     "metadata": {},
     "output_type": "execute_result"
    }
   ],
   "source": [
    "layers_info"
   ]
  },
  {
   "cell_type": "code",
   "execution_count": 19,
   "metadata": {},
   "outputs": [
    {
     "name": "stdout",
     "output_type": "stream",
     "text": [
      "Layer : 0\n",
      "Layer weight shape : (12544, 32)\n",
      "Layer bias shape : (32,)\n",
      "Layer : 1\n",
      "Layer weight shape : (32, 16)\n",
      "Layer bias shape : (16,)\n",
      "Layer : 2\n",
      "Layer weight shape : (16, 2)\n",
      "Layer bias shape : (2,)\n"
     ]
    }
   ],
   "source": [
    "for cnt,layer in enumerate(model.layers):\n",
    "    print('Layer : %d'%cnt)\n",
    "    print('Layer weight shape : %s' % str(layer.get_weights()[0].shape))\n",
    "    print('Layer bias shape : %s' % str(layer.get_weights()[1].shape))"
   ]
  },
  {
   "cell_type": "code",
   "execution_count": 20,
   "metadata": {},
   "outputs": [
    {
     "data": {
      "text/plain": [
       "<matplotlib.image.AxesImage at 0x7fe52c11e0f0>"
      ]
     },
     "execution_count": 20,
     "metadata": {},
     "output_type": "execute_result"
    },
    {
     "data": {
      "image/png": "[encoded data removed]",
      "text/plain": [
       "<Figure size 432x288 with 1 Axes>"
      ]
     },
     "metadata": {
      "needs_background": "light"
     },
     "output_type": "display_data"
    }
   ],
   "source": [
    "plt.imshow(model.layers[0].get_weights()[0][:32],cmap='gray')"
   ]
  },
  {
   "cell_type": "code",
   "execution_count": 21,
   "metadata": {},
   "outputs": [
    {
     "data": {
      "text/plain": [
       "<matplotlib.image.AxesImage at 0x7fe52c07e3c8>"
      ]
     },
     "execution_count": 21,
     "metadata": {},
     "output_type": "execute_result"
    },
    {
     "data": {
      "image/png": "[encoded data removed]",
      "text/plain": [
       "<Figure size 432x288 with 1 Axes>"
      ]
     },
     "metadata": {
      "needs_background": "light"
     },
     "output_type": "display_data"
    }
   ],
   "source": [
    "plt.imshow(model.layers[1].get_weights()[0],cmap='gray')"
   ]
  },
  {
   "cell_type": "code",
   "execution_count": 22,
   "metadata": {},
   "outputs": [],
   "source": [
    "layer_0_weights = model.layers[0].get_weights()[0].flatten()\n",
    "layer_1_weights = model.layers[1].get_weights()[0].flatten()\n",
    "layer_2_weights = model.layers[2].get_weights()[0].flatten()"
   ]
  },
  {
   "cell_type": "code",
   "execution_count": 23,
   "metadata": {},
   "outputs": [
    {
     "data": {
      "image/png": "[encoded data removed]",
      "text/plain": [
       "<Figure size 800x560 with 1 Axes>"
      ]
     },
     "metadata": {
      "needs_background": "light"
     },
     "output_type": "display_data"
    }
   ],
   "source": [
    "kwargs = dict(hist_kws={'alpha':.6}, kde_kws={'linewidth':2})\n",
    "\n",
    "plt.figure(figsize=(10,7), dpi= 80)\n",
    "sns.distplot(layer_0_weights, color=\"dodgerblue\", label=\"Layer 0\", **kwargs)\n",
    "sns.distplot(layer_1_weights, color=\"orange\", label=\"Layer 1\", **kwargs)\n",
    "sns.distplot(layer_2_weights, color=\"deeppink\", label=\"Layer 2\", **kwargs)\n",
    "plt.legend();"
   ]
  },
  {
   "cell_type": "code",
   "execution_count": 24,
   "metadata": {},
   "outputs": [],
   "source": [
    "layer_0_bias = model.layers[0].get_weights()[1].flatten()\n",
    "layer_1_bias = model.layers[1].get_weights()[1].flatten()\n",
    "layer_2_bias = model.layers[2].get_weights()[1].flatten()"
   ]
  },
  {
   "cell_type": "code",
   "execution_count": 25,
   "metadata": {},
   "outputs": [
    {
     "data": {
      "image/png": "[encoded data removed]",
      "text/plain": [
       "<Figure size 800x560 with 1 Axes>"
      ]
     },
     "metadata": {
      "needs_background": "light"
     },
     "output_type": "display_data"
    }
   ],
   "source": [
    "kwargs = dict(hist_kws={'alpha':.6}, kde_kws={'linewidth':2})\n",
    "\n",
    "plt.figure(figsize=(10,7), dpi= 80)\n",
    "sns.distplot(layer_0_bias, color=\"dodgerblue\", label=\"Layer 0\", **kwargs)\n",
    "#sns.distplot(layer_1_bias, color=\"orange\", label=\"Layer 1\", **kwargs)\n",
    "#sns.distplot(layer_2_bias, color=\"deeppink\", label=\"Layer 2\", **kwargs)\n",
    "plt.legend();"
   ]
  },
  {
   "cell_type": "code",
   "execution_count": 26,
   "metadata": {},
   "outputs": [
    {
     "data": {
      "text/plain": [
       "<matplotlib.image.AxesImage at 0x7fe52451cac8>"
      ]
     },
     "execution_count": 26,
     "metadata": {},
     "output_type": "execute_result"
    },
    {
     "data": {
      "image/png": "[encoded data removed]",
      "text/plain": [
       "<Figure size 432x288 with 1 Axes>"
      ]
     },
     "metadata": {
      "needs_background": "light"
     },
     "output_type": "display_data"
    }
   ],
   "source": [
    "example_ix = 22\n",
    "image_2d_array = X_train[example_ix].reshape(112,112)\n",
    "imshow(image_2d_array,cmap=\"gray\")"
   ]
  },
  {
   "cell_type": "code",
   "execution_count": 27,
   "metadata": {},
   "outputs": [],
   "source": [
    "layer_outputs = [layer.output for layer in model.layers]\n",
    "activation_model = models.Model(inputs=model.input, outputs=layer_outputs)\n",
    "activations = activation_model.predict(X_train[example_ix].reshape(1,112*112))"
   ]
  },
  {
   "cell_type": "code",
   "execution_count": 28,
   "metadata": {},
   "outputs": [
    {
     "name": "stdout",
     "output_type": "stream",
     "text": [
      "(1, 32)\n"
     ]
    },
    {
     "data": {
      "text/plain": [
       "<matplotlib.image.AxesImage at 0x7fe524437cc0>"
      ]
     },
     "execution_count": 28,
     "metadata": {},
     "output_type": "execute_result"
    },
    {
     "data": {
      "image/png": "[encoded data removed]",
      "text/plain": [
       "<Figure size 432x288 with 1 Axes>"
      ]
     },
     "metadata": {
      "needs_background": "light"
     },
     "output_type": "display_data"
    }
   ],
   "source": [
    "first_layer_activation = activations[0]\n",
    "print(first_layer_activation.shape)\n",
    "imshow(first_layer_activation, cmap='gray')"
   ]
  },
  {
   "cell_type": "code",
   "execution_count": 29,
   "metadata": {},
   "outputs": [
    {
     "data": {
      "text/plain": [
       "<matplotlib.image.AxesImage at 0x7fe52440b940>"
      ]
     },
     "execution_count": 29,
     "metadata": {},
     "output_type": "execute_result"
    },
    {
     "data": {
      "image/png": "[encoded data removed]",
      "text/plain": [
       "<Figure size 432x288 with 1 Axes>"
      ]
     },
     "metadata": {
      "needs_background": "light"
     },
     "output_type": "display_data"
    }
   ],
   "source": [
    "first_layer_activation_img = np.pad(first_layer_activation[0], (2, 2), 'constant').reshape(6,6)\n",
    "imshow(first_layer_activation_img,cmap=\"gray\")"
   ]
  },
  {
   "cell_type": "code",
   "execution_count": 30,
   "metadata": {},
   "outputs": [
    {
     "name": "stdout",
     "output_type": "stream",
     "text": [
      "(1, 16)\n"
     ]
    },
    {
     "data": {
      "text/plain": [
       "<matplotlib.image.AxesImage at 0x7fe52436b2b0>"
      ]
     },
     "execution_count": 30,
     "metadata": {},
     "output_type": "execute_result"
    },
    {
     "data": {
      "image/png": "[encoded data removed]",
      "text/plain": [
       "<Figure size 432x288 with 1 Axes>"
      ]
     },
     "metadata": {
      "needs_background": "light"
     },
     "output_type": "display_data"
    }
   ],
   "source": [
    "second_layer_activation = activations[1]\n",
    "print(second_layer_activation.shape)\n",
    "imshow(second_layer_activation, cmap='gray')"
   ]
  },
  {
   "cell_type": "code",
   "execution_count": 31,
   "metadata": {},
   "outputs": [
    {
     "data": {
      "text/plain": [
       "<matplotlib.image.AxesImage at 0x7fe52433f0b8>"
      ]
     },
     "execution_count": 31,
     "metadata": {},
     "output_type": "execute_result"
    },
    {
     "data": {
      "image/png": "[encoded data removed]",
      "text/plain": [
       "<Figure size 432x288 with 1 Axes>"
      ]
     },
     "metadata": {
      "needs_background": "light"
     },
     "output_type": "display_data"
    }
   ],
   "source": [
    "second_layer_activation_img = second_layer_activation[0].reshape(4,4)\n",
    "imshow(second_layer_activation_img,cmap=\"gray\")"
   ]
  },
  {
   "cell_type": "code",
   "execution_count": 32,
   "metadata": {},
   "outputs": [
    {
     "name": "stdout",
     "output_type": "stream",
     "text": [
      "(1, 2)\n",
      "[[0.9417131  0.05828689]]\n"
     ]
    },
    {
     "data": {
      "text/plain": [
       "<matplotlib.image.AxesImage at 0x7fe5243129e8>"
      ]
     },
     "execution_count": 32,
     "metadata": {},
     "output_type": "execute_result"
    },
    {
     "data": {
      "image/png": "[encoded data removed]",
      "text/plain": [
       "<Figure size 432x288 with 1 Axes>"
      ]
     },
     "metadata": {
      "needs_background": "light"
     },
     "output_type": "display_data"
    }
   ],
   "source": [
    "third_layer_activation = activations[2]\n",
    "print(third_layer_activation.shape)\n",
    "print(third_layer_activation)\n",
    "imshow(third_layer_activation, cmap='gray')"
   ]
  },
  {
   "cell_type": "code",
   "execution_count": 33,
   "metadata": {},
   "outputs": [
    {
     "name": "stderr",
     "output_type": "stream",
     "text": [
      "/home/algolaptop8/anaconda3/envs/tf2-env/lib/python3.7/site-packages/matplotlib/text.py:1150: FutureWarning: elementwise comparison failed; returning scalar instead, but in the future will perform elementwise comparison\n",
      "  if s != self._text:\n"
     ]
    },
    {
     "name": "stdout",
     "output_type": "stream",
     "text": [
      "~~~~~~~~~~~~~~~~~~~~~~~~~~~~~~~~~~~~~~~~~~~~~~~~~~~~~~~~~~~~~~~~~~~~~~~~~~~~~~~~~~~~~~~~~~~~~~~~~~~~~~~~~~~~~~~~~~~~~~~~\n",
      "[[0.6295903  0.37040976]]\n"
     ]
    },
    {
     "data": {
      "image/png": "[encoded data removed]",
      "text/plain": [
       "<Figure size 1728x864 with 4 Axes>"
      ]
     },
     "metadata": {
      "needs_background": "light"
     },
     "output_type": "display_data"
    }
   ],
   "source": [
    "example_ix = 123\n",
    "image_2d_array = X_train[example_ix].reshape(112,112)\n",
    "\n",
    "layer_outputs = [layer.output for layer in model.layers]\n",
    "activation_model = models.Model(inputs=model.input, outputs=layer_outputs)\n",
    "activations = activation_model.predict(X_train[example_ix].reshape(1,112*112))\n",
    "\n",
    "first_layer_activation_img = np.pad(activations[0][0], (2, 2), 'constant').reshape(6,6)\n",
    "second_layer_activation_img = activations[1][0].reshape(4,4)\n",
    "third_layer_activation = activations[2]\n",
    "\n",
    "ims = [image_2d_array,first_layer_activation_img,second_layer_activation_img,third_layer_activation]\n",
    "titles = ['original image', 'first layer', 'second layer', third_layer_activation]\n",
    "\n",
    "f = plt.figure(figsize=(24,12))\n",
    "rows = 1\n",
    "cols = 4\n",
    "\n",
    "for i in range(len(ims)):\n",
    "    sp = f.add_subplot(rows, cols, i+1)\n",
    "    sp.axis('Off')\n",
    "    sp.set_title(titles[i], fontsize=18)\n",
    "    plt.imshow(ims[i], cmap=\"gray\")\n",
    "    \n",
    "print('~'*120)\n",
    "print(third_layer_activation)"
   ]
  }
 ],
 "metadata": {
  "kernelspec": {
   "display_name": "Python 3",
   "language": "python",
   "name": "python3"
  },
  "language_info": {
   "codemirror_mode": {
    "name": "ipython",
    "version": 3
   },
   "file_extension": ".py",
   "mimetype": "text/x-python",
   "name": "python",
   "nbconvert_exporter": "python",
   "pygments_lexer": "ipython3",
   "version": "3.7.3"
  }
 },
 "nbformat": 4,
 "nbformat_minor": 2
}
