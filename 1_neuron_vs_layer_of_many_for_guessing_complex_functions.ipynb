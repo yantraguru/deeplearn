{
  "nbformat": 4,
  "nbformat_minor": 0,
  "metadata": {
    "colab": {
      "name": "1 neuron vs layer of many for guessing complex functions.ipynb",
      "version": "0.3.2",
      "provenance": [],
      "collapsed_sections": [],
      "include_colab_link": true
    },
    "kernelspec": {
      "name": "python3",
      "display_name": "Python 3"
    }
  },
  "cells": [
    {
      "cell_type": "markdown",
      "metadata": {
        "id": "view-in-github",
        "colab_type": "text"
      },
      "source": [
        "<a href=\"https://colab.research.google.com/github/yantraguru/deeplearn/blob/master/1_neuron_vs_layer_of_many_for_guessing_complex_functions.ipynb\" target=\"_parent\"><img src=\"https://colab.research.google.com/assets/colab-badge.svg\" alt=\"Open In Colab\"/></a>"
      ]
    },
    {
      "cell_type": "code",
      "metadata": {
        "id": "9I6NCAEkPgpK",
        "colab_type": "code",
        "outputId": "ff26e7c5-69ac-445e-b743-6c9551d79cae",
        "colab": {
          "base_uri": "https://localhost:8080/",
          "height": 34
        }
      },
      "source": [
        "import numpy as np\n",
        "import pandas as pd\n",
        "\n",
        "import tensorflow as tf\n",
        "from tensorflow import keras\n",
        "print( tf.VERSION )\n",
        "\n",
        "from tensorflow.keras.callbacks import EarlyStopping\n",
        "\n",
        "from sklearn.metrics import mean_absolute_error\n",
        "\n",
        "from matplotlib import pyplot"
      ],
      "execution_count": 1,
      "outputs": [
        {
          "output_type": "stream",
          "text": [
            "1.14.0\n"
          ],
          "name": "stdout"
        }
      ]
    },
    {
      "cell_type": "code",
      "metadata": {
        "id": "ljmYnOVIPtPb",
        "colab_type": "code",
        "colab": {}
      },
      "source": [
        "function_to_learn = lambda x : 2*x+0.3*x**2+(0.001*x**3)"
      ],
      "execution_count": 0,
      "outputs": []
    },
    {
      "cell_type": "code",
      "metadata": {
        "id": "U0YQx0Xo9_xn",
        "colab_type": "code",
        "colab": {}
      },
      "source": [
        "LOWER_LIMIT = -5\n",
        "UPPER_LIMIT = 5\n",
        "MAX_ITER = 5000"
      ],
      "execution_count": 0,
      "outputs": []
    },
    {
      "cell_type": "code",
      "metadata": {
        "id": "ffs7E-frPzbK",
        "colab_type": "code",
        "outputId": "2f4fbbc8-7cbc-48ff-f8e3-6e9d4d87ce94",
        "colab": {
          "base_uri": "https://localhost:8080/",
          "height": 102
        }
      },
      "source": [
        "X = np.random.uniform(low=LOWER_LIMIT, high=UPPER_LIMIT, size=(1000 ,1)).astype(\"float32\")\n",
        "print(X[0:5])"
      ],
      "execution_count": 4,
      "outputs": [
        {
          "output_type": "stream",
          "text": [
            "[[-4.1376777 ]\n",
            " [-3.9848478 ]\n",
            " [-0.36576796]\n",
            " [ 2.6159167 ]\n",
            " [ 0.0513682 ]]\n"
          ],
          "name": "stdout"
        }
      ]
    },
    {
      "cell_type": "code",
      "metadata": {
        "id": "15VixFKLQAS6",
        "colab_type": "code",
        "outputId": "27e40f44-fe0c-41ba-fad1-e3659023c4aa",
        "colab": {
          "base_uri": "https://localhost:8080/",
          "height": 102
        }
      },
      "source": [
        "y = np.array([function_to_learn(x) for x in X]).astype(\"float32\")\n",
        "print(y[0:5])"
      ],
      "execution_count": 5,
      "outputs": [
        {
          "output_type": "stream",
          "text": [
            "[[-3.2100809 ]\n",
            " [-3.269267  ]\n",
            " [-0.691449  ]\n",
            " [ 7.3026404 ]\n",
            " [ 0.10352814]]\n"
          ],
          "name": "stdout"
        }
      ]
    },
    {
      "cell_type": "code",
      "metadata": {
        "id": "yks53pfF-WLt",
        "colab_type": "code",
        "colab": {}
      },
      "source": [
        "X_val = np.random.uniform(low=LOWER_LIMIT, high=UPPER_LIMIT, size=(100 ,1)).astype(\"float32\")\n",
        "y_val = np.array([function_to_learn(x) for x in X_val]).astype(\"float32\")\n",
        "\n",
        "X_test = np.random.uniform(low=LOWER_LIMIT, high=UPPER_LIMIT, size=(50 ,1)).astype(\"float32\")\n",
        "y_test = np.array([function_to_learn(x) for x in X_test]).astype(\"float32\")"
      ],
      "execution_count": 0,
      "outputs": []
    },
    {
      "cell_type": "code",
      "metadata": {
        "id": "Iy8fkadzSzkz",
        "colab_type": "code",
        "colab": {}
      },
      "source": [
        "MX_LIM = np.max(np.vstack([X,X_val,X_test,y,y_val,y_test]))\n",
        "X,X_val,X_test,y,y_val,y_test = [arr/MX_LIM for arr in[X,X_val,X_test,y,y_val,y_test]]"
      ],
      "execution_count": 0,
      "outputs": []
    },
    {
      "cell_type": "code",
      "metadata": {
        "id": "t0QCAtipU1Yj",
        "colab_type": "code",
        "outputId": "e3a9fa02-693e-4565-db59-3d22574a877f",
        "colab": {
          "base_uri": "https://localhost:8080/",
          "height": 275
        }
      },
      "source": [
        "n_1_lin_model = tf.keras.Sequential([keras.layers.Dense(units=1, input_shape=[1])])\n",
        "n_1_lin_model.compile(optimizer='sgd', loss='mean_squared_error')\n",
        "n_1_lin_model.summary()"
      ],
      "execution_count": 8,
      "outputs": [
        {
          "output_type": "stream",
          "text": [
            "WARNING: Logging before flag parsing goes to stderr.\n",
            "W0725 04:14:19.386645 140212361934720 deprecation.py:506] From /usr/local/lib/python3.6/dist-packages/tensorflow/python/ops/init_ops.py:1251: calling VarianceScaling.__init__ (from tensorflow.python.ops.init_ops) with dtype is deprecated and will be removed in a future version.\n",
            "Instructions for updating:\n",
            "Call initializer instance with the dtype argument instead of passing it to the constructor\n"
          ],
          "name": "stderr"
        },
        {
          "output_type": "stream",
          "text": [
            "Model: \"sequential\"\n",
            "_________________________________________________________________\n",
            "Layer (type)                 Output Shape              Param #   \n",
            "=================================================================\n",
            "dense (Dense)                (None, 1)                 2         \n",
            "=================================================================\n",
            "Total params: 2\n",
            "Trainable params: 2\n",
            "Non-trainable params: 0\n",
            "_________________________________________________________________\n"
          ],
          "name": "stdout"
        }
      ]
    },
    {
      "cell_type": "code",
      "metadata": {
        "id": "qsEWI3b_mVcW",
        "colab_type": "code",
        "colab": {}
      },
      "source": [
        "es_callback = EarlyStopping(monitor='val_loss', mode='min', verbose=1, patience=100)"
      ],
      "execution_count": 0,
      "outputs": []
    },
    {
      "cell_type": "code",
      "metadata": {
        "id": "d3uqe5k-Rrkv",
        "colab_type": "code",
        "outputId": "469667dd-4505-4ef3-cb4a-70d811bc6089",
        "colab": {
          "base_uri": "https://localhost:8080/",
          "height": 68
        }
      },
      "source": [
        "%time history = n_1_lin_model.fit(X, y, epochs=MAX_ITER, verbose=0, validation_data=(X_val,y_val), callbacks=[es_callback])"
      ],
      "execution_count": 10,
      "outputs": [
        {
          "output_type": "stream",
          "text": [
            "Epoch 00303: early stopping\n",
            "CPU times: user 9.55 s, sys: 462 ms, total: 10 s\n",
            "Wall time: 8.76 s\n"
          ],
          "name": "stdout"
        }
      ]
    },
    {
      "cell_type": "code",
      "metadata": {
        "id": "PBQ0TRWxlCp7",
        "colab_type": "code",
        "outputId": "9d5a4e52-b9ea-4667-80f9-560db74bd848",
        "colab": {
          "base_uri": "https://localhost:8080/",
          "height": 378
        }
      },
      "source": [
        "pyplot.figure(num=None, figsize=(16, 6))\n",
        "pyplot.plot(history.history['loss'], label='train')\n",
        "pyplot.plot(history.history['val_loss'], label='validation')\n",
        "pyplot.legend()\n",
        "pyplot.xlim(0, MAX_ITER)\n",
        "pyplot.show()"
      ],
      "execution_count": 11,
      "outputs": [
        {
          "output_type": "display_data",
          "data": {
            "image/png": "[encoded data removed]",
            "text/plain": [
              "<Figure size 1152x432 with 1 Axes>"
            ]
          },
          "metadata": {
            "tags": []
          }
        }
      ]
    },
    {
      "cell_type": "code",
      "metadata": {
        "id": "aiGwOWLSvt0G",
        "colab_type": "code",
        "colab": {}
      },
      "source": [
        "y_predict = n_1_lin_model.predict(X_test)"
      ],
      "execution_count": 0,
      "outputs": []
    },
    {
      "cell_type": "code",
      "metadata": {
        "id": "tIsCjsRPvRlV",
        "colab_type": "code",
        "outputId": "8dd11cb6-976a-4c7a-b141-2aef1710129a",
        "colab": {
          "base_uri": "https://localhost:8080/",
          "height": 204
        }
      },
      "source": [
        "pd.DataFrame({'input' : (X_test*MX_LIM).astype(\"float16\").flatten(),\n",
        "              'actual_answer' : (y_test*MX_LIM).astype(\"float16\").flatten(),\n",
        "              'answer_from_net':(y_predict*MX_LIM).astype(\"float16\").flatten()}).sample(5)"
      ],
      "execution_count": 13,
      "outputs": [
        {
          "output_type": "execute_result",
          "data": {
            "text/html": [
              "<div>\n",
              "<style scoped>\n",
              "    .dataframe tbody tr th:only-of-type {\n",
              "        vertical-align: middle;\n",
              "    }\n",
              "\n",
              "    .dataframe tbody tr th {\n",
              "        vertical-align: top;\n",
              "    }\n",
              "\n",
              "    .dataframe thead th {\n",
              "        text-align: right;\n",
              "    }\n",
              "</style>\n",
              "<table border=\"1\" class=\"dataframe\">\n",
              "  <thead>\n",
              "    <tr style=\"text-align: right;\">\n",
              "      <th></th>\n",
              "      <th>input</th>\n",
              "      <th>actual_answer</th>\n",
              "      <th>answer_from_net</th>\n",
              "    </tr>\n",
              "  </thead>\n",
              "  <tbody>\n",
              "    <tr>\n",
              "      <th>32</th>\n",
              "      <td>4.519531</td>\n",
              "      <td>15.250000</td>\n",
              "      <td>11.554688</td>\n",
              "    </tr>\n",
              "    <tr>\n",
              "      <th>28</th>\n",
              "      <td>1.258789</td>\n",
              "      <td>2.996094</td>\n",
              "      <td>5.011719</td>\n",
              "    </tr>\n",
              "    <tr>\n",
              "      <th>36</th>\n",
              "      <td>-3.070312</td>\n",
              "      <td>-3.341797</td>\n",
              "      <td>-3.685547</td>\n",
              "    </tr>\n",
              "    <tr>\n",
              "      <th>4</th>\n",
              "      <td>-4.816406</td>\n",
              "      <td>-2.785156</td>\n",
              "      <td>-7.195312</td>\n",
              "    </tr>\n",
              "    <tr>\n",
              "      <th>13</th>\n",
              "      <td>-2.406250</td>\n",
              "      <td>-3.089844</td>\n",
              "      <td>-2.353516</td>\n",
              "    </tr>\n",
              "  </tbody>\n",
              "</table>\n",
              "</div>"
            ],
            "text/plain": [
              "       input  actual_answer  answer_from_net\n",
              "32  4.519531      15.250000        11.554688\n",
              "28  1.258789       2.996094         5.011719\n",
              "36 -3.070312      -3.341797        -3.685547\n",
              "4  -4.816406      -2.785156        -7.195312\n",
              "13 -2.406250      -3.089844        -2.353516"
            ]
          },
          "metadata": {
            "tags": []
          },
          "execution_count": 13
        }
      ]
    },
    {
      "cell_type": "code",
      "metadata": {
        "id": "u8q6hp3jwChy",
        "colab_type": "code",
        "outputId": "b0a07648-3977-4cd8-de55-c3cfecc5a855",
        "colab": {
          "base_uri": "https://localhost:8080/",
          "height": 34
        }
      },
      "source": [
        "print('Mean error of single neuron linear model : %.3f' % (mean_absolute_error(y_test, n_1_lin_model.predict(X_test)) * MX_LIM))"
      ],
      "execution_count": 14,
      "outputs": [
        {
          "output_type": "stream",
          "text": [
            "Mean error of single neuron linear model : 1.872\n"
          ],
          "name": "stdout"
        }
      ]
    },
    {
      "cell_type": "code",
      "metadata": {
        "id": "l__5RGY_xWJO",
        "colab_type": "code",
        "outputId": "875ccbb0-8575-4e53-f1af-98301a341d02",
        "colab": {
          "base_uri": "https://localhost:8080/",
          "height": 221
        }
      },
      "source": [
        "n_32_lin_model = tf.keras.Sequential()\n",
        "n_32_lin_model.add(keras.layers.Dense(units=32, input_shape=[1]))\n",
        "n_32_lin_model.add(keras.layers.Dense(units=1))\n",
        "n_32_lin_model.compile(optimizer='sgd', loss='mean_squared_error')\n",
        "n_32_lin_model.summary()"
      ],
      "execution_count": 15,
      "outputs": [
        {
          "output_type": "stream",
          "text": [
            "Model: \"sequential_1\"\n",
            "_________________________________________________________________\n",
            "Layer (type)                 Output Shape              Param #   \n",
            "=================================================================\n",
            "dense_1 (Dense)              (None, 32)                64        \n",
            "_________________________________________________________________\n",
            "dense_2 (Dense)              (None, 1)                 33        \n",
            "=================================================================\n",
            "Total params: 97\n",
            "Trainable params: 97\n",
            "Non-trainable params: 0\n",
            "_________________________________________________________________\n"
          ],
          "name": "stdout"
        }
      ]
    },
    {
      "cell_type": "code",
      "metadata": {
        "id": "uAPLOh3ZSNUD",
        "colab_type": "code",
        "outputId": "6f69f0ed-d452-4c8b-d5a0-9bb24fdc16ff",
        "colab": {
          "base_uri": "https://localhost:8080/",
          "height": 68
        }
      },
      "source": [
        "%time history = n_32_lin_model.fit(X, y, epochs=MAX_ITER, verbose=0, validation_data=(X_val,y_val), callbacks=[es_callback])"
      ],
      "execution_count": 16,
      "outputs": [
        {
          "output_type": "stream",
          "text": [
            "Epoch 00153: early stopping\n",
            "CPU times: user 5.74 s, sys: 260 ms, total: 6 s\n",
            "Wall time: 5.12 s\n"
          ],
          "name": "stdout"
        }
      ]
    },
    {
      "cell_type": "code",
      "metadata": {
        "id": "me4DtdCty6zm",
        "colab_type": "code",
        "outputId": "eb5fbfdf-15c7-4bc2-be57-8cf4d5c0e4f5",
        "colab": {
          "base_uri": "https://localhost:8080/",
          "height": 378
        }
      },
      "source": [
        "pyplot.figure(num=None, figsize=(16, 6))\n",
        "pyplot.plot(history.history['loss'], label='train')\n",
        "pyplot.plot(history.history['val_loss'], label='validation')\n",
        "pyplot.legend()\n",
        "pyplot.xlim(0, MAX_ITER)\n",
        "pyplot.show()"
      ],
      "execution_count": 17,
      "outputs": [
        {
          "output_type": "display_data",
          "data": {
            "image/png": "[encoded data removed]",
            "text/plain": [
              "<Figure size 1152x432 with 1 Axes>"
            ]
          },
          "metadata": {
            "tags": []
          }
        }
      ]
    },
    {
      "cell_type": "code",
      "metadata": {
        "id": "3roj2EcjzAeO",
        "colab_type": "code",
        "colab": {}
      },
      "source": [
        "y_predict = n_32_lin_model.predict(X_test)"
      ],
      "execution_count": 0,
      "outputs": []
    },
    {
      "cell_type": "code",
      "metadata": {
        "id": "KChHhNPozEPI",
        "colab_type": "code",
        "outputId": "9c375bd9-6711-4d2b-e954-f4624e4b379e",
        "colab": {
          "base_uri": "https://localhost:8080/",
          "height": 204
        }
      },
      "source": [
        "pd.DataFrame({'input' : (X_test*MX_LIM).astype(\"float16\").flatten(),\n",
        "              'actual_answer' : (y_test*MX_LIM).astype(\"float16\").flatten(),\n",
        "              'answer_from_net':(y_predict*MX_LIM).astype(\"float16\").flatten()}).sample(5)"
      ],
      "execution_count": 19,
      "outputs": [
        {
          "output_type": "execute_result",
          "data": {
            "text/html": [
              "<div>\n",
              "<style scoped>\n",
              "    .dataframe tbody tr th:only-of-type {\n",
              "        vertical-align: middle;\n",
              "    }\n",
              "\n",
              "    .dataframe tbody tr th {\n",
              "        vertical-align: top;\n",
              "    }\n",
              "\n",
              "    .dataframe thead th {\n",
              "        text-align: right;\n",
              "    }\n",
              "</style>\n",
              "<table border=\"1\" class=\"dataframe\">\n",
              "  <thead>\n",
              "    <tr style=\"text-align: right;\">\n",
              "      <th></th>\n",
              "      <th>input</th>\n",
              "      <th>actual_answer</th>\n",
              "      <th>answer_from_net</th>\n",
              "    </tr>\n",
              "  </thead>\n",
              "  <tbody>\n",
              "    <tr>\n",
              "      <th>43</th>\n",
              "      <td>3.183594</td>\n",
              "      <td>9.437500</td>\n",
              "      <td>8.882812</td>\n",
              "    </tr>\n",
              "    <tr>\n",
              "      <th>32</th>\n",
              "      <td>4.519531</td>\n",
              "      <td>15.250000</td>\n",
              "      <td>11.570312</td>\n",
              "    </tr>\n",
              "    <tr>\n",
              "      <th>19</th>\n",
              "      <td>-1.780273</td>\n",
              "      <td>-2.615234</td>\n",
              "      <td>-1.121094</td>\n",
              "    </tr>\n",
              "    <tr>\n",
              "      <th>47</th>\n",
              "      <td>-4.617188</td>\n",
              "      <td>-2.937500</td>\n",
              "      <td>-6.835938</td>\n",
              "    </tr>\n",
              "    <tr>\n",
              "      <th>21</th>\n",
              "      <td>-4.812500</td>\n",
              "      <td>-2.787109</td>\n",
              "      <td>-7.234375</td>\n",
              "    </tr>\n",
              "  </tbody>\n",
              "</table>\n",
              "</div>"
            ],
            "text/plain": [
              "       input  actual_answer  answer_from_net\n",
              "43  3.183594       9.437500         8.882812\n",
              "32  4.519531      15.250000        11.570312\n",
              "19 -1.780273      -2.615234        -1.121094\n",
              "47 -4.617188      -2.937500        -6.835938\n",
              "21 -4.812500      -2.787109        -7.234375"
            ]
          },
          "metadata": {
            "tags": []
          },
          "execution_count": 19
        }
      ]
    },
    {
      "cell_type": "code",
      "metadata": {
        "id": "5JoVxU7IzLbz",
        "colab_type": "code",
        "outputId": "28eff2ca-12ed-48fc-d76c-b5ad467104bb",
        "colab": {
          "base_uri": "https://localhost:8080/",
          "height": 34
        }
      },
      "source": [
        "print('Mean error of 32 neuron linear model : %.3f' % (mean_absolute_error(y_test, y_predict) * MX_LIM))"
      ],
      "execution_count": 20,
      "outputs": [
        {
          "output_type": "stream",
          "text": [
            "Mean error of 32 neuron linear model : 1.874\n"
          ],
          "name": "stdout"
        }
      ]
    },
    {
      "cell_type": "code",
      "metadata": {
        "id": "aZbgrf5Wz-Sq",
        "colab_type": "code",
        "outputId": "43903144-4771-41b6-cd23-3e34fea06118",
        "colab": {
          "base_uri": "https://localhost:8080/",
          "height": 221
        }
      },
      "source": [
        "n_32_relu_model = tf.keras.Sequential()\n",
        "n_32_relu_model.add(keras.layers.Dense(units=32, activation='relu', input_shape=[1]))\n",
        "n_32_relu_model.add(keras.layers.Dense(units=1))\n",
        "n_32_relu_model.compile(optimizer='sgd', loss='mean_squared_error')\n",
        "n_32_relu_model.summary()"
      ],
      "execution_count": 21,
      "outputs": [
        {
          "output_type": "stream",
          "text": [
            "Model: \"sequential_2\"\n",
            "_________________________________________________________________\n",
            "Layer (type)                 Output Shape              Param #   \n",
            "=================================================================\n",
            "dense_3 (Dense)              (None, 32)                64        \n",
            "_________________________________________________________________\n",
            "dense_4 (Dense)              (None, 1)                 33        \n",
            "=================================================================\n",
            "Total params: 97\n",
            "Trainable params: 97\n",
            "Non-trainable params: 0\n",
            "_________________________________________________________________\n"
          ],
          "name": "stdout"
        }
      ]
    },
    {
      "cell_type": "code",
      "metadata": {
        "id": "LhXUmvfn0S21",
        "colab_type": "code",
        "outputId": "de71c4c3-3732-46f8-cb5a-c354a5e1a22e",
        "colab": {
          "base_uri": "https://localhost:8080/",
          "height": 51
        }
      },
      "source": [
        "%time history = n_32_relu_model.fit(X, y, epochs=MAX_ITER, verbose=0, validation_data=(X_val,y_val), callbacks=[es_callback])"
      ],
      "execution_count": 22,
      "outputs": [
        {
          "output_type": "stream",
          "text": [
            "CPU times: user 3min 3s, sys: 8.38 s, total: 3min 12s\n",
            "Wall time: 2min 44s\n"
          ],
          "name": "stdout"
        }
      ]
    },
    {
      "cell_type": "code",
      "metadata": {
        "id": "9PWukvSX0fmO",
        "colab_type": "code",
        "outputId": "b7d390d3-018c-4b17-9a71-bfef5bceb110",
        "colab": {
          "base_uri": "https://localhost:8080/",
          "height": 378
        }
      },
      "source": [
        "pyplot.figure(num=None, figsize=(16, 6))\n",
        "pyplot.plot(history.history['loss'], label='train')\n",
        "pyplot.plot(history.history['val_loss'], label='validation')\n",
        "pyplot.legend()\n",
        "pyplot.xlim(0, MAX_ITER)\n",
        "pyplot.show()"
      ],
      "execution_count": 23,
      "outputs": [
        {
          "output_type": "display_data",
          "data": {
            "image/png": "[encoded data removed]",
            "text/plain": [
              "<Figure size 1152x432 with 1 Axes>"
            ]
          },
          "metadata": {
            "tags": []
          }
        }
      ]
    },
    {
      "cell_type": "code",
      "metadata": {
        "id": "LJyQ0NJw1LXA",
        "colab_type": "code",
        "colab": {}
      },
      "source": [
        "y_predict = n_32_relu_model.predict(X_test)"
      ],
      "execution_count": 0,
      "outputs": []
    },
    {
      "cell_type": "code",
      "metadata": {
        "id": "TkUdNgnZ1SvV",
        "colab_type": "code",
        "outputId": "fff0395b-218c-4421-9752-b23132c61484",
        "colab": {
          "base_uri": "https://localhost:8080/",
          "height": 204
        }
      },
      "source": [
        "pd.DataFrame({'input' : (X_test*MX_LIM).astype(\"float16\").flatten(),\n",
        "              'actual_answer' : (y_test*MX_LIM).astype(\"float16\").flatten(),\n",
        "              'answer_from_net':(y_predict*MX_LIM).astype(\"float16\").flatten()}).sample(5)"
      ],
      "execution_count": 25,
      "outputs": [
        {
          "output_type": "execute_result",
          "data": {
            "text/html": [
              "<div>\n",
              "<style scoped>\n",
              "    .dataframe tbody tr th:only-of-type {\n",
              "        vertical-align: middle;\n",
              "    }\n",
              "\n",
              "    .dataframe tbody tr th {\n",
              "        vertical-align: top;\n",
              "    }\n",
              "\n",
              "    .dataframe thead th {\n",
              "        text-align: right;\n",
              "    }\n",
              "</style>\n",
              "<table border=\"1\" class=\"dataframe\">\n",
              "  <thead>\n",
              "    <tr style=\"text-align: right;\">\n",
              "      <th></th>\n",
              "      <th>input</th>\n",
              "      <th>actual_answer</th>\n",
              "      <th>answer_from_net</th>\n",
              "    </tr>\n",
              "  </thead>\n",
              "  <tbody>\n",
              "    <tr>\n",
              "      <th>14</th>\n",
              "      <td>-2.111328</td>\n",
              "      <td>-2.894531</td>\n",
              "      <td>-2.894531</td>\n",
              "    </tr>\n",
              "    <tr>\n",
              "      <th>46</th>\n",
              "      <td>2.962891</td>\n",
              "      <td>8.585938</td>\n",
              "      <td>8.484375</td>\n",
              "    </tr>\n",
              "    <tr>\n",
              "      <th>30</th>\n",
              "      <td>-0.846680</td>\n",
              "      <td>-1.479492</td>\n",
              "      <td>-1.465820</td>\n",
              "    </tr>\n",
              "    <tr>\n",
              "      <th>19</th>\n",
              "      <td>-1.780273</td>\n",
              "      <td>-2.615234</td>\n",
              "      <td>-2.591797</td>\n",
              "    </tr>\n",
              "    <tr>\n",
              "      <th>42</th>\n",
              "      <td>-0.353027</td>\n",
              "      <td>-0.668945</td>\n",
              "      <td>-0.670898</td>\n",
              "    </tr>\n",
              "  </tbody>\n",
              "</table>\n",
              "</div>"
            ],
            "text/plain": [
              "       input  actual_answer  answer_from_net\n",
              "14 -2.111328      -2.894531        -2.894531\n",
              "46  2.962891       8.585938         8.484375\n",
              "30 -0.846680      -1.479492        -1.465820\n",
              "19 -1.780273      -2.615234        -2.591797\n",
              "42 -0.353027      -0.668945        -0.670898"
            ]
          },
          "metadata": {
            "tags": []
          },
          "execution_count": 25
        }
      ]
    },
    {
      "cell_type": "code",
      "metadata": {
        "id": "2l8C4Ltn1ZoN",
        "colab_type": "code",
        "outputId": "df88e0e2-4192-4fec-e96c-c8233588ede0",
        "colab": {
          "base_uri": "https://localhost:8080/",
          "height": 34
        }
      },
      "source": [
        "print('Mean error of 32 neuron non linear model : %.3f' % (mean_absolute_error(y_test, y_predict) * MX_LIM))"
      ],
      "execution_count": 26,
      "outputs": [
        {
          "output_type": "stream",
          "text": [
            "Mean error of 32 neuron non linear model : 0.058\n"
          ],
          "name": "stdout"
        }
      ]
    }
  ]
}